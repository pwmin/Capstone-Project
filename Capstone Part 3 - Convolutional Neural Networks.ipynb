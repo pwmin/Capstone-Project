{
 "cells": [
  {
   "cell_type": "markdown",
   "metadata": {},
   "source": [
    "# Capstone Part 3 - Convolutional Neural Networks\n",
    "___\n",
    "## Setup"
   ]
  },
  {
   "cell_type": "code",
   "execution_count": 1,
   "metadata": {},
   "outputs": [
    {
     "name": "stderr",
     "output_type": "stream",
     "text": [
      "Using TensorFlow backend.\n"
     ]
    }
   ],
   "source": [
    "# Basic packages\n",
    "import numpy as np\n",
    "import pandas as pd\n",
    "\n",
    "# For encoding the emotions as numbers\n",
    "from sklearn.preprocessing import LabelEncoder\n",
    "\n",
    "# For splitting the data into training and test sets\n",
    "from sklearn.model_selection import train_test_split\n",
    "\n",
    "# For scaling the data\n",
    "from sklearn.preprocessing import StandardScaler\n",
    "\n",
    "# Keras\n",
    "import keras\n",
    "from keras.models import Sequential\n",
    "from keras.layers import Conv1D, Conv2D, MaxPooling1D, MaxPooling2D, Dropout, Flatten, Dense # I will try both 1D and 2D, reshaping the data as necessary\n",
    "\n",
    "# For visualizations\n",
    "import matplotlib.pyplot as plt\n",
    "%matplotlib inline\n",
    "\n",
    "# For model evaluation\n",
    "from sklearn.metrics import confusion_matrix\n",
    "from sklearn.metrics import classification_report\n",
    "\n",
    "# Loading in the finished dataframe from part 1\n",
    "ravdess_mfcc_df = pd.read_csv('C:/Users/Patrick/Documents/Capstone Data/ravdess_mfcc.csv')"
   ]
  },
  {
   "cell_type": "markdown",
   "metadata": {},
   "source": [
    "___\n",
    "# Building CNNs for Classifying Emotion for Males\n",
    "For the initial CNN, I will try a variation of the architecture I learned in class, which used 2D convolution. In my case, I will use 1D convolution. Afterwards I will reshape the data and try 2D convolution to see if there is a difference."
   ]
  },
  {
   "cell_type": "code",
   "execution_count": 2,
   "metadata": {},
   "outputs": [
    {
     "data": {
      "text/html": [
       "<div>\n",
       "<style scoped>\n",
       "    .dataframe tbody tr th:only-of-type {\n",
       "        vertical-align: middle;\n",
       "    }\n",
       "\n",
       "    .dataframe tbody tr th {\n",
       "        vertical-align: top;\n",
       "    }\n",
       "\n",
       "    .dataframe thead th {\n",
       "        text-align: right;\n",
       "    }\n",
       "</style>\n",
       "<table border=\"1\" class=\"dataframe\">\n",
       "  <thead>\n",
       "    <tr style=\"text-align: right;\">\n",
       "      <th></th>\n",
       "      <th>0</th>\n",
       "      <th>1</th>\n",
       "      <th>2</th>\n",
       "      <th>3</th>\n",
       "      <th>4</th>\n",
       "      <th>5</th>\n",
       "      <th>6</th>\n",
       "      <th>7</th>\n",
       "      <th>8</th>\n",
       "      <th>9</th>\n",
       "      <th>...</th>\n",
       "      <th>2592</th>\n",
       "      <th>2593</th>\n",
       "      <th>2594</th>\n",
       "      <th>2595</th>\n",
       "      <th>2596</th>\n",
       "      <th>2597</th>\n",
       "      <th>2598</th>\n",
       "      <th>2599</th>\n",
       "      <th>Gender</th>\n",
       "      <th>Emotion</th>\n",
       "    </tr>\n",
       "  </thead>\n",
       "  <tbody>\n",
       "    <tr>\n",
       "      <th>0</th>\n",
       "      <td>-857.309453</td>\n",
       "      <td>-857.309453</td>\n",
       "      <td>-857.309453</td>\n",
       "      <td>-857.309453</td>\n",
       "      <td>-857.309453</td>\n",
       "      <td>-857.309453</td>\n",
       "      <td>-857.309453</td>\n",
       "      <td>-857.165711</td>\n",
       "      <td>-857.309453</td>\n",
       "      <td>-857.309453</td>\n",
       "      <td>...</td>\n",
       "      <td>1.546741</td>\n",
       "      <td>1.982412</td>\n",
       "      <td>2.188718</td>\n",
       "      <td>2.742868</td>\n",
       "      <td>0.987672</td>\n",
       "      <td>1.042513</td>\n",
       "      <td>1.416731</td>\n",
       "      <td>0.817693</td>\n",
       "      <td>male</td>\n",
       "      <td>neutral</td>\n",
       "    </tr>\n",
       "    <tr>\n",
       "      <th>1</th>\n",
       "      <td>-864.890286</td>\n",
       "      <td>-864.890286</td>\n",
       "      <td>-864.890286</td>\n",
       "      <td>-864.890286</td>\n",
       "      <td>-861.939471</td>\n",
       "      <td>-860.492254</td>\n",
       "      <td>-863.877686</td>\n",
       "      <td>-862.146948</td>\n",
       "      <td>-860.825373</td>\n",
       "      <td>-862.288360</td>\n",
       "      <td>...</td>\n",
       "      <td>0.760483</td>\n",
       "      <td>0.900741</td>\n",
       "      <td>0.000000</td>\n",
       "      <td>0.000000</td>\n",
       "      <td>0.000000</td>\n",
       "      <td>0.000000</td>\n",
       "      <td>0.000000</td>\n",
       "      <td>0.000000</td>\n",
       "      <td>male</td>\n",
       "      <td>neutral</td>\n",
       "    </tr>\n",
       "    <tr>\n",
       "      <th>2</th>\n",
       "      <td>-849.445433</td>\n",
       "      <td>-848.003746</td>\n",
       "      <td>-844.977418</td>\n",
       "      <td>-848.275738</td>\n",
       "      <td>-847.952191</td>\n",
       "      <td>-847.026382</td>\n",
       "      <td>-849.022875</td>\n",
       "      <td>-848.187830</td>\n",
       "      <td>-851.179822</td>\n",
       "      <td>-852.391785</td>\n",
       "      <td>...</td>\n",
       "      <td>0.000000</td>\n",
       "      <td>0.000000</td>\n",
       "      <td>0.000000</td>\n",
       "      <td>0.000000</td>\n",
       "      <td>0.000000</td>\n",
       "      <td>0.056836</td>\n",
       "      <td>0.000000</td>\n",
       "      <td>0.000000</td>\n",
       "      <td>male</td>\n",
       "      <td>neutral</td>\n",
       "    </tr>\n",
       "    <tr>\n",
       "      <th>3</th>\n",
       "      <td>-832.734397</td>\n",
       "      <td>-836.552680</td>\n",
       "      <td>-834.580541</td>\n",
       "      <td>-827.005858</td>\n",
       "      <td>-830.058798</td>\n",
       "      <td>-831.195983</td>\n",
       "      <td>-839.331695</td>\n",
       "      <td>-838.307510</td>\n",
       "      <td>-834.128916</td>\n",
       "      <td>-839.040966</td>\n",
       "      <td>...</td>\n",
       "      <td>0.098864</td>\n",
       "      <td>0.972775</td>\n",
       "      <td>1.156853</td>\n",
       "      <td>1.185786</td>\n",
       "      <td>0.808819</td>\n",
       "      <td>0.931570</td>\n",
       "      <td>0.595077</td>\n",
       "      <td>-0.121792</td>\n",
       "      <td>male</td>\n",
       "      <td>neutral</td>\n",
       "    </tr>\n",
       "    <tr>\n",
       "      <th>4</th>\n",
       "      <td>-903.185111</td>\n",
       "      <td>-903.185111</td>\n",
       "      <td>-903.185111</td>\n",
       "      <td>-903.185111</td>\n",
       "      <td>-903.185111</td>\n",
       "      <td>-903.185111</td>\n",
       "      <td>-903.148748</td>\n",
       "      <td>-903.185111</td>\n",
       "      <td>-903.185111</td>\n",
       "      <td>-903.185111</td>\n",
       "      <td>...</td>\n",
       "      <td>0.217088</td>\n",
       "      <td>1.191406</td>\n",
       "      <td>1.323715</td>\n",
       "      <td>0.000000</td>\n",
       "      <td>0.630213</td>\n",
       "      <td>0.166922</td>\n",
       "      <td>0.312804</td>\n",
       "      <td>0.000000</td>\n",
       "      <td>male</td>\n",
       "      <td>calm</td>\n",
       "    </tr>\n",
       "    <tr>\n",
       "      <th>...</th>\n",
       "      <td>...</td>\n",
       "      <td>...</td>\n",
       "      <td>...</td>\n",
       "      <td>...</td>\n",
       "      <td>...</td>\n",
       "      <td>...</td>\n",
       "      <td>...</td>\n",
       "      <td>...</td>\n",
       "      <td>...</td>\n",
       "      <td>...</td>\n",
       "      <td>...</td>\n",
       "      <td>...</td>\n",
       "      <td>...</td>\n",
       "      <td>...</td>\n",
       "      <td>...</td>\n",
       "      <td>...</td>\n",
       "      <td>...</td>\n",
       "      <td>...</td>\n",
       "      <td>...</td>\n",
       "      <td>...</td>\n",
       "      <td>...</td>\n",
       "    </tr>\n",
       "    <tr>\n",
       "      <th>713</th>\n",
       "      <td>-704.004406</td>\n",
       "      <td>-703.014570</td>\n",
       "      <td>-702.031038</td>\n",
       "      <td>-703.328468</td>\n",
       "      <td>-703.912309</td>\n",
       "      <td>-703.765455</td>\n",
       "      <td>-704.655862</td>\n",
       "      <td>-704.481680</td>\n",
       "      <td>-703.788671</td>\n",
       "      <td>-702.783204</td>\n",
       "      <td>...</td>\n",
       "      <td>0.000000</td>\n",
       "      <td>0.000000</td>\n",
       "      <td>0.000000</td>\n",
       "      <td>0.000000</td>\n",
       "      <td>0.045276</td>\n",
       "      <td>0.192656</td>\n",
       "      <td>0.852603</td>\n",
       "      <td>0.690963</td>\n",
       "      <td>male</td>\n",
       "      <td>surprised</td>\n",
       "    </tr>\n",
       "    <tr>\n",
       "      <th>714</th>\n",
       "      <td>-696.685285</td>\n",
       "      <td>-696.643536</td>\n",
       "      <td>-696.814208</td>\n",
       "      <td>-696.310705</td>\n",
       "      <td>-695.800097</td>\n",
       "      <td>-696.338568</td>\n",
       "      <td>-697.214325</td>\n",
       "      <td>-697.745507</td>\n",
       "      <td>-697.431831</td>\n",
       "      <td>-697.506973</td>\n",
       "      <td>...</td>\n",
       "      <td>0.000000</td>\n",
       "      <td>0.059871</td>\n",
       "      <td>0.004736</td>\n",
       "      <td>0.120239</td>\n",
       "      <td>1.189020</td>\n",
       "      <td>0.927918</td>\n",
       "      <td>0.000000</td>\n",
       "      <td>0.000000</td>\n",
       "      <td>male</td>\n",
       "      <td>surprised</td>\n",
       "    </tr>\n",
       "    <tr>\n",
       "      <th>715</th>\n",
       "      <td>-692.801891</td>\n",
       "      <td>-692.803866</td>\n",
       "      <td>-693.082432</td>\n",
       "      <td>-693.371465</td>\n",
       "      <td>-693.371465</td>\n",
       "      <td>-693.371465</td>\n",
       "      <td>-693.371465</td>\n",
       "      <td>-693.351801</td>\n",
       "      <td>-692.287004</td>\n",
       "      <td>-692.734244</td>\n",
       "      <td>...</td>\n",
       "      <td>0.668347</td>\n",
       "      <td>0.486409</td>\n",
       "      <td>0.601826</td>\n",
       "      <td>0.474456</td>\n",
       "      <td>0.194573</td>\n",
       "      <td>0.030500</td>\n",
       "      <td>0.000000</td>\n",
       "      <td>0.118997</td>\n",
       "      <td>male</td>\n",
       "      <td>surprised</td>\n",
       "    </tr>\n",
       "    <tr>\n",
       "      <th>716</th>\n",
       "      <td>-669.158136</td>\n",
       "      <td>-669.158136</td>\n",
       "      <td>-669.158136</td>\n",
       "      <td>-669.158136</td>\n",
       "      <td>-669.158136</td>\n",
       "      <td>-669.158136</td>\n",
       "      <td>-669.158136</td>\n",
       "      <td>-669.158136</td>\n",
       "      <td>-669.158136</td>\n",
       "      <td>-669.158136</td>\n",
       "      <td>...</td>\n",
       "      <td>0.375527</td>\n",
       "      <td>0.331931</td>\n",
       "      <td>0.036515</td>\n",
       "      <td>0.000000</td>\n",
       "      <td>0.000000</td>\n",
       "      <td>0.000000</td>\n",
       "      <td>0.000000</td>\n",
       "      <td>0.000000</td>\n",
       "      <td>male</td>\n",
       "      <td>surprised</td>\n",
       "    </tr>\n",
       "    <tr>\n",
       "      <th>717</th>\n",
       "      <td>-693.055253</td>\n",
       "      <td>-693.055253</td>\n",
       "      <td>-693.055253</td>\n",
       "      <td>-692.916251</td>\n",
       "      <td>-692.413267</td>\n",
       "      <td>-692.632421</td>\n",
       "      <td>-693.055253</td>\n",
       "      <td>-693.055253</td>\n",
       "      <td>-693.055253</td>\n",
       "      <td>-693.055253</td>\n",
       "      <td>...</td>\n",
       "      <td>0.098310</td>\n",
       "      <td>0.000184</td>\n",
       "      <td>0.231602</td>\n",
       "      <td>0.421240</td>\n",
       "      <td>0.000000</td>\n",
       "      <td>0.000000</td>\n",
       "      <td>0.000000</td>\n",
       "      <td>0.000000</td>\n",
       "      <td>male</td>\n",
       "      <td>surprised</td>\n",
       "    </tr>\n",
       "  </tbody>\n",
       "</table>\n",
       "<p>718 rows × 2602 columns</p>\n",
       "</div>"
      ],
      "text/plain": [
       "              0           1           2           3           4           5  \\\n",
       "0   -857.309453 -857.309453 -857.309453 -857.309453 -857.309453 -857.309453   \n",
       "1   -864.890286 -864.890286 -864.890286 -864.890286 -861.939471 -860.492254   \n",
       "2   -849.445433 -848.003746 -844.977418 -848.275738 -847.952191 -847.026382   \n",
       "3   -832.734397 -836.552680 -834.580541 -827.005858 -830.058798 -831.195983   \n",
       "4   -903.185111 -903.185111 -903.185111 -903.185111 -903.185111 -903.185111   \n",
       "..          ...         ...         ...         ...         ...         ...   \n",
       "713 -704.004406 -703.014570 -702.031038 -703.328468 -703.912309 -703.765455   \n",
       "714 -696.685285 -696.643536 -696.814208 -696.310705 -695.800097 -696.338568   \n",
       "715 -692.801891 -692.803866 -693.082432 -693.371465 -693.371465 -693.371465   \n",
       "716 -669.158136 -669.158136 -669.158136 -669.158136 -669.158136 -669.158136   \n",
       "717 -693.055253 -693.055253 -693.055253 -692.916251 -692.413267 -692.632421   \n",
       "\n",
       "              6           7           8           9  ...      2592      2593  \\\n",
       "0   -857.309453 -857.165711 -857.309453 -857.309453  ...  1.546741  1.982412   \n",
       "1   -863.877686 -862.146948 -860.825373 -862.288360  ...  0.760483  0.900741   \n",
       "2   -849.022875 -848.187830 -851.179822 -852.391785  ...  0.000000  0.000000   \n",
       "3   -839.331695 -838.307510 -834.128916 -839.040966  ...  0.098864  0.972775   \n",
       "4   -903.148748 -903.185111 -903.185111 -903.185111  ...  0.217088  1.191406   \n",
       "..          ...         ...         ...         ...  ...       ...       ...   \n",
       "713 -704.655862 -704.481680 -703.788671 -702.783204  ...  0.000000  0.000000   \n",
       "714 -697.214325 -697.745507 -697.431831 -697.506973  ...  0.000000  0.059871   \n",
       "715 -693.371465 -693.351801 -692.287004 -692.734244  ...  0.668347  0.486409   \n",
       "716 -669.158136 -669.158136 -669.158136 -669.158136  ...  0.375527  0.331931   \n",
       "717 -693.055253 -693.055253 -693.055253 -693.055253  ...  0.098310  0.000184   \n",
       "\n",
       "         2594      2595      2596      2597      2598      2599  Gender  \\\n",
       "0    2.188718  2.742868  0.987672  1.042513  1.416731  0.817693    male   \n",
       "1    0.000000  0.000000  0.000000  0.000000  0.000000  0.000000    male   \n",
       "2    0.000000  0.000000  0.000000  0.056836  0.000000  0.000000    male   \n",
       "3    1.156853  1.185786  0.808819  0.931570  0.595077 -0.121792    male   \n",
       "4    1.323715  0.000000  0.630213  0.166922  0.312804  0.000000    male   \n",
       "..        ...       ...       ...       ...       ...       ...     ...   \n",
       "713  0.000000  0.000000  0.045276  0.192656  0.852603  0.690963    male   \n",
       "714  0.004736  0.120239  1.189020  0.927918  0.000000  0.000000    male   \n",
       "715  0.601826  0.474456  0.194573  0.030500  0.000000  0.118997    male   \n",
       "716  0.036515  0.000000  0.000000  0.000000  0.000000  0.000000    male   \n",
       "717  0.231602  0.421240  0.000000  0.000000  0.000000  0.000000    male   \n",
       "\n",
       "       Emotion  \n",
       "0      neutral  \n",
       "1      neutral  \n",
       "2      neutral  \n",
       "3      neutral  \n",
       "4         calm  \n",
       "..         ...  \n",
       "713  surprised  \n",
       "714  surprised  \n",
       "715  surprised  \n",
       "716  surprised  \n",
       "717  surprised  \n",
       "\n",
       "[718 rows x 2602 columns]"
      ]
     },
     "execution_count": 2,
     "metadata": {},
     "output_type": "execute_result"
    }
   ],
   "source": [
    "# Making a new dataframe that contains only male recordings\n",
    "ravdess_mfcc_m_df = ravdess_mfcc_df[ravdess_mfcc_df['Gender'] == 'male'].reset_index().drop('index', axis=1)\n",
    "ravdess_mfcc_m_df"
   ]
  },
  {
   "cell_type": "code",
   "execution_count": 180,
   "metadata": {},
   "outputs": [],
   "source": [
    "# Splitting the dataframe into features and target\n",
    "# This time, for simplicity, I will just name the variables X and y instead of Xm and em\n",
    "X = ravdess_mfcc_m_df.iloc[:, :-2]\n",
    "y = ravdess_mfcc_m_df['Emotion']"
   ]
  },
  {
   "cell_type": "code",
   "execution_count": 181,
   "metadata": {},
   "outputs": [
    {
     "data": {
      "text/plain": [
       "array([5, 5, 5, 5, 1, 1, 1, 1, 1, 1, 1, 1, 4, 4, 4, 4, 4, 4, 4, 4, 6, 6,\n",
       "       6, 6, 6, 6, 6, 6, 0, 0, 0, 0, 0, 0, 0, 0, 3, 3, 3, 3, 3, 3, 3, 3,\n",
       "       2, 2, 2, 2, 2, 2, 2, 2, 7, 7, 7, 7, 7, 7, 7, 7, 5, 5, 5, 5, 1, 1,\n",
       "       1, 1, 1, 1, 1, 1, 4, 4, 4, 4, 4, 4, 4, 4, 6, 6, 6, 6, 6, 6, 6, 6,\n",
       "       0, 0, 0, 0, 0, 0, 0, 0, 3, 3, 3, 3, 3, 3, 3, 3, 2, 2, 2, 2, 2, 2,\n",
       "       2, 2, 7, 7, 7, 7, 7, 7, 7, 7, 5, 5, 5, 5, 1, 1, 1, 1, 1, 1, 1, 1,\n",
       "       4, 4, 4, 4, 4, 4, 4, 4, 6, 6, 6, 6, 6, 6, 6, 6, 0, 0, 0, 0, 0, 0,\n",
       "       0, 0, 3, 3, 3, 3, 3, 3, 3, 3, 2, 2, 2, 2, 2, 2, 2, 2, 7, 7, 7, 7,\n",
       "       7, 7, 7, 7, 5, 5, 5, 5, 1, 1, 1, 1, 1, 1, 1, 1, 4, 4, 4, 4, 4, 4,\n",
       "       4, 4, 6, 6, 6, 6, 6, 6, 6, 6, 0, 0, 0, 0, 0, 0, 0, 0, 3, 3, 3, 3,\n",
       "       3, 3, 3, 3, 2, 2, 2, 2, 2, 2, 2, 2, 7, 7, 7, 7, 7, 7, 7, 7, 5, 5,\n",
       "       5, 5, 1, 1, 1, 1, 1, 1, 1, 1, 4, 4, 4, 4, 4, 4, 4, 4, 6, 6, 6, 6,\n",
       "       6, 6, 6, 6, 0, 0, 0, 0, 0, 0, 0, 0, 3, 3, 3, 3, 3, 3, 3, 3, 2, 2,\n",
       "       2, 2, 2, 2, 2, 2, 7, 7, 7, 7, 7, 7, 7, 7, 5, 5, 5, 5, 1, 1, 1, 1,\n",
       "       1, 1, 1, 1, 4, 4, 4, 4, 4, 4, 4, 4, 6, 6, 6, 6, 6, 6, 6, 6, 0, 0,\n",
       "       0, 0, 0, 0, 0, 0, 3, 3, 3, 3, 3, 3, 3, 3, 2, 2, 2, 2, 2, 2, 2, 2,\n",
       "       7, 7, 7, 7, 7, 7, 7, 5, 5, 5, 5, 1, 1, 1, 1, 1, 1, 1, 4, 4, 4, 4,\n",
       "       4, 4, 4, 4, 6, 6, 6, 6, 6, 6, 6, 6, 0, 0, 0, 0, 0, 0, 0, 0, 3, 3,\n",
       "       3, 3, 3, 3, 3, 3, 2, 2, 2, 2, 2, 2, 2, 2, 7, 7, 7, 7, 7, 7, 7, 7,\n",
       "       5, 5, 5, 5, 1, 1, 1, 1, 1, 1, 1, 1, 4, 4, 4, 4, 4, 4, 4, 4, 6, 6,\n",
       "       6, 6, 6, 6, 6, 6, 0, 0, 0, 0, 0, 0, 0, 0, 3, 3, 3, 3, 3, 3, 3, 3,\n",
       "       2, 2, 2, 2, 2, 2, 2, 2, 7, 7, 7, 7, 7, 7, 7, 7, 5, 5, 5, 5, 1, 1,\n",
       "       1, 1, 1, 1, 1, 1, 4, 4, 4, 4, 4, 4, 4, 4, 6, 6, 6, 6, 6, 6, 6, 6,\n",
       "       0, 0, 0, 0, 0, 0, 0, 0, 3, 3, 3, 3, 3, 3, 3, 3, 2, 2, 2, 2, 2, 2,\n",
       "       2, 2, 7, 7, 7, 7, 7, 7, 7, 7, 5, 5, 5, 5, 1, 1, 1, 1, 1, 1, 1, 1,\n",
       "       4, 4, 4, 4, 4, 4, 4, 4, 6, 6, 6, 6, 6, 6, 6, 6, 0, 0, 0, 0, 0, 0,\n",
       "       0, 0, 3, 3, 3, 3, 3, 3, 3, 3, 2, 2, 2, 2, 2, 2, 2, 2, 7, 7, 7, 7,\n",
       "       7, 7, 7, 7, 5, 5, 5, 5, 1, 1, 1, 1, 1, 1, 1, 1, 4, 4, 4, 4, 4, 4,\n",
       "       4, 4, 6, 6, 6, 6, 6, 6, 6, 6, 0, 0, 0, 0, 0, 0, 0, 0, 3, 3, 3, 3,\n",
       "       3, 3, 3, 3, 2, 2, 2, 2, 2, 2, 2, 2, 7, 7, 7, 7, 7, 7, 7, 7, 5, 5,\n",
       "       5, 5, 1, 1, 1, 1, 1, 1, 1, 1, 4, 4, 4, 4, 4, 4, 4, 4, 6, 6, 6, 6,\n",
       "       6, 6, 6, 6, 0, 0, 0, 0, 0, 0, 0, 0, 3, 3, 3, 3, 3, 3, 3, 3, 2, 2,\n",
       "       2, 2, 2, 2, 2, 2, 7, 7, 7, 7, 7, 7, 7, 7])"
      ]
     },
     "execution_count": 181,
     "metadata": {},
     "output_type": "execute_result"
    }
   ],
   "source": [
    "# Encoding the emotions\n",
    "emotion_encoder = LabelEncoder()\n",
    "y = emotion_encoder.fit_transform(y)\n",
    "\n",
    "# Checking the results\n",
    "y"
   ]
  },
  {
   "cell_type": "code",
   "execution_count": 182,
   "metadata": {},
   "outputs": [
    {
     "name": "stdout",
     "output_type": "stream",
     "text": [
      "0 represents angry.\n",
      "1 represents calm.\n",
      "2 represents disgusted.\n",
      "3 represents fearful.\n",
      "4 represents happy.\n",
      "5 represents neutral.\n",
      "6 represents sad.\n",
      "7 represents surprised.\n"
     ]
    }
   ],
   "source": [
    "# Which number represents which emotion?\n",
    "for num in np.unique(y):\n",
    "    print(f'{num} represents {emotion_encoder.inverse_transform([num])[0]}.')"
   ]
  },
  {
   "cell_type": "code",
   "execution_count": 183,
   "metadata": {},
   "outputs": [
    {
     "name": "stdout",
     "output_type": "stream",
     "text": [
      "0 represents angry.\n",
      "1 represents calm.\n",
      "2 represents disgusted.\n",
      "3 represents fearful.\n",
      "4 represents happy.\n",
      "5 represents neutral.\n",
      "6 represents sad.\n",
      "7 represents surprised.\n"
     ]
    }
   ],
   "source": [
    "# Alternative to the above\n",
    "for num, emotion in enumerate(emotion_encoder.classes_):\n",
    "    print(f'{num} represents {emotion}.')"
   ]
  },
  {
   "cell_type": "code",
   "execution_count": 184,
   "metadata": {},
   "outputs": [
    {
     "name": "stdout",
     "output_type": "stream",
     "text": [
      "Training set:\n",
      "(401, 2600)\n",
      "(401,)\n",
      "\n",
      "Validation set:\n",
      "(173, 2600)\n",
      "(173,)\n",
      "\n",
      "Test set:\n",
      "(144, 2600)\n",
      "(144,)\n"
     ]
    }
   ],
   "source": [
    "# Splitting the data into remainder and test sets\n",
    "X_remainder, X_test, y_remainder, y_test = train_test_split(X, y, test_size=0.2, stratify=y, random_state=1)\n",
    "\n",
    "# Splitting the remainder further into training and validation sets\n",
    "X_train, X_val, y_train, y_val = train_test_split(X_remainder, y_remainder, test_size=0.3, stratify=y_remainder, random_state=1)\n",
    "\n",
    "# Checking the shapes\n",
    "print('Training set:')\n",
    "print(X_train.shape)\n",
    "print(y_train.shape)\n",
    "print()\n",
    "print('Validation set:')\n",
    "print(X_val.shape)\n",
    "print(y_val.shape)\n",
    "print()\n",
    "print('Test set:')\n",
    "print(X_test.shape)\n",
    "print(y_test.shape)"
   ]
  },
  {
   "cell_type": "code",
   "execution_count": 137,
   "metadata": {},
   "outputs": [],
   "source": [
    "# Standard scaling\n",
    "\n",
    "# Instantiate the scaler and fit to X_train\n",
    "scaler = StandardScaler().fit(X_train)\n",
    "\n",
    "# Transform X_train\n",
    "X_train = scaler.transform(X_train)\n",
    "\n",
    "# Transform X_val\n",
    "X_val = scaler.transform(X_val)\n",
    "\n",
    "# Transform X_test\n",
    "X_test = scaler.transform(X_test)"
   ]
  },
  {
   "cell_type": "markdown",
   "metadata": {},
   "source": [
    "Now I will build a 1D CNN."
   ]
  },
  {
   "cell_type": "code",
   "execution_count": 138,
   "metadata": {},
   "outputs": [
    {
     "name": "stdout",
     "output_type": "stream",
     "text": [
      "Shape of reshaped X_train_1d: (401, 2600, 1)\n",
      "Shape of reshaped X_val_1d: (173, 2600, 1)\n",
      "Shape of reshaped X_test_1d: (144, 2600, 1)\n"
     ]
    }
   ],
   "source": [
    "# Reshaping the scaled Xs for use in the 1D CNN\n",
    "X_train_1d = X_train.reshape(401, 2600, 1)\n",
    "X_val_1d = X_val.reshape(173, 2600, 1)\n",
    "X_test_1d = X_test.reshape(144, 2600, 1)\n",
    "\n",
    "# Checking the shapes\n",
    "print('Shape of reshaped X_train_1d:', X_train_1d.shape)\n",
    "print('Shape of reshaped X_val_1d:', X_val_1d.shape)\n",
    "print('Shape of reshaped X_test_1d:', X_test_1d.shape)"
   ]
  },
  {
   "cell_type": "code",
   "execution_count": 10,
   "metadata": {
    "colab": {},
    "colab_type": "code",
    "id": "3sWTAODoMOia",
    "outputId": "2c3c0f10-216b-4932-d733-89449efb78a1"
   },
   "outputs": [
    {
     "name": "stdout",
     "output_type": "stream",
     "text": [
      "_________________________________________________________________\n",
      "Layer (type)                 Output Shape              Param #   \n",
      "=================================================================\n",
      "conv1d_1 (Conv1D)            (None, 2598, 32)          128       \n",
      "_________________________________________________________________\n",
      "conv1d_2 (Conv1D)            (None, 2596, 64)          6208      \n",
      "_________________________________________________________________\n",
      "max_pooling1d_1 (MaxPooling1 (None, 1298, 64)          0         \n",
      "_________________________________________________________________\n",
      "dropout_1 (Dropout)          (None, 1298, 64)          0         \n",
      "_________________________________________________________________\n",
      "flatten_1 (Flatten)          (None, 83072)             0         \n",
      "_________________________________________________________________\n",
      "dense_1 (Dense)              (None, 128)               10633344  \n",
      "_________________________________________________________________\n",
      "dropout_2 (Dropout)          (None, 128)               0         \n",
      "_________________________________________________________________\n",
      "dense_2 (Dense)              (None, 8)                 1032      \n",
      "=================================================================\n",
      "Total params: 10,640,712\n",
      "Trainable params: 10,640,712\n",
      "Non-trainable params: 0\n",
      "_________________________________________________________________\n"
     ]
    }
   ],
   "source": [
    "# Setting up the 1D CNN\n",
    "cnn_1d = Sequential()\n",
    "\n",
    "# 32 convolutions\n",
    "cnn_1d.add(Conv1D(filters=32, kernel_size=3, activation='relu', input_shape=(2600, 1)))\n",
    "\n",
    "# 64 convolutions\n",
    "cnn_1d.add(Conv1D(filters=64, kernel_size=3, activation='relu'))\n",
    "\n",
    "# Max pooling for dimensionality reduction; reducing noise to pick up on the strongest patterns\n",
    "cnn_1d.add(MaxPooling1D(pool_size=2))\n",
    "\n",
    "# Dropout to help prevent overfitting\n",
    "cnn_1d.add(Dropout(rate=0.25))\n",
    "\n",
    "# Flatten to a one-dimensional array\n",
    "cnn_1d.add(Flatten())\n",
    "\n",
    "# Fully connected layer\n",
    "cnn_1d.add(Dense(units=128, activation='relu'))\n",
    "\n",
    "# More dropout\n",
    "cnn_1d.add(Dropout(rate=0.5))\n",
    "\n",
    "# Last dense layer with number of units equal to the number of different emotions\n",
    "cnn_1d.add(Dense(units=8, activation='softmax'))\n",
    "\n",
    "# Summary\n",
    "cnn_1d.summary()"
   ]
  },
  {
   "cell_type": "code",
   "execution_count": 11,
   "metadata": {
    "colab": {},
    "colab_type": "code",
    "id": "NFs2-YDbMOic"
   },
   "outputs": [],
   "source": [
    "# Compiling the CNN with the desired loss function, optimizer, and metric to optimize\n",
    "cnn_1d.compile(loss='sparse_categorical_crossentropy', optimizer='Adam', metrics=['accuracy'])"
   ]
  },
  {
   "cell_type": "code",
   "execution_count": 12,
   "metadata": {
    "colab": {},
    "colab_type": "code",
    "id": "4y69Z1a1MOih",
    "outputId": "7e3bde36-a6db-4f27-a320-9245933beab6"
   },
   "outputs": [
    {
     "name": "stdout",
     "output_type": "stream",
     "text": [
      "Train on 401 samples, validate on 173 samples\n",
      "Epoch 1/25\n",
      "401/401 [==============================] - 8s 20ms/step - loss: 2.6700 - acc: 0.1845 - val_loss: 1.9208 - val_acc: 0.2832\n",
      "Epoch 2/25\n",
      "401/401 [==============================] - 8s 19ms/step - loss: 1.7971 - acc: 0.3641 - val_loss: 1.8109 - val_acc: 0.3468\n",
      "Epoch 3/25\n",
      "401/401 [==============================] - 7s 18ms/step - loss: 1.5427 - acc: 0.4539 - val_loss: 1.6187 - val_acc: 0.3931\n",
      "Epoch 4/25\n",
      "401/401 [==============================] - 8s 19ms/step - loss: 1.2303 - acc: 0.5586 - val_loss: 1.5328 - val_acc: 0.4624\n",
      "Epoch 5/25\n",
      "401/401 [==============================] - 7s 18ms/step - loss: 0.9244 - acc: 0.6858 - val_loss: 1.5315 - val_acc: 0.4740\n",
      "Epoch 6/25\n",
      "401/401 [==============================] - 7s 18ms/step - loss: 0.7068 - acc: 0.7406 - val_loss: 1.5598 - val_acc: 0.4162\n",
      "Epoch 7/25\n",
      "401/401 [==============================] - 7s 18ms/step - loss: 0.4114 - acc: 0.8678 - val_loss: 1.5618 - val_acc: 0.5260\n",
      "Epoch 8/25\n",
      "401/401 [==============================] - 8s 19ms/step - loss: 0.3553 - acc: 0.8853 - val_loss: 1.5302 - val_acc: 0.4566\n",
      "Epoch 9/25\n",
      "401/401 [==============================] - 8s 19ms/step - loss: 0.2189 - acc: 0.9501 - val_loss: 1.6747 - val_acc: 0.5145\n",
      "Epoch 10/25\n",
      "401/401 [==============================] - 7s 18ms/step - loss: 0.2257 - acc: 0.9252 - val_loss: 1.6380 - val_acc: 0.4913\n",
      "Epoch 11/25\n",
      "401/401 [==============================] - 8s 19ms/step - loss: 0.1683 - acc: 0.9451 - val_loss: 1.6176 - val_acc: 0.4971\n",
      "Epoch 12/25\n",
      "401/401 [==============================] - 7s 18ms/step - loss: 0.1220 - acc: 0.9651 - val_loss: 1.8597 - val_acc: 0.4740\n",
      "Epoch 13/25\n",
      "401/401 [==============================] - 7s 19ms/step - loss: 0.1512 - acc: 0.9476 - val_loss: 1.7335 - val_acc: 0.4855\n",
      "Epoch 14/25\n",
      "401/401 [==============================] - 7s 17ms/step - loss: 0.1045 - acc: 0.9726 - val_loss: 1.7777 - val_acc: 0.5260\n",
      "Epoch 15/25\n",
      "401/401 [==============================] - 7s 18ms/step - loss: 0.1018 - acc: 0.9651 - val_loss: 1.8423 - val_acc: 0.4913\n",
      "Epoch 16/25\n",
      "401/401 [==============================] - 7s 17ms/step - loss: 0.0890 - acc: 0.9800 - val_loss: 1.8391 - val_acc: 0.5202\n",
      "Epoch 17/25\n",
      "401/401 [==============================] - 7s 18ms/step - loss: 0.0605 - acc: 0.9825 - val_loss: 1.9190 - val_acc: 0.4798\n",
      "Epoch 18/25\n",
      "401/401 [==============================] - 7s 18ms/step - loss: 0.0684 - acc: 0.9751 - val_loss: 1.8716 - val_acc: 0.5202\n",
      "Epoch 19/25\n",
      "401/401 [==============================] - 8s 20ms/step - loss: 0.1021 - acc: 0.9701 - val_loss: 1.7373 - val_acc: 0.5491\n",
      "Epoch 20/25\n",
      "401/401 [==============================] - 8s 20ms/step - loss: 0.0698 - acc: 0.9776 - val_loss: 1.8703 - val_acc: 0.5145\n",
      "Epoch 21/25\n",
      "401/401 [==============================] - 7s 18ms/step - loss: 0.0464 - acc: 0.9900 - val_loss: 2.0075 - val_acc: 0.5202\n",
      "Epoch 22/25\n",
      "401/401 [==============================] - 8s 19ms/step - loss: 0.0723 - acc: 0.9701 - val_loss: 2.0389 - val_acc: 0.4971\n",
      "Epoch 23/25\n",
      "401/401 [==============================] - 7s 18ms/step - loss: 0.0592 - acc: 0.9850 - val_loss: 2.0452 - val_acc: 0.5260\n",
      "Epoch 24/25\n",
      "401/401 [==============================] - 8s 20ms/step - loss: 0.0526 - acc: 0.9900 - val_loss: 1.9720 - val_acc: 0.4855\n",
      "Epoch 25/25\n",
      "401/401 [==============================] - 8s 19ms/step - loss: 0.0431 - acc: 0.9825 - val_loss: 2.1228 - val_acc: 0.4855\n"
     ]
    }
   ],
   "source": [
    "# Fitting the CNN\n",
    "cnn_1d_history = cnn_1d.fit(x=X_train_1d, y=y_train, epochs=25, verbose=1, validation_data=(X_val_1d, y_val))"
   ]
  },
  {
   "cell_type": "code",
   "execution_count": 37,
   "metadata": {},
   "outputs": [
    {
     "data": {
      "image/png": "[encoded data removed]",
      "text/plain": [
       "<Figure size 1080x360 with 2 Axes>"
      ]
     },
     "metadata": {
      "needs_background": "light"
     },
     "output_type": "display_data"
    }
   ],
   "source": [
    "# Plotting the accuracies and losses of the 1D CNN\n",
    "plt.subplots(1, 2, figsize=(15, 5))\n",
    "\n",
    "# Accuracies\n",
    "plt.subplot(1, 2, 1)\n",
    "plt.plot(cnn_1d_history.history['acc'], label='Training set')\n",
    "plt.plot(cnn_1d_history.history['val_acc'], label='Validation set')\n",
    "plt.title(\"1D CNN's Accuracies\")\n",
    "plt.xlabel('Epoch')\n",
    "plt.ylabel('Accuracy')\n",
    "plt.legend()\n",
    "\n",
    "# Losses\n",
    "plt.subplot(1, 2, 2)\n",
    "plt.plot(cnn_1d_history.history['loss'], label='Training set')\n",
    "plt.plot(cnn_1d_history.history['val_loss'], label='Validation set')\n",
    "plt.title(\"1D CNN's Losses\")\n",
    "plt.xlabel('Epoch')\n",
    "plt.ylabel('Loss')\n",
    "plt.legend()\n",
    "\n",
    "plt.tight_layout()\n",
    "plt.show()"
   ]
  },
  {
   "cell_type": "code",
   "execution_count": 81,
   "metadata": {
    "colab": {},
    "colab_type": "code",
    "id": "E4zoTFWRMOik",
    "outputId": "f4be28da-880c-4a22-b7ec-639c390493d8"
   },
   "outputs": [
    {
     "name": "stdout",
     "output_type": "stream",
     "text": [
      "144/144 [==============================] - 0s 3ms/step\n",
      "Test loss: 2.5239159795973034\n",
      "Test accuracy: 44.44444444444444%\n"
     ]
    }
   ],
   "source": [
    "# Evaluating the 1D CNN's performance on the test set\n",
    "cnn_1d_score = cnn_1d.evaluate(x=X_test_1d, y=y_test, verbose=1)\n",
    "\n",
    "print(f'Test loss: {cnn_1d_score[0]}')\n",
    "print(f'Test accuracy: {cnn_1d_score[1]*100}%')"
   ]
  },
  {
   "cell_type": "markdown",
   "metadata": {},
   "source": [
    "Notes on the initial 1D CNN:\n",
    "- It seems to overfit to the training set after the 5th epoch or so\n",
    "- Its accuracy on the validation set plateaus around 50%\n",
    "- Its validation loss has an upward trend\n",
    "- It does not perform as well as logistic regression or support vector machine, which were built and evaluated in part 2.\n",
    "\n",
    "Now I will try a 2D CNN."
   ]
  },
  {
   "cell_type": "code",
   "execution_count": 45,
   "metadata": {},
   "outputs": [
    {
     "name": "stdout",
     "output_type": "stream",
     "text": [
      "Shape of reshaped X_train_2d: (401, 20, 130, 1)\n",
      "Shape of reshaped X_val_2d: (173, 20, 130, 1)\n",
      "Shape of reshaped X_test_2d: (144, 20, 130, 1)\n"
     ]
    }
   ],
   "source": [
    "# Reshaping the scaled Xs again, this time for use in the 2D CNN\n",
    "X_train_2d = X_train.reshape(401, 20, 130, 1)\n",
    "X_val_2d = X_val.reshape(173, 20, 130, 1)\n",
    "X_test_2d = X_test.reshape(144, 20, 130, 1)\n",
    "\n",
    "# Checking the shapes\n",
    "print('Shape of reshaped X_train_2d:', X_train_2d.shape)\n",
    "print('Shape of reshaped X_val_2d:', X_val_2d.shape)\n",
    "print('Shape of reshaped X_test_2d:', X_test_2d.shape)"
   ]
  },
  {
   "cell_type": "code",
   "execution_count": 71,
   "metadata": {
    "colab": {},
    "colab_type": "code",
    "id": "3sWTAODoMOia",
    "outputId": "2c3c0f10-216b-4932-d733-89449efb78a1"
   },
   "outputs": [
    {
     "name": "stdout",
     "output_type": "stream",
     "text": [
      "_________________________________________________________________\n",
      "Layer (type)                 Output Shape              Param #   \n",
      "=================================================================\n",
      "conv2d_5 (Conv2D)            (None, 18, 128, 32)       320       \n",
      "_________________________________________________________________\n",
      "conv2d_6 (Conv2D)            (None, 16, 126, 64)       18496     \n",
      "_________________________________________________________________\n",
      "max_pooling2d_3 (MaxPooling2 (None, 8, 63, 64)         0         \n",
      "_________________________________________________________________\n",
      "dropout_7 (Dropout)          (None, 8, 63, 64)         0         \n",
      "_________________________________________________________________\n",
      "flatten_4 (Flatten)          (None, 32256)             0         \n",
      "_________________________________________________________________\n",
      "dense_7 (Dense)              (None, 128)               4128896   \n",
      "_________________________________________________________________\n",
      "dropout_8 (Dropout)          (None, 128)               0         \n",
      "_________________________________________________________________\n",
      "dense_8 (Dense)              (None, 8)                 1032      \n",
      "=================================================================\n",
      "Total params: 4,148,744\n",
      "Trainable params: 4,148,744\n",
      "Non-trainable params: 0\n",
      "_________________________________________________________________\n"
     ]
    }
   ],
   "source": [
    "# Setting up the 2D CNN\n",
    "cnn_2d = Sequential()\n",
    "\n",
    "# 32 convolutions\n",
    "cnn_2d.add(Conv2D(filters=32, kernel_size=(3, 3), activation='relu', input_shape=(20, 130, 1)))\n",
    "\n",
    "# 64 convolutions\n",
    "cnn_2d.add(Conv2D(filters=64, kernel_size=(3, 3), activation='relu'))\n",
    "\n",
    "# Max pooling for dimensionality reduction; reducing noise to pick up on the strongest patterns\n",
    "cnn_2d.add(MaxPooling2D(pool_size=(2, 2)))\n",
    "\n",
    "# Dropout to help prevent overfitting\n",
    "cnn_2d.add(Dropout(rate=0.25))\n",
    "\n",
    "# Flatten to a one-dimensional array\n",
    "cnn_2d.add(Flatten())\n",
    "\n",
    "# Fully connected layer\n",
    "cnn_2d.add(Dense(units=128, activation='relu'))\n",
    "\n",
    "# More dropout\n",
    "cnn_2d.add(Dropout(rate=0.5))\n",
    "\n",
    "# Last dense layer with number of units equal to the number of different emotions\n",
    "cnn_2d.add(Dense(units=8, activation='softmax'))\n",
    "\n",
    "# Summary\n",
    "cnn_2d.summary()"
   ]
  },
  {
   "cell_type": "code",
   "execution_count": 72,
   "metadata": {
    "colab": {},
    "colab_type": "code",
    "id": "NFs2-YDbMOic"
   },
   "outputs": [],
   "source": [
    "# Compiling the CNN with the desired loss function, optimizer, and metric to optimize\n",
    "cnn_2d.compile(loss='sparse_categorical_crossentropy', optimizer='Adam', metrics=['accuracy'])"
   ]
  },
  {
   "cell_type": "code",
   "execution_count": 41,
   "metadata": {
    "colab": {},
    "colab_type": "code",
    "id": "4y69Z1a1MOih",
    "outputId": "7e3bde36-a6db-4f27-a320-9245933beab6"
   },
   "outputs": [
    {
     "name": "stdout",
     "output_type": "stream",
     "text": [
      "Train on 401 samples, validate on 173 samples\n",
      "Epoch 1/25\n",
      "401/401 [==============================] - 8s 20ms/step - loss: 2.2838 - acc: 0.1546 - val_loss: 2.0418 - val_acc: 0.2023\n",
      "Epoch 2/25\n",
      "401/401 [==============================] - 7s 17ms/step - loss: 1.9969 - acc: 0.3117 - val_loss: 1.9267 - val_acc: 0.2948\n",
      "Epoch 3/25\n",
      "401/401 [==============================] - 7s 18ms/step - loss: 1.7577 - acc: 0.3591 - val_loss: 1.7420 - val_acc: 0.3295\n",
      "Epoch 4/25\n",
      "401/401 [==============================] - 7s 17ms/step - loss: 1.4653 - acc: 0.4688 - val_loss: 1.6178 - val_acc: 0.4104\n",
      "Epoch 5/25\n",
      "401/401 [==============================] - 7s 17ms/step - loss: 1.2071 - acc: 0.5960 - val_loss: 1.5189 - val_acc: 0.4624\n",
      "Epoch 6/25\n",
      "401/401 [==============================] - 7s 18ms/step - loss: 0.9476 - acc: 0.6808 - val_loss: 1.4948 - val_acc: 0.5145\n",
      "Epoch 7/25\n",
      "401/401 [==============================] - 7s 18ms/step - loss: 0.6662 - acc: 0.7830 - val_loss: 1.4667 - val_acc: 0.5145\n",
      "Epoch 8/25\n",
      "401/401 [==============================] - 7s 18ms/step - loss: 0.5165 - acc: 0.8354 - val_loss: 1.4751 - val_acc: 0.5260\n",
      "Epoch 9/25\n",
      "401/401 [==============================] - 7s 16ms/step - loss: 0.4869 - acc: 0.8329 - val_loss: 1.4377 - val_acc: 0.5260\n",
      "Epoch 10/25\n",
      "401/401 [==============================] - 7s 18ms/step - loss: 0.2995 - acc: 0.9052 - val_loss: 1.4760 - val_acc: 0.5607\n",
      "Epoch 11/25\n",
      "401/401 [==============================] - 7s 17ms/step - loss: 0.2737 - acc: 0.9127 - val_loss: 1.4110 - val_acc: 0.5896\n",
      "Epoch 12/25\n",
      "401/401 [==============================] - 7s 18ms/step - loss: 0.1741 - acc: 0.9526 - val_loss: 1.5702 - val_acc: 0.5780\n",
      "Epoch 13/25\n",
      "401/401 [==============================] - 8s 19ms/step - loss: 0.1342 - acc: 0.9576 - val_loss: 1.5442 - val_acc: 0.5607\n",
      "Epoch 14/25\n",
      "401/401 [==============================] - 7s 16ms/step - loss: 0.1333 - acc: 0.9576 - val_loss: 1.7073 - val_acc: 0.5318\n",
      "Epoch 15/25\n",
      "401/401 [==============================] - 8s 19ms/step - loss: 0.1702 - acc: 0.9476 - val_loss: 1.6857 - val_acc: 0.5260\n",
      "Epoch 16/25\n",
      "401/401 [==============================] - 7s 16ms/step - loss: 0.1310 - acc: 0.9576 - val_loss: 1.6420 - val_acc: 0.5838\n",
      "Epoch 17/25\n",
      "401/401 [==============================] - 7s 19ms/step - loss: 0.1000 - acc: 0.9701 - val_loss: 1.7103 - val_acc: 0.5838\n",
      "Epoch 18/25\n",
      "401/401 [==============================] - 7s 16ms/step - loss: 0.1215 - acc: 0.9601 - val_loss: 1.6887 - val_acc: 0.5896\n",
      "Epoch 19/25\n",
      "401/401 [==============================] - 7s 17ms/step - loss: 0.0914 - acc: 0.9776 - val_loss: 1.7004 - val_acc: 0.6069\n",
      "Epoch 20/25\n",
      "401/401 [==============================] - 7s 18ms/step - loss: 0.0889 - acc: 0.9651 - val_loss: 1.7899 - val_acc: 0.6012\n",
      "Epoch 21/25\n",
      "401/401 [==============================] - 7s 18ms/step - loss: 0.0823 - acc: 0.9825 - val_loss: 1.8651 - val_acc: 0.5896\n",
      "Epoch 22/25\n",
      "401/401 [==============================] - 7s 18ms/step - loss: 0.0888 - acc: 0.9676 - val_loss: 1.7959 - val_acc: 0.5723\n",
      "Epoch 23/25\n",
      "401/401 [==============================] - 7s 17ms/step - loss: 0.0942 - acc: 0.9676 - val_loss: 1.7488 - val_acc: 0.5896\n",
      "Epoch 24/25\n",
      "401/401 [==============================] - 7s 18ms/step - loss: 0.0768 - acc: 0.9726 - val_loss: 1.8861 - val_acc: 0.5780\n",
      "Epoch 25/25\n",
      "401/401 [==============================] - 7s 17ms/step - loss: 0.0701 - acc: 0.9676 - val_loss: 1.8538 - val_acc: 0.5838\n"
     ]
    }
   ],
   "source": [
    "# Fitting the CNN\n",
    "cnn_2d_history = cnn_2d.fit(x=X_train_2d, y=y_train, epochs=25, verbose=1, validation_data=(X_val_2d, y_val))"
   ]
  },
  {
   "cell_type": "code",
   "execution_count": 42,
   "metadata": {},
   "outputs": [
    {
     "data": {
      "image/png": "[encoded data removed]",
      "text/plain": [
       "<Figure size 1080x360 with 2 Axes>"
      ]
     },
     "metadata": {
      "needs_background": "light"
     },
     "output_type": "display_data"
    }
   ],
   "source": [
    "# Plotting the accuracies and losses of the 2D CNN\n",
    "plt.subplots(1, 2, figsize=(15, 5))\n",
    "\n",
    "# Accuracies\n",
    "plt.subplot(1, 2, 1)\n",
    "plt.plot(cnn_2d_history.history['acc'], label='Training set')\n",
    "plt.plot(cnn_2d_history.history['val_acc'], label='Validation set')\n",
    "plt.title(\"2D CNN's Accuracies\")\n",
    "plt.xlabel('Epoch')\n",
    "plt.ylabel('Accuracy')\n",
    "plt.legend()\n",
    "\n",
    "# Losses\n",
    "plt.subplot(1, 2, 2)\n",
    "plt.plot(cnn_2d_history.history['loss'], label='Training set')\n",
    "plt.plot(cnn_2d_history.history['val_loss'], label='Validation set')\n",
    "plt.title(\"2D CNN's Losses\")\n",
    "plt.xlabel('Epoch')\n",
    "plt.ylabel('Loss')\n",
    "plt.legend()\n",
    "\n",
    "plt.tight_layout()\n",
    "plt.show()"
   ]
  },
  {
   "cell_type": "code",
   "execution_count": 82,
   "metadata": {
    "colab": {},
    "colab_type": "code",
    "id": "E4zoTFWRMOik",
    "outputId": "f4be28da-880c-4a22-b7ec-639c390493d8"
   },
   "outputs": [
    {
     "name": "stdout",
     "output_type": "stream",
     "text": [
      "144/144 [==============================] - 1s 5ms/step\n",
      "Test loss: 2.100012196434869\n",
      "Test accuracy: 13.88888888888889%\n"
     ]
    }
   ],
   "source": [
    "# Evaluating the 2D CNN's performance on the test set\n",
    "cnn_2d_score = cnn_2d.evaluate(x=X_test_2d, y=y_test, verbose=1)\n",
    "\n",
    "print(f'Test loss: {cnn_2d_score[0]}')\n",
    "print(f'Test accuracy: {cnn_2d_score[1]*100}%')"
   ]
  },
  {
   "cell_type": "markdown",
   "metadata": {},
   "source": [
    "Although the 2D CNN seemed to be doing slightly better than the 1D CNN in the epochs, its accuracy on the test set is far worse. It has also overfit to the training set."
   ]
  },
  {
   "cell_type": "markdown",
   "metadata": {},
   "source": [
    "___\n",
    "## Architecture found on Kaggle\n",
    "I will now try an architecture that I found here, created by Kaggle user dasanurag38: https://www.kaggle.com/dasanurag38/audio-emotion-recognition"
   ]
  },
  {
   "cell_type": "code",
   "execution_count": 98,
   "metadata": {},
   "outputs": [],
   "source": [
    "cnn_anu = Sequential()\n",
    "\n",
    "cnn_anu.add(Conv1D(filters=8, kernel_size=3, activation='relu', input_shape=(2600, 1)))\n",
    "\n",
    "cnn_anu.add(Conv1D(filters=16, kernel_size=3, activation='relu'))\n",
    "\n",
    "cnn_anu.add(MaxPooling1D(pool_size=2))\n",
    "\n",
    "cnn_anu.add(Conv1D(filters=32, kernel_size=3, activation='relu'))\n",
    "\n",
    "cnn_anu.add(Conv1D(filters=16, kernel_size=3, activation='relu'))\n",
    "\n",
    "cnn_anu.add(MaxPooling1D(pool_size=2))\n",
    "\n",
    "cnn_anu.add(Flatten())\n",
    "\n",
    "cnn_anu.add(Dense(units=8, activation='softmax'))\n",
    "\n",
    "cnn_anu.compile(loss='sparse_categorical_crossentropy', optimizer='Adam', metrics=['accuracy'])"
   ]
  },
  {
   "cell_type": "code",
   "execution_count": 99,
   "metadata": {
    "colab": {},
    "colab_type": "code",
    "id": "4y69Z1a1MOih",
    "outputId": "7e3bde36-a6db-4f27-a320-9245933beab6"
   },
   "outputs": [
    {
     "name": "stdout",
     "output_type": "stream",
     "text": [
      "Train on 401 samples, validate on 173 samples\n",
      "Epoch 1/25\n",
      "401/401 [==============================] - 3s 7ms/step - loss: 2.0108 - acc: 0.2070 - val_loss: 1.8988 - val_acc: 0.2948\n",
      "Epoch 2/25\n",
      "401/401 [==============================] - 2s 4ms/step - loss: 1.5305 - acc: 0.5062 - val_loss: 1.7160 - val_acc: 0.3584\n",
      "Epoch 3/25\n",
      "401/401 [==============================] - 2s 5ms/step - loss: 1.0162 - acc: 0.6484 - val_loss: 1.5842 - val_acc: 0.4277\n",
      "Epoch 4/25\n",
      "401/401 [==============================] - 2s 5ms/step - loss: 0.5536 - acc: 0.8404 - val_loss: 1.4352 - val_acc: 0.5087\n",
      "Epoch 5/25\n",
      "401/401 [==============================] - 2s 5ms/step - loss: 0.2360 - acc: 0.9426 - val_loss: 1.5530 - val_acc: 0.5260\n",
      "Epoch 6/25\n",
      "401/401 [==============================] - 3s 7ms/step - loss: 0.0708 - acc: 0.9950 - val_loss: 1.7869 - val_acc: 0.5607\n",
      "Epoch 7/25\n",
      "401/401 [==============================] - 3s 7ms/step - loss: 0.0296 - acc: 0.9975 - val_loss: 1.8563 - val_acc: 0.5491\n",
      "Epoch 8/25\n",
      "401/401 [==============================] - 2s 6ms/step - loss: 0.0101 - acc: 1.0000 - val_loss: 1.9503 - val_acc: 0.5896\n",
      "Epoch 9/25\n",
      "401/401 [==============================] - 3s 7ms/step - loss: 0.0051 - acc: 1.0000 - val_loss: 1.9507 - val_acc: 0.5780\n",
      "Epoch 10/25\n",
      "401/401 [==============================] - 2s 6ms/step - loss: 0.0045 - acc: 1.0000 - val_loss: 2.0177 - val_acc: 0.5954\n",
      "Epoch 11/25\n",
      "401/401 [==============================] - 2s 6ms/step - loss: 0.0018 - acc: 1.0000 - val_loss: 2.0239 - val_acc: 0.5780\n",
      "Epoch 12/25\n",
      "401/401 [==============================] - 2s 6ms/step - loss: 0.0014 - acc: 1.0000 - val_loss: 2.0440 - val_acc: 0.5838\n",
      "Epoch 13/25\n",
      "401/401 [==============================] - 2s 6ms/step - loss: 0.0010 - acc: 1.0000 - val_loss: 2.0744 - val_acc: 0.5896\n",
      "Epoch 14/25\n",
      "401/401 [==============================] - 2s 5ms/step - loss: 9.2112e-04 - acc: 1.0000 - val_loss: 2.0941 - val_acc: 0.5896\n",
      "Epoch 15/25\n",
      "401/401 [==============================] - 2s 5ms/step - loss: 8.0092e-04 - acc: 1.0000 - val_loss: 2.1116 - val_acc: 0.5896\n",
      "Epoch 16/25\n",
      "401/401 [==============================] - 2s 5ms/step - loss: 7.1774e-04 - acc: 1.0000 - val_loss: 2.1296 - val_acc: 0.5896\n",
      "Epoch 17/25\n",
      "401/401 [==============================] - 2s 5ms/step - loss: 6.4399e-04 - acc: 1.0000 - val_loss: 2.1484 - val_acc: 0.5896\n",
      "Epoch 18/25\n",
      "401/401 [==============================] - 2s 5ms/step - loss: 5.8786e-04 - acc: 1.0000 - val_loss: 2.1667 - val_acc: 0.5896\n",
      "Epoch 19/25\n",
      "401/401 [==============================] - 2s 5ms/step - loss: 5.3688e-04 - acc: 1.0000 - val_loss: 2.1818 - val_acc: 0.5954\n",
      "Epoch 20/25\n",
      "401/401 [==============================] - 2s 6ms/step - loss: 4.9411e-04 - acc: 1.0000 - val_loss: 2.1981 - val_acc: 0.5896\n",
      "Epoch 21/25\n",
      "401/401 [==============================] - 2s 6ms/step - loss: 4.5265e-04 - acc: 1.0000 - val_loss: 2.2112 - val_acc: 0.5896\n",
      "Epoch 22/25\n",
      "401/401 [==============================] - 2s 6ms/step - loss: 4.2148e-04 - acc: 1.0000 - val_loss: 2.2256 - val_acc: 0.5896\n",
      "Epoch 23/25\n",
      "401/401 [==============================] - 2s 6ms/step - loss: 3.9014e-04 - acc: 1.0000 - val_loss: 2.2372 - val_acc: 0.5896\n",
      "Epoch 24/25\n",
      "401/401 [==============================] - 2s 6ms/step - loss: 3.6399e-04 - acc: 1.0000 - val_loss: 2.2532 - val_acc: 0.5954\n",
      "Epoch 25/25\n",
      "401/401 [==============================] - 3s 7ms/step - loss: 3.3863e-04 - acc: 1.0000 - val_loss: 2.2675 - val_acc: 0.5954\n"
     ]
    }
   ],
   "source": [
    "cnn_anu_history = cnn_anu.fit(x=X_train_1d, y=y_train, epochs=25, verbose=1, validation_data=(X_val_1d, y_val))"
   ]
  },
  {
   "cell_type": "markdown",
   "metadata": {},
   "source": [
    "Still no good. I will try a variation of dasanurag38's architecture."
   ]
  },
  {
   "cell_type": "code",
   "execution_count": 106,
   "metadata": {},
   "outputs": [],
   "source": [
    "cnn_anu = Sequential()\n",
    "\n",
    "cnn_anu.add(Conv1D(filters=8, kernel_size=200, activation='relu', input_shape=(2600, 1)))\n",
    "\n",
    "cnn_anu.add(Conv1D(filters=16, kernel_size=100, activation='relu'))\n",
    "\n",
    "cnn_anu.add(MaxPooling1D(pool_size=50))\n",
    "\n",
    "cnn_anu.add(Conv1D(filters=32, kernel_size=25, activation='relu'))\n",
    "\n",
    "cnn_anu.add(Conv1D(filters=16, kernel_size=12, activation='relu'))\n",
    "\n",
    "cnn_anu.add(MaxPooling1D(pool_size=6))\n",
    "\n",
    "cnn_anu.add(Flatten())\n",
    "\n",
    "cnn_anu.add(Dense(units=8, activation='softmax'))\n",
    "\n",
    "cnn_anu.compile(loss='sparse_categorical_crossentropy', optimizer='Adam', metrics=['accuracy'])"
   ]
  },
  {
   "cell_type": "code",
   "execution_count": 135,
   "metadata": {},
   "outputs": [
    {
     "data": {
      "text/plain": [
       "(401, 2600, 1)"
      ]
     },
     "execution_count": 135,
     "metadata": {},
     "output_type": "execute_result"
    }
   ],
   "source": [
    "X_train_1d.shape"
   ]
  },
  {
   "cell_type": "code",
   "execution_count": 99,
   "metadata": {
    "colab": {},
    "colab_type": "code",
    "id": "4y69Z1a1MOih",
    "outputId": "7e3bde36-a6db-4f27-a320-9245933beab6"
   },
   "outputs": [
    {
     "name": "stdout",
     "output_type": "stream",
     "text": [
      "Train on 401 samples, validate on 173 samples\n",
      "Epoch 1/25\n",
      "401/401 [==============================] - 3s 7ms/step - loss: 2.0108 - acc: 0.2070 - val_loss: 1.8988 - val_acc: 0.2948\n",
      "Epoch 2/25\n",
      "401/401 [==============================] - 2s 4ms/step - loss: 1.5305 - acc: 0.5062 - val_loss: 1.7160 - val_acc: 0.3584\n",
      "Epoch 3/25\n",
      "401/401 [==============================] - 2s 5ms/step - loss: 1.0162 - acc: 0.6484 - val_loss: 1.5842 - val_acc: 0.4277\n",
      "Epoch 4/25\n",
      "401/401 [==============================] - 2s 5ms/step - loss: 0.5536 - acc: 0.8404 - val_loss: 1.4352 - val_acc: 0.5087\n",
      "Epoch 5/25\n",
      "401/401 [==============================] - 2s 5ms/step - loss: 0.2360 - acc: 0.9426 - val_loss: 1.5530 - val_acc: 0.5260\n",
      "Epoch 6/25\n",
      "401/401 [==============================] - 3s 7ms/step - loss: 0.0708 - acc: 0.9950 - val_loss: 1.7869 - val_acc: 0.5607\n",
      "Epoch 7/25\n",
      "401/401 [==============================] - 3s 7ms/step - loss: 0.0296 - acc: 0.9975 - val_loss: 1.8563 - val_acc: 0.5491\n",
      "Epoch 8/25\n",
      "401/401 [==============================] - 2s 6ms/step - loss: 0.0101 - acc: 1.0000 - val_loss: 1.9503 - val_acc: 0.5896\n",
      "Epoch 9/25\n",
      "401/401 [==============================] - 3s 7ms/step - loss: 0.0051 - acc: 1.0000 - val_loss: 1.9507 - val_acc: 0.5780\n",
      "Epoch 10/25\n",
      "401/401 [==============================] - 2s 6ms/step - loss: 0.0045 - acc: 1.0000 - val_loss: 2.0177 - val_acc: 0.5954\n",
      "Epoch 11/25\n",
      "401/401 [==============================] - 2s 6ms/step - loss: 0.0018 - acc: 1.0000 - val_loss: 2.0239 - val_acc: 0.5780\n",
      "Epoch 12/25\n",
      "401/401 [==============================] - 2s 6ms/step - loss: 0.0014 - acc: 1.0000 - val_loss: 2.0440 - val_acc: 0.5838\n",
      "Epoch 13/25\n",
      "401/401 [==============================] - 2s 6ms/step - loss: 0.0010 - acc: 1.0000 - val_loss: 2.0744 - val_acc: 0.5896\n",
      "Epoch 14/25\n",
      "401/401 [==============================] - 2s 5ms/step - loss: 9.2112e-04 - acc: 1.0000 - val_loss: 2.0941 - val_acc: 0.5896\n",
      "Epoch 15/25\n",
      "401/401 [==============================] - 2s 5ms/step - loss: 8.0092e-04 - acc: 1.0000 - val_loss: 2.1116 - val_acc: 0.5896\n",
      "Epoch 16/25\n",
      "401/401 [==============================] - 2s 5ms/step - loss: 7.1774e-04 - acc: 1.0000 - val_loss: 2.1296 - val_acc: 0.5896\n",
      "Epoch 17/25\n",
      "401/401 [==============================] - 2s 5ms/step - loss: 6.4399e-04 - acc: 1.0000 - val_loss: 2.1484 - val_acc: 0.5896\n",
      "Epoch 18/25\n",
      "401/401 [==============================] - 2s 5ms/step - loss: 5.8786e-04 - acc: 1.0000 - val_loss: 2.1667 - val_acc: 0.5896\n",
      "Epoch 19/25\n",
      "401/401 [==============================] - 2s 5ms/step - loss: 5.3688e-04 - acc: 1.0000 - val_loss: 2.1818 - val_acc: 0.5954\n",
      "Epoch 20/25\n",
      "401/401 [==============================] - 2s 6ms/step - loss: 4.9411e-04 - acc: 1.0000 - val_loss: 2.1981 - val_acc: 0.5896\n",
      "Epoch 21/25\n",
      "401/401 [==============================] - 2s 6ms/step - loss: 4.5265e-04 - acc: 1.0000 - val_loss: 2.2112 - val_acc: 0.5896\n",
      "Epoch 22/25\n",
      "401/401 [==============================] - 2s 6ms/step - loss: 4.2148e-04 - acc: 1.0000 - val_loss: 2.2256 - val_acc: 0.5896\n",
      "Epoch 23/25\n",
      "401/401 [==============================] - 2s 6ms/step - loss: 3.9014e-04 - acc: 1.0000 - val_loss: 2.2372 - val_acc: 0.5896\n",
      "Epoch 24/25\n",
      "401/401 [==============================] - 2s 6ms/step - loss: 3.6399e-04 - acc: 1.0000 - val_loss: 2.2532 - val_acc: 0.5954\n",
      "Epoch 25/25\n",
      "401/401 [==============================] - 3s 7ms/step - loss: 3.3863e-04 - acc: 1.0000 - val_loss: 2.2675 - val_acc: 0.5954\n"
     ]
    }
   ],
   "source": [
    "cnn_anu_history = cnn_anu.fit(x=X_train_1d, y=y_train, epochs=25, verbose=1, validation_data=(X_val_1d, y_val))"
   ]
  },
  {
   "cell_type": "markdown",
   "metadata": {},
   "source": [
    "Again, still no good."
   ]
  },
  {
   "cell_type": "markdown",
   "metadata": {},
   "source": [
    "___\n",
    "# Another Approach: Mean MFCCs\n",
    "dasanurag38 and other Kaggle users used mean MFCCs as features. I will try their approach."
   ]
  },
  {
   "cell_type": "code",
   "execution_count": 188,
   "metadata": {},
   "outputs": [],
   "source": [
    "X_mean = []\n",
    "for i in range(len(X)):\n",
    "    reshaped = np.array(X.iloc[i]).reshape(20, 130)\n",
    "    X_mean.append(np.mean(reshaped, axis=1))\n",
    "\n",
    "X_mean = np.array(X_mean)"
   ]
  },
  {
   "cell_type": "code",
   "execution_count": 189,
   "metadata": {},
   "outputs": [
    {
     "name": "stdout",
     "output_type": "stream",
     "text": [
      "Training set:\n",
      "(401, 20)\n",
      "(401,)\n",
      "\n",
      "Validation set:\n",
      "(173, 20)\n",
      "(173,)\n",
      "\n",
      "Test set:\n",
      "(144, 20)\n",
      "(144,)\n"
     ]
    }
   ],
   "source": [
    "# Splitting the data into remainder and test sets\n",
    "X_remainder, X_test, y_remainder, y_test = train_test_split(X_mean, y, test_size=0.2, stratify=y, random_state=1)\n",
    "\n",
    "# Splitting the remainder further into training and validation sets\n",
    "X_train, X_val, y_train, y_val = train_test_split(X_remainder, y_remainder, test_size=0.3, stratify=y_remainder, random_state=1)\n",
    "\n",
    "# Checking the shapes\n",
    "print('Training set:')\n",
    "print(X_train.shape)\n",
    "print(y_train.shape)\n",
    "print()\n",
    "print('Validation set:')\n",
    "print(X_val.shape)\n",
    "print(y_val.shape)\n",
    "print()\n",
    "print('Test set:')\n",
    "print(X_test.shape)\n",
    "print(y_test.shape)"
   ]
  },
  {
   "cell_type": "code",
   "execution_count": 190,
   "metadata": {},
   "outputs": [],
   "source": [
    "# Standard scaling\n",
    "\n",
    "# Instantiate the scaler and fit to X_train\n",
    "scaler = StandardScaler().fit(X_train)\n",
    "\n",
    "# Transform X_train\n",
    "X_train = scaler.transform(X_train)\n",
    "\n",
    "# Transform X_val\n",
    "X_val = scaler.transform(X_val)\n",
    "\n",
    "# Transform X_test\n",
    "X_test = scaler.transform(X_test)"
   ]
  },
  {
   "cell_type": "code",
   "execution_count": 192,
   "metadata": {},
   "outputs": [],
   "source": [
    "X_train = X_train.reshape(401, 20, 1)\n",
    "X_val = X_val.reshape(173, 20, 1)\n",
    "X_test = X_test.reshape(144, 20, 1)"
   ]
  },
  {
   "cell_type": "code",
   "execution_count": 206,
   "metadata": {},
   "outputs": [],
   "source": [
    "cnn_anu = Sequential()\n",
    "\n",
    "cnn_anu.add(Conv1D(filters=32, kernel_size=5, activation='relu', input_shape=(20, 1)))\n",
    "\n",
    "cnn_anu.add(Conv1D(filters=64, kernel_size=5, activation='relu'))\n",
    "\n",
    "cnn_anu.add(MaxPooling1D(pool_size=2))\n",
    "\n",
    "cnn_2d.add(Dropout(rate=0.25))\n",
    "\n",
    "cnn_anu.add(Flatten())\n",
    "\n",
    "cnn_anu.add(Dense(units=8, activation='softmax'))\n",
    "\n",
    "cnn_2d.add(Dropout(rate=0.5))\n",
    "\n",
    "cnn_anu.compile(loss='sparse_categorical_crossentropy', optimizer='Adam', metrics=['accuracy'])"
   ]
  },
  {
   "cell_type": "code",
   "execution_count": 207,
   "metadata": {
    "colab": {},
    "colab_type": "code",
    "id": "4y69Z1a1MOih",
    "outputId": "7e3bde36-a6db-4f27-a320-9245933beab6"
   },
   "outputs": [
    {
     "name": "stdout",
     "output_type": "stream",
     "text": [
      "Train on 401 samples, validate on 173 samples\n",
      "Epoch 1/50\n",
      "401/401 [==============================] - 2s 4ms/step - loss: 2.0594 - acc: 0.1796 - val_loss: 1.9646 - val_acc: 0.2428\n",
      "Epoch 2/50\n",
      "401/401 [==============================] - 0s 209us/step - loss: 1.9249 - acc: 0.2818 - val_loss: 1.9031 - val_acc: 0.2890\n",
      "Epoch 3/50\n",
      "401/401 [==============================] - 0s 204us/step - loss: 1.8408 - acc: 0.3541 - val_loss: 1.8396 - val_acc: 0.3121\n",
      "Epoch 4/50\n",
      "401/401 [==============================] - 0s 381us/step - loss: 1.7564 - acc: 0.3666 - val_loss: 1.7792 - val_acc: 0.3699\n",
      "Epoch 5/50\n",
      "401/401 [==============================] - 0s 299us/step - loss: 1.6712 - acc: 0.4239 - val_loss: 1.7288 - val_acc: 0.3815\n",
      "Epoch 6/50\n",
      "401/401 [==============================] - 0s 209us/step - loss: 1.5892 - acc: 0.4489 - val_loss: 1.6663 - val_acc: 0.3757\n",
      "Epoch 7/50\n",
      "401/401 [==============================] - 0s 197us/step - loss: 1.5016 - acc: 0.4963 - val_loss: 1.6134 - val_acc: 0.3642\n",
      "Epoch 8/50\n",
      "401/401 [==============================] - 0s 192us/step - loss: 1.4158 - acc: 0.5262 - val_loss: 1.5810 - val_acc: 0.4046\n",
      "Epoch 9/50\n",
      "401/401 [==============================] - 0s 174us/step - loss: 1.3570 - acc: 0.5262 - val_loss: 1.5380 - val_acc: 0.4104\n",
      "Epoch 10/50\n",
      "401/401 [==============================] - 0s 197us/step - loss: 1.2889 - acc: 0.5461 - val_loss: 1.5033 - val_acc: 0.4104\n",
      "Epoch 11/50\n",
      "401/401 [==============================] - 0s 172us/step - loss: 1.2139 - acc: 0.5985 - val_loss: 1.4811 - val_acc: 0.4220\n",
      "Epoch 12/50\n",
      "401/401 [==============================] - 0s 160us/step - loss: 1.1514 - acc: 0.6110 - val_loss: 1.4421 - val_acc: 0.4335\n",
      "Epoch 13/50\n",
      "401/401 [==============================] - 0s 213us/step - loss: 1.1085 - acc: 0.6309 - val_loss: 1.4515 - val_acc: 0.4566\n",
      "Epoch 14/50\n",
      "401/401 [==============================] - 0s 207us/step - loss: 1.0682 - acc: 0.6309 - val_loss: 1.4179 - val_acc: 0.4509\n",
      "Epoch 15/50\n",
      "401/401 [==============================] - 0s 239us/step - loss: 1.0122 - acc: 0.6409 - val_loss: 1.3904 - val_acc: 0.4740\n",
      "Epoch 16/50\n",
      "401/401 [==============================] - 0s 212us/step - loss: 0.9702 - acc: 0.6584 - val_loss: 1.3739 - val_acc: 0.4624\n",
      "Epoch 17/50\n",
      "401/401 [==============================] - 0s 209us/step - loss: 0.9308 - acc: 0.6858 - val_loss: 1.3634 - val_acc: 0.4913\n",
      "Epoch 18/50\n",
      "401/401 [==============================] - 0s 204us/step - loss: 0.8865 - acc: 0.6908 - val_loss: 1.3455 - val_acc: 0.4913\n",
      "Epoch 19/50\n",
      "401/401 [==============================] - 0s 162us/step - loss: 0.8482 - acc: 0.7282 - val_loss: 1.3723 - val_acc: 0.4855\n",
      "Epoch 20/50\n",
      "401/401 [==============================] - 0s 160us/step - loss: 0.8212 - acc: 0.7307 - val_loss: 1.3263 - val_acc: 0.4971\n",
      "Epoch 21/50\n",
      "401/401 [==============================] - 0s 164us/step - loss: 0.7828 - acc: 0.7531 - val_loss: 1.3465 - val_acc: 0.4855\n",
      "Epoch 22/50\n",
      "401/401 [==============================] - 0s 174us/step - loss: 0.7547 - acc: 0.7606 - val_loss: 1.3314 - val_acc: 0.5376\n",
      "Epoch 23/50\n",
      "401/401 [==============================] - 0s 164us/step - loss: 0.7259 - acc: 0.7781 - val_loss: 1.3319 - val_acc: 0.5087\n",
      "Epoch 24/50\n",
      "401/401 [==============================] - 0s 160us/step - loss: 0.6855 - acc: 0.7756 - val_loss: 1.3305 - val_acc: 0.5087\n",
      "Epoch 25/50\n",
      "401/401 [==============================] - 0s 160us/step - loss: 0.6542 - acc: 0.8030 - val_loss: 1.3139 - val_acc: 0.5318\n",
      "Epoch 26/50\n",
      "401/401 [==============================] - 0s 157us/step - loss: 0.6248 - acc: 0.8329 - val_loss: 1.3071 - val_acc: 0.5260\n",
      "Epoch 27/50\n",
      "401/401 [==============================] - 0s 155us/step - loss: 0.6046 - acc: 0.8229 - val_loss: 1.3108 - val_acc: 0.5376\n",
      "Epoch 28/50\n",
      "401/401 [==============================] - 0s 189us/step - loss: 0.5803 - acc: 0.8379 - val_loss: 1.3333 - val_acc: 0.5260\n",
      "Epoch 29/50\n",
      "401/401 [==============================] - 0s 162us/step - loss: 0.5633 - acc: 0.8354 - val_loss: 1.3027 - val_acc: 0.5434\n",
      "Epoch 30/50\n",
      "401/401 [==============================] - 0s 160us/step - loss: 0.5395 - acc: 0.8354 - val_loss: 1.3542 - val_acc: 0.5318\n",
      "Epoch 31/50\n",
      "401/401 [==============================] - 0s 162us/step - loss: 0.4997 - acc: 0.8703 - val_loss: 1.3204 - val_acc: 0.5491\n",
      "Epoch 32/50\n",
      "401/401 [==============================] - 0s 162us/step - loss: 0.4718 - acc: 0.8728 - val_loss: 1.3681 - val_acc: 0.5376\n",
      "Epoch 33/50\n",
      "401/401 [==============================] - 0s 167us/step - loss: 0.4651 - acc: 0.8928 - val_loss: 1.3052 - val_acc: 0.5607\n",
      "Epoch 34/50\n",
      "401/401 [==============================] - 0s 172us/step - loss: 0.4484 - acc: 0.9027 - val_loss: 1.3227 - val_acc: 0.5491\n",
      "Epoch 35/50\n",
      "401/401 [==============================] - 0s 202us/step - loss: 0.4072 - acc: 0.8978 - val_loss: 1.3186 - val_acc: 0.5376\n",
      "Epoch 36/50\n",
      "401/401 [==============================] - 0s 202us/step - loss: 0.3961 - acc: 0.9077 - val_loss: 1.3524 - val_acc: 0.5318\n",
      "Epoch 37/50\n",
      "401/401 [==============================] - 0s 197us/step - loss: 0.3709 - acc: 0.9227 - val_loss: 1.3292 - val_acc: 0.5549\n",
      "Epoch 38/50\n",
      "401/401 [==============================] - 0s 184us/step - loss: 0.3541 - acc: 0.9277 - val_loss: 1.3532 - val_acc: 0.5954\n",
      "Epoch 39/50\n",
      "401/401 [==============================] - 0s 162us/step - loss: 0.3400 - acc: 0.9401 - val_loss: 1.3709 - val_acc: 0.5491\n",
      "Epoch 40/50\n",
      "401/401 [==============================] - 0s 177us/step - loss: 0.3314 - acc: 0.9451 - val_loss: 1.3622 - val_acc: 0.5723\n",
      "Epoch 41/50\n",
      "401/401 [==============================] - 0s 189us/step - loss: 0.3276 - acc: 0.9277 - val_loss: 1.3348 - val_acc: 0.5723\n",
      "Epoch 42/50\n",
      "401/401 [==============================] - 0s 239us/step - loss: 0.2957 - acc: 0.9576 - val_loss: 1.3912 - val_acc: 0.5491\n",
      "Epoch 43/50\n",
      "401/401 [==============================] - 0s 207us/step - loss: 0.2720 - acc: 0.9526 - val_loss: 1.3621 - val_acc: 0.5549\n",
      "Epoch 44/50\n",
      "401/401 [==============================] - 0s 187us/step - loss: 0.2587 - acc: 0.9576 - val_loss: 1.3764 - val_acc: 0.5434\n",
      "Epoch 45/50\n",
      "401/401 [==============================] - 0s 182us/step - loss: 0.2495 - acc: 0.9676 - val_loss: 1.3943 - val_acc: 0.5723\n",
      "Epoch 46/50\n",
      "401/401 [==============================] - 0s 167us/step - loss: 0.2366 - acc: 0.9726 - val_loss: 1.4065 - val_acc: 0.5780\n",
      "Epoch 47/50\n",
      "401/401 [==============================] - 0s 219us/step - loss: 0.2251 - acc: 0.9726 - val_loss: 1.3960 - val_acc: 0.5549\n",
      "Epoch 48/50\n",
      "401/401 [==============================] - 0s 207us/step - loss: 0.2122 - acc: 0.9701 - val_loss: 1.4220 - val_acc: 0.5723\n",
      "Epoch 49/50\n",
      "401/401 [==============================] - 0s 232us/step - loss: 0.1970 - acc: 0.9800 - val_loss: 1.4439 - val_acc: 0.5260\n",
      "Epoch 50/50\n",
      "401/401 [==============================] - 0s 204us/step - loss: 0.1897 - acc: 0.9850 - val_loss: 1.4463 - val_acc: 0.5780\n"
     ]
    }
   ],
   "source": [
    "cnn_anu_history = cnn_anu.fit(x=X_train, y=y_train, epochs=50, verbose=1, validation_data=(X_val, y_val))"
   ]
  },
  {
   "cell_type": "markdown",
   "metadata": {},
   "source": [
    "Again, these are poor performances."
   ]
  },
  {
   "cell_type": "markdown",
   "metadata": {},
   "source": [
    "## Conclusion for CNNs:\n",
    "Given the time constraint, I have been unable to find a good CNN architecture. All of my CNNs have overfit to the training sets and have not performed well on the validation sets in comparison to the classical machine learning models I built and evaluated in part 2. It is likely that I simply do not have enough data points for a CNN to perform well."
   ]
  }
 ],
 "metadata": {
  "kernelspec": {
   "display_name": "Python 3",
   "language": "python",
   "name": "python3"
  },
  "language_info": {
   "codemirror_mode": {
    "name": "ipython",
    "version": 3
   },
   "file_extension": ".py",
   "mimetype": "text/x-python",
   "name": "python",
   "nbconvert_exporter": "python",
   "pygments_lexer": "ipython3",
   "version": "3.7.4"
  }
 },
 "nbformat": 4,
 "nbformat_minor": 4
}
