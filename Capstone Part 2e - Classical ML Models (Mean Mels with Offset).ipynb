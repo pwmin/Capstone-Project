{
 "cells": [
  {
   "cell_type": "markdown",
   "metadata": {},
   "source": [
    "# Capstone Part 2e - Classical ML Models (Mean Mels with Offset)\n",
    "___\n",
    "## Setup"
   ]
  },
  {
   "cell_type": "code",
   "execution_count": 1,
   "metadata": {},
   "outputs": [
    {
     "data": {
      "text/html": [
       "<div>\n",
       "<style scoped>\n",
       "    .dataframe tbody tr th:only-of-type {\n",
       "        vertical-align: middle;\n",
       "    }\n",
       "\n",
       "    .dataframe tbody tr th {\n",
       "        vertical-align: top;\n",
       "    }\n",
       "\n",
       "    .dataframe thead th {\n",
       "        text-align: right;\n",
       "    }\n",
       "</style>\n",
       "<table border=\"1\" class=\"dataframe\">\n",
       "  <thead>\n",
       "    <tr style=\"text-align: right;\">\n",
       "      <th></th>\n",
       "      <th>0</th>\n",
       "      <th>1</th>\n",
       "      <th>2</th>\n",
       "      <th>3</th>\n",
       "      <th>4</th>\n",
       "      <th>5</th>\n",
       "      <th>6</th>\n",
       "      <th>7</th>\n",
       "      <th>8</th>\n",
       "      <th>9</th>\n",
       "      <th>...</th>\n",
       "      <th>122</th>\n",
       "      <th>123</th>\n",
       "      <th>124</th>\n",
       "      <th>125</th>\n",
       "      <th>126</th>\n",
       "      <th>127</th>\n",
       "      <th>128</th>\n",
       "      <th>129</th>\n",
       "      <th>Gender</th>\n",
       "      <th>Emotion</th>\n",
       "    </tr>\n",
       "  </thead>\n",
       "  <tbody>\n",
       "    <tr>\n",
       "      <td>0</td>\n",
       "      <td>1.533443e-10</td>\n",
       "      <td>4.470215e-11</td>\n",
       "      <td>8.070570e-11</td>\n",
       "      <td>2.146172e-10</td>\n",
       "      <td>4.451442e-10</td>\n",
       "      <td>4.280263e-10</td>\n",
       "      <td>2.788707e-10</td>\n",
       "      <td>1.879692e-09</td>\n",
       "      <td>1.174269e-09</td>\n",
       "      <td>4.461908e-10</td>\n",
       "      <td>...</td>\n",
       "      <td>3.662752e-08</td>\n",
       "      <td>8.307025e-08</td>\n",
       "      <td>9.287401e-08</td>\n",
       "      <td>3.056497e-08</td>\n",
       "      <td>4.678518e-09</td>\n",
       "      <td>5.241251e-09</td>\n",
       "      <td>6.313334e-09</td>\n",
       "      <td>7.005036e-09</td>\n",
       "      <td>male</td>\n",
       "      <td>neutral</td>\n",
       "    </tr>\n",
       "    <tr>\n",
       "      <td>1</td>\n",
       "      <td>1.188707e-09</td>\n",
       "      <td>3.779748e-10</td>\n",
       "      <td>2.234186e-10</td>\n",
       "      <td>6.680412e-10</td>\n",
       "      <td>6.218913e-09</td>\n",
       "      <td>1.137445e-08</td>\n",
       "      <td>2.683028e-09</td>\n",
       "      <td>5.531596e-09</td>\n",
       "      <td>8.906017e-09</td>\n",
       "      <td>6.461679e-09</td>\n",
       "      <td>...</td>\n",
       "      <td>2.217372e-08</td>\n",
       "      <td>3.826104e-09</td>\n",
       "      <td>1.010611e-09</td>\n",
       "      <td>7.145892e-10</td>\n",
       "      <td>3.149462e-10</td>\n",
       "      <td>2.505838e-10</td>\n",
       "      <td>1.273010e-10</td>\n",
       "      <td>1.725840e-10</td>\n",
       "      <td>male</td>\n",
       "      <td>neutral</td>\n",
       "    </tr>\n",
       "    <tr>\n",
       "      <td>2</td>\n",
       "      <td>6.123937e-08</td>\n",
       "      <td>8.660994e-08</td>\n",
       "      <td>1.589899e-07</td>\n",
       "      <td>6.396412e-08</td>\n",
       "      <td>4.406861e-08</td>\n",
       "      <td>6.402577e-08</td>\n",
       "      <td>5.034104e-08</td>\n",
       "      <td>7.215107e-08</td>\n",
       "      <td>2.666949e-08</td>\n",
       "      <td>1.086904e-08</td>\n",
       "      <td>...</td>\n",
       "      <td>1.322439e-09</td>\n",
       "      <td>1.381340e-09</td>\n",
       "      <td>1.323247e-10</td>\n",
       "      <td>2.768844e-11</td>\n",
       "      <td>1.122044e-09</td>\n",
       "      <td>1.865057e-09</td>\n",
       "      <td>4.243676e-10</td>\n",
       "      <td>4.917393e-10</td>\n",
       "      <td>male</td>\n",
       "      <td>neutral</td>\n",
       "    </tr>\n",
       "    <tr>\n",
       "      <td>3</td>\n",
       "      <td>4.613280e-08</td>\n",
       "      <td>2.906938e-08</td>\n",
       "      <td>3.552248e-08</td>\n",
       "      <td>5.806047e-08</td>\n",
       "      <td>4.948989e-08</td>\n",
       "      <td>5.540470e-08</td>\n",
       "      <td>2.852813e-08</td>\n",
       "      <td>3.038411e-08</td>\n",
       "      <td>4.256698e-08</td>\n",
       "      <td>2.405028e-08</td>\n",
       "      <td>...</td>\n",
       "      <td>1.889469e-09</td>\n",
       "      <td>1.447878e-08</td>\n",
       "      <td>4.330400e-08</td>\n",
       "      <td>7.822125e-08</td>\n",
       "      <td>3.754572e-08</td>\n",
       "      <td>1.115205e-08</td>\n",
       "      <td>9.865569e-09</td>\n",
       "      <td>2.300178e-08</td>\n",
       "      <td>male</td>\n",
       "      <td>neutral</td>\n",
       "    </tr>\n",
       "    <tr>\n",
       "      <td>4</td>\n",
       "      <td>2.184508e-11</td>\n",
       "      <td>2.776947e-10</td>\n",
       "      <td>2.597032e-10</td>\n",
       "      <td>1.652612e-10</td>\n",
       "      <td>2.990570e-10</td>\n",
       "      <td>2.350421e-10</td>\n",
       "      <td>9.289343e-10</td>\n",
       "      <td>5.398018e-10</td>\n",
       "      <td>2.240118e-11</td>\n",
       "      <td>2.210581e-10</td>\n",
       "      <td>...</td>\n",
       "      <td>9.282968e-10</td>\n",
       "      <td>2.595139e-09</td>\n",
       "      <td>2.578465e-09</td>\n",
       "      <td>4.286336e-10</td>\n",
       "      <td>1.172365e-09</td>\n",
       "      <td>9.211989e-10</td>\n",
       "      <td>1.238382e-09</td>\n",
       "      <td>4.182768e-10</td>\n",
       "      <td>male</td>\n",
       "      <td>calm</td>\n",
       "    </tr>\n",
       "  </tbody>\n",
       "</table>\n",
       "<p>5 rows × 132 columns</p>\n",
       "</div>"
      ],
      "text/plain": [
       "              0             1             2             3             4  \\\n",
       "0  1.533443e-10  4.470215e-11  8.070570e-11  2.146172e-10  4.451442e-10   \n",
       "1  1.188707e-09  3.779748e-10  2.234186e-10  6.680412e-10  6.218913e-09   \n",
       "2  6.123937e-08  8.660994e-08  1.589899e-07  6.396412e-08  4.406861e-08   \n",
       "3  4.613280e-08  2.906938e-08  3.552248e-08  5.806047e-08  4.948989e-08   \n",
       "4  2.184508e-11  2.776947e-10  2.597032e-10  1.652612e-10  2.990570e-10   \n",
       "\n",
       "              5             6             7             8             9  ...  \\\n",
       "0  4.280263e-10  2.788707e-10  1.879692e-09  1.174269e-09  4.461908e-10  ...   \n",
       "1  1.137445e-08  2.683028e-09  5.531596e-09  8.906017e-09  6.461679e-09  ...   \n",
       "2  6.402577e-08  5.034104e-08  7.215107e-08  2.666949e-08  1.086904e-08  ...   \n",
       "3  5.540470e-08  2.852813e-08  3.038411e-08  4.256698e-08  2.405028e-08  ...   \n",
       "4  2.350421e-10  9.289343e-10  5.398018e-10  2.240118e-11  2.210581e-10  ...   \n",
       "\n",
       "            122           123           124           125           126  \\\n",
       "0  3.662752e-08  8.307025e-08  9.287401e-08  3.056497e-08  4.678518e-09   \n",
       "1  2.217372e-08  3.826104e-09  1.010611e-09  7.145892e-10  3.149462e-10   \n",
       "2  1.322439e-09  1.381340e-09  1.323247e-10  2.768844e-11  1.122044e-09   \n",
       "3  1.889469e-09  1.447878e-08  4.330400e-08  7.822125e-08  3.754572e-08   \n",
       "4  9.282968e-10  2.595139e-09  2.578465e-09  4.286336e-10  1.172365e-09   \n",
       "\n",
       "            127           128           129  Gender  Emotion  \n",
       "0  5.241251e-09  6.313334e-09  7.005036e-09    male  neutral  \n",
       "1  2.505838e-10  1.273010e-10  1.725840e-10    male  neutral  \n",
       "2  1.865057e-09  4.243676e-10  4.917393e-10    male  neutral  \n",
       "3  1.115205e-08  9.865569e-09  2.300178e-08    male  neutral  \n",
       "4  9.211989e-10  1.238382e-09  4.182768e-10    male     calm  \n",
       "\n",
       "[5 rows x 132 columns]"
      ]
     },
     "execution_count": 1,
     "metadata": {},
     "output_type": "execute_result"
    }
   ],
   "source": [
    "# Basic packages\n",
    "import numpy as np\n",
    "import pandas as pd\n",
    "\n",
    "# For splitting the data into training and test sets\n",
    "from sklearn.model_selection import train_test_split\n",
    "\n",
    "# For scaling the data as necessary\n",
    "from sklearn.preprocessing import StandardScaler\n",
    "\n",
    "# For doing principal component analysis as necessary\n",
    "from sklearn.decomposition import PCA\n",
    "\n",
    "# For visualizations\n",
    "import matplotlib.pyplot as plt\n",
    "%matplotlib inline\n",
    "\n",
    "# For building a variety of models\n",
    "from sklearn.linear_model import LogisticRegression\n",
    "from sklearn.svm import SVC\n",
    "from sklearn.ensemble import RandomForestClassifier\n",
    "from sklearn.neighbors import KNeighborsClassifier\n",
    "\n",
    "# For hyperparameter optimization\n",
    "from sklearn.pipeline import Pipeline\n",
    "from sklearn.model_selection import GridSearchCV\n",
    "\n",
    "# For caching pipeline and grid search results\n",
    "from tempfile import mkdtemp\n",
    "\n",
    "# For model evaluation\n",
    "from sklearn.metrics import confusion_matrix\n",
    "from sklearn.metrics import classification_report\n",
    "\n",
    "# For getting rid of warning messages\n",
    "import warnings\n",
    "warnings.filterwarnings('ignore')\n",
    "\n",
    "# Loading in the finished dataframe from part 1\n",
    "df = pd.read_csv('C:/Users/Patrick/Documents/Capstone Data/ravdess_mel_offset.csv')\n",
    "df.head()"
   ]
  },
  {
   "cell_type": "markdown",
   "metadata": {},
   "source": [
    "___\n",
    "# Building Models for Classifying Gender (Regardless of Emotion)"
   ]
  },
  {
   "cell_type": "code",
   "execution_count": 2,
   "metadata": {},
   "outputs": [],
   "source": [
    "# Splitting the dataframe into features and target\n",
    "X = df.iloc[:, :-2]\n",
    "g = df['Gender']"
   ]
  },
  {
   "cell_type": "markdown",
   "metadata": {},
   "source": [
    "The convention is to name the target variable 'y', but I will be declaring many different target variables throughout the notebook, so I opted for 'g' for simplicity instead of 'y_g' or 'y_gen', for example."
   ]
  },
  {
   "cell_type": "code",
   "execution_count": 3,
   "metadata": {},
   "outputs": [],
   "source": [
    "# Splitting the data into training and test sets\n",
    "X_train, X_test, g_train, g_test = train_test_split(X, g, test_size=0.3, stratify=g, random_state=1)"
   ]
  },
  {
   "cell_type": "code",
   "execution_count": 4,
   "metadata": {},
   "outputs": [
    {
     "name": "stdout",
     "output_type": "stream",
     "text": [
      "(1006, 130)\n",
      "(432, 130)\n",
      "(1006,)\n",
      "(432,)\n"
     ]
    }
   ],
   "source": [
    "# Checking the shapes\n",
    "print(X_train.shape)\n",
    "print(X_test.shape)\n",
    "print(g_train.shape)\n",
    "print(g_test.shape)"
   ]
  },
  {
   "cell_type": "markdown",
   "metadata": {},
   "source": [
    "I want to build a simple, initial classifier to get a sense of the performances I might get in more optimized models. To this end, I will build a logistic regression model without doing any cross-validation or hyperparameter optimization."
   ]
  },
  {
   "cell_type": "code",
   "execution_count": 5,
   "metadata": {},
   "outputs": [
    {
     "name": "stdout",
     "output_type": "stream",
     "text": [
      "Model accuracy on training set: 66.30218687872762%\n",
      "Model accuracy on test set: 62.96296296296296%\n"
     ]
    }
   ],
   "source": [
    "# Instantiate the model\n",
    "initial_logreg = LogisticRegression()\n",
    "\n",
    "# Fit to training set\n",
    "initial_logreg.fit(X_train, g_train)\n",
    "\n",
    "# Score on training set\n",
    "print(f'Model accuracy on training set: {initial_logreg.score(X_train, g_train)*100}%')\n",
    "\n",
    "# Score on test set\n",
    "print(f'Model accuracy on test set: {initial_logreg.score(X_test, g_test)*100}%')"
   ]
  },
  {
   "cell_type": "markdown",
   "metadata": {},
   "source": [
    "___\n",
    "# Building Models for Classifying Emotion for Males"
   ]
  },
  {
   "cell_type": "code",
   "execution_count": 6,
   "metadata": {},
   "outputs": [],
   "source": [
    "# Making a new dataframe that contains only male recordings\n",
    "male_df = df[df['Gender'] == 'male'].reset_index().drop('index', axis=1)"
   ]
  },
  {
   "cell_type": "code",
   "execution_count": 7,
   "metadata": {},
   "outputs": [],
   "source": [
    "# Splitting the dataframe into features and target\n",
    "Xm = male_df.iloc[:, :-2]\n",
    "em = male_df['Emotion']"
   ]
  },
  {
   "cell_type": "code",
   "execution_count": 8,
   "metadata": {},
   "outputs": [],
   "source": [
    "# Splitting the data into training and test sets\n",
    "Xm_train, Xm_test, em_train, em_test = train_test_split(Xm, em, test_size=0.3, stratify=em, random_state=1)"
   ]
  },
  {
   "cell_type": "code",
   "execution_count": 9,
   "metadata": {},
   "outputs": [
    {
     "name": "stdout",
     "output_type": "stream",
     "text": [
      "(502, 130)\n",
      "(216, 130)\n",
      "(502,)\n",
      "(216,)\n"
     ]
    }
   ],
   "source": [
    "# Checking the shapes\n",
    "print(Xm_train.shape)\n",
    "print(Xm_test.shape)\n",
    "print(em_train.shape)\n",
    "print(em_test.shape)"
   ]
  },
  {
   "cell_type": "markdown",
   "metadata": {},
   "source": [
    "As before, I will try building an initial model."
   ]
  },
  {
   "cell_type": "code",
   "execution_count": 10,
   "metadata": {},
   "outputs": [
    {
     "name": "stdout",
     "output_type": "stream",
     "text": [
      "Model accuracy on training set: 45.21912350597609%\n",
      "Model accuracy on test set: 27.314814814814813%\n"
     ]
    }
   ],
   "source": [
    "# Instantiate the model\n",
    "initial_logreg_em = LogisticRegression()\n",
    "\n",
    "# Fit to training set\n",
    "initial_logreg_em.fit(Xm_train, em_train)\n",
    "\n",
    "# Score on training set\n",
    "print(f'Model accuracy on training set: {initial_logreg_em.score(Xm_train, em_train)*100}%')\n",
    "\n",
    "# Score on test set\n",
    "print(f'Model accuracy on test set: {initial_logreg_em.score(Xm_test, em_test)*100}%')"
   ]
  },
  {
   "cell_type": "code",
   "execution_count": 12,
   "metadata": {},
   "outputs": [
    {
     "data": {
      "text/html": [
       "<div>\n",
       "<style scoped>\n",
       "    .dataframe tbody tr th:only-of-type {\n",
       "        vertical-align: middle;\n",
       "    }\n",
       "\n",
       "    .dataframe tbody tr th {\n",
       "        vertical-align: top;\n",
       "    }\n",
       "\n",
       "    .dataframe thead th {\n",
       "        text-align: right;\n",
       "    }\n",
       "</style>\n",
       "<table border=\"1\" class=\"dataframe\">\n",
       "  <thead>\n",
       "    <tr style=\"text-align: right;\">\n",
       "      <th></th>\n",
       "      <th>Predicted angry</th>\n",
       "      <th>Predicted calm</th>\n",
       "      <th>Predicted disgusted</th>\n",
       "      <th>Predicted fearful</th>\n",
       "      <th>Predicted happy</th>\n",
       "      <th>Predicted neutral</th>\n",
       "      <th>Predicted sad</th>\n",
       "      <th>Predicted surprised</th>\n",
       "    </tr>\n",
       "  </thead>\n",
       "  <tbody>\n",
       "    <tr>\n",
       "      <td>Actual angry</td>\n",
       "      <td>13</td>\n",
       "      <td>2</td>\n",
       "      <td>0</td>\n",
       "      <td>5</td>\n",
       "      <td>3</td>\n",
       "      <td>0</td>\n",
       "      <td>3</td>\n",
       "      <td>3</td>\n",
       "    </tr>\n",
       "    <tr>\n",
       "      <td>Actual calm</td>\n",
       "      <td>0</td>\n",
       "      <td>24</td>\n",
       "      <td>1</td>\n",
       "      <td>0</td>\n",
       "      <td>1</td>\n",
       "      <td>0</td>\n",
       "      <td>2</td>\n",
       "      <td>0</td>\n",
       "    </tr>\n",
       "    <tr>\n",
       "      <td>Actual disgusted</td>\n",
       "      <td>1</td>\n",
       "      <td>13</td>\n",
       "      <td>7</td>\n",
       "      <td>2</td>\n",
       "      <td>1</td>\n",
       "      <td>0</td>\n",
       "      <td>3</td>\n",
       "      <td>2</td>\n",
       "    </tr>\n",
       "    <tr>\n",
       "      <td>Actual fearful</td>\n",
       "      <td>5</td>\n",
       "      <td>5</td>\n",
       "      <td>1</td>\n",
       "      <td>4</td>\n",
       "      <td>5</td>\n",
       "      <td>0</td>\n",
       "      <td>2</td>\n",
       "      <td>7</td>\n",
       "    </tr>\n",
       "    <tr>\n",
       "      <td>Actual happy</td>\n",
       "      <td>3</td>\n",
       "      <td>9</td>\n",
       "      <td>3</td>\n",
       "      <td>2</td>\n",
       "      <td>6</td>\n",
       "      <td>0</td>\n",
       "      <td>3</td>\n",
       "      <td>3</td>\n",
       "    </tr>\n",
       "    <tr>\n",
       "      <td>Actual neutral</td>\n",
       "      <td>0</td>\n",
       "      <td>10</td>\n",
       "      <td>1</td>\n",
       "      <td>0</td>\n",
       "      <td>0</td>\n",
       "      <td>0</td>\n",
       "      <td>1</td>\n",
       "      <td>2</td>\n",
       "    </tr>\n",
       "    <tr>\n",
       "      <td>Actual sad</td>\n",
       "      <td>2</td>\n",
       "      <td>22</td>\n",
       "      <td>1</td>\n",
       "      <td>0</td>\n",
       "      <td>2</td>\n",
       "      <td>0</td>\n",
       "      <td>1</td>\n",
       "      <td>1</td>\n",
       "    </tr>\n",
       "    <tr>\n",
       "      <td>Actual surprised</td>\n",
       "      <td>0</td>\n",
       "      <td>12</td>\n",
       "      <td>2</td>\n",
       "      <td>2</td>\n",
       "      <td>8</td>\n",
       "      <td>0</td>\n",
       "      <td>1</td>\n",
       "      <td>4</td>\n",
       "    </tr>\n",
       "  </tbody>\n",
       "</table>\n",
       "</div>"
      ],
      "text/plain": [
       "                  Predicted angry  Predicted calm  Predicted disgusted  \\\n",
       "Actual angry                   13               2                    0   \n",
       "Actual calm                     0              24                    1   \n",
       "Actual disgusted                1              13                    7   \n",
       "Actual fearful                  5               5                    1   \n",
       "Actual happy                    3               9                    3   \n",
       "Actual neutral                  0              10                    1   \n",
       "Actual sad                      2              22                    1   \n",
       "Actual surprised                0              12                    2   \n",
       "\n",
       "                  Predicted fearful  Predicted happy  Predicted neutral  \\\n",
       "Actual angry                      5                3                  0   \n",
       "Actual calm                       0                1                  0   \n",
       "Actual disgusted                  2                1                  0   \n",
       "Actual fearful                    4                5                  0   \n",
       "Actual happy                      2                6                  0   \n",
       "Actual neutral                    0                0                  0   \n",
       "Actual sad                        0                2                  0   \n",
       "Actual surprised                  2                8                  0   \n",
       "\n",
       "                  Predicted sad  Predicted surprised  \n",
       "Actual angry                  3                    3  \n",
       "Actual calm                   2                    0  \n",
       "Actual disgusted              3                    2  \n",
       "Actual fearful                2                    7  \n",
       "Actual happy                  3                    3  \n",
       "Actual neutral                1                    2  \n",
       "Actual sad                    1                    1  \n",
       "Actual surprised              1                    4  "
      ]
     },
     "execution_count": 12,
     "metadata": {},
     "output_type": "execute_result"
    }
   ],
   "source": [
    "# Having initial_logreg_em make predictions based on the test set features\n",
    "em_pred = initial_logreg_em.predict(Xm_test)\n",
    "\n",
    "# Building the confusion matrix as a dataframe\n",
    "emotions = ['angry', 'calm', 'disgusted', 'fearful', 'happy', 'neutral', 'sad', 'surprised']\n",
    "em_confusion_df = pd.DataFrame(confusion_matrix(em_test, em_pred))\n",
    "em_confusion_df.columns = [f'Predicted {emotion}' for emotion in emotions]\n",
    "em_confusion_df.index = [f'Actual {emotion}' for emotion in emotions]\n",
    "em_confusion_df"
   ]
  },
  {
   "cell_type": "code",
   "execution_count": 13,
   "metadata": {},
   "outputs": [
    {
     "name": "stdout",
     "output_type": "stream",
     "text": [
      "              precision    recall  f1-score   support\n",
      "\n",
      "       angry       0.54      0.45      0.49        29\n",
      "        calm       0.25      0.86      0.38        28\n",
      "   disgusted       0.44      0.24      0.31        29\n",
      "     fearful       0.27      0.14      0.18        29\n",
      "       happy       0.23      0.21      0.22        29\n",
      "     neutral       0.00      0.00      0.00        14\n",
      "         sad       0.06      0.03      0.04        29\n",
      "   surprised       0.18      0.14      0.16        29\n",
      "\n",
      "    accuracy                           0.27       216\n",
      "   macro avg       0.25      0.26      0.22       216\n",
      "weighted avg       0.26      0.27      0.24       216\n",
      "\n"
     ]
    }
   ],
   "source": [
    "# Classification report\n",
    "print(classification_report(em_test, em_pred))"
   ]
  },
  {
   "cell_type": "code",
   "execution_count": 14,
   "metadata": {},
   "outputs": [],
   "source": [
    "# PCA on unscaled features\n",
    "\n",
    "# Instantiate PCA and fit to Xm_train\n",
    "pca = PCA().fit(Xm_train)\n",
    "\n",
    "# Transform Xm_train\n",
    "Xm_train_pca = pca.transform(Xm_train)\n",
    "\n",
    "# Transform Xm_test\n",
    "Xm_test_pca = pca.transform(Xm_test)"
   ]
  },
  {
   "cell_type": "code",
   "execution_count": 15,
   "metadata": {},
   "outputs": [],
   "source": [
    "# Standard scaling\n",
    "\n",
    "# Instantiate the scaler and fit to Xm_train\n",
    "scaler = StandardScaler().fit(Xm_train)\n",
    "\n",
    "# Transform Xm_train\n",
    "Xm_train_scaled = scaler.transform(Xm_train)\n",
    "\n",
    "# Transform Xm_test\n",
    "Xm_test_scaled = scaler.transform(Xm_test)"
   ]
  },
  {
   "cell_type": "code",
   "execution_count": 16,
   "metadata": {},
   "outputs": [],
   "source": [
    "# PCA on scaled features\n",
    "\n",
    "# Instantiate PCA and fit to Xm_train_scaled\n",
    "pca_scaled = PCA().fit(Xm_train_scaled)\n",
    "\n",
    "# Transform Xm_train_scaled\n",
    "Xm_train_scaled_pca = pca_scaled.transform(Xm_train_scaled)\n",
    "\n",
    "# Transform Xm_test_scaled\n",
    "Xm_test_scaled_pca = pca_scaled.transform(Xm_test_scaled)"
   ]
  },
  {
   "cell_type": "code",
   "execution_count": 17,
   "metadata": {},
   "outputs": [
    {
     "data": {
      "image/png": "[encoded data removed]",
      "text/plain": [
       "<Figure size 1080x360 with 2 Axes>"
      ]
     },
     "metadata": {
      "needs_background": "light"
     },
     "output_type": "display_data"
    }
   ],
   "source": [
    "# Plot the explained variance ratios\n",
    "\n",
    "plt.subplots(1, 2, figsize = (15, 5))\n",
    "\n",
    "# Unscaled\n",
    "plt.subplot(1, 2, 1)\n",
    "plt.bar(np.arange(1, len(pca.explained_variance_ratio_)+1), pca.explained_variance_ratio_)\n",
    "plt.xlabel('Principal Component')\n",
    "plt.ylabel('Explained Variance Ratio')\n",
    "plt.title('PCA on Unscaled Features')\n",
    "plt.ylim(top = 0.6) # Equalizing the y-axes\n",
    "\n",
    "# Scaled\n",
    "plt.subplot(1, 2, 2)\n",
    "plt.bar(np.arange(1, len(pca_scaled.explained_variance_ratio_)+1), pca_scaled.explained_variance_ratio_)\n",
    "plt.xlabel('Principal Component')\n",
    "plt.ylabel('Explained Variance Ratio')\n",
    "plt.title('PCA on Scaled Features')\n",
    "plt.ylim(top = 0.6) # Equalizing the y-axes\n",
    "\n",
    "plt.tight_layout()\n",
    "plt.show()"
   ]
  },
  {
   "cell_type": "code",
   "execution_count": 18,
   "metadata": {},
   "outputs": [
    {
     "data": {
      "text/html": [
       "<div>\n",
       "<style scoped>\n",
       "    .dataframe tbody tr th:only-of-type {\n",
       "        vertical-align: middle;\n",
       "    }\n",
       "\n",
       "    .dataframe tbody tr th {\n",
       "        vertical-align: top;\n",
       "    }\n",
       "\n",
       "    .dataframe thead th {\n",
       "        text-align: right;\n",
       "    }\n",
       "</style>\n",
       "<table border=\"1\" class=\"dataframe\">\n",
       "  <thead>\n",
       "    <tr style=\"text-align: right;\">\n",
       "      <th></th>\n",
       "      <th>0</th>\n",
       "      <th>1</th>\n",
       "      <th>2</th>\n",
       "      <th>3</th>\n",
       "      <th>4</th>\n",
       "      <th>5</th>\n",
       "      <th>6</th>\n",
       "      <th>7</th>\n",
       "      <th>8</th>\n",
       "      <th>9</th>\n",
       "      <th>...</th>\n",
       "      <th>120</th>\n",
       "      <th>121</th>\n",
       "      <th>122</th>\n",
       "      <th>123</th>\n",
       "      <th>124</th>\n",
       "      <th>125</th>\n",
       "      <th>126</th>\n",
       "      <th>127</th>\n",
       "      <th>128</th>\n",
       "      <th>129</th>\n",
       "    </tr>\n",
       "  </thead>\n",
       "  <tbody>\n",
       "    <tr>\n",
       "      <td>0</td>\n",
       "      <td>0.000001</td>\n",
       "      <td>0.000003</td>\n",
       "      <td>0.000001</td>\n",
       "      <td>0.000019</td>\n",
       "      <td>0.000186</td>\n",
       "      <td>0.000318</td>\n",
       "      <td>0.000042</td>\n",
       "      <td>0.000005</td>\n",
       "      <td>5.270101e-07</td>\n",
       "      <td>1.731025e-07</td>\n",
       "      <td>...</td>\n",
       "      <td>0.114849</td>\n",
       "      <td>0.17577</td>\n",
       "      <td>0.278263</td>\n",
       "      <td>0.107821</td>\n",
       "      <td>0.055318</td>\n",
       "      <td>0.085634</td>\n",
       "      <td>0.141539</td>\n",
       "      <td>0.094595</td>\n",
       "      <td>0.075233</td>\n",
       "      <td>0.070858</td>\n",
       "    </tr>\n",
       "  </tbody>\n",
       "</table>\n",
       "<p>1 rows × 130 columns</p>\n",
       "</div>"
      ],
      "text/plain": [
       "          0         1         2         3         4         5         6  \\\n",
       "0  0.000001  0.000003  0.000001  0.000019  0.000186  0.000318  0.000042   \n",
       "\n",
       "          7             8             9  ...       120      121       122  \\\n",
       "0  0.000005  5.270101e-07  1.731025e-07  ...  0.114849  0.17577  0.278263   \n",
       "\n",
       "        123       124       125       126       127       128       129  \n",
       "0  0.107821  0.055318  0.085634  0.141539  0.094595  0.075233  0.070858  \n",
       "\n",
       "[1 rows x 130 columns]"
      ]
     },
     "execution_count": 18,
     "metadata": {},
     "output_type": "execute_result"
    }
   ],
   "source": [
    "# Examining the variances\n",
    "var_df = pd.DataFrame(male_df.var()).T\n",
    "var_df"
   ]
  },
  {
   "cell_type": "markdown",
   "metadata": {},
   "source": [
    "How much variance is explained by certain numbers of unscaled and scaled principal components? This will help me determine how many principal components to try in my grid searches later."
   ]
  },
  {
   "cell_type": "code",
   "execution_count": 19,
   "metadata": {},
   "outputs": [
    {
     "name": "stdout",
     "output_type": "stream",
     "text": [
      "Variance explained by 130 unscaled principal components: 100.0%\n",
      "Variance explained by 30 unscaled principal components: 99.58%\n",
      "Variance explained by 20 unscaled principal components: 98.29%\n",
      "Variance explained by 15 unscaled principal components: 96.66%\n"
     ]
    }
   ],
   "source": [
    "# Unscaled\n",
    "num_components = [131, 31, 21, 16]\n",
    "for n in num_components:\n",
    "    print(f'Variance explained by {n-1} unscaled principal components: {np.round(np.sum(pca.explained_variance_ratio_[:n])*100, 2)}%')"
   ]
  },
  {
   "cell_type": "code",
   "execution_count": 21,
   "metadata": {},
   "outputs": [
    {
     "name": "stdout",
     "output_type": "stream",
     "text": [
      "Variance explained by 130 scaled principal components: 100.0%\n",
      "Variance explained by 30 scaled principal components: 98.41%\n",
      "Variance explained by 20 scaled principal components: 94.46%\n",
      "Variance explained by 15 scaled principal components: 89.31%\n"
     ]
    }
   ],
   "source": [
    "# Scaled\n",
    "num_components = [131, 31, 21, 16]\n",
    "for n in num_components:\n",
    "    print(f'Variance explained by {n-1} scaled principal components: {np.round(np.sum(pca_scaled.explained_variance_ratio_[:n])*100, 2)}%')"
   ]
  },
  {
   "cell_type": "code",
   "execution_count": 22,
   "metadata": {},
   "outputs": [],
   "source": [
    "# Cache\n",
    "cachedir = mkdtemp()\n",
    "\n",
    "# Pipeline (these values are placeholders)\n",
    "my_pipeline = Pipeline(steps=[('scaler', StandardScaler()), ('dim_reducer', PCA()), ('model', LogisticRegression())], memory=cachedir)"
   ]
  },
  {
   "cell_type": "code",
   "execution_count": 23,
   "metadata": {},
   "outputs": [],
   "source": [
    "# Parameter grid for log reg\n",
    "logreg_param_grid = [\n",
    "    # l1 without PCA\n",
    "    # unscaled and scaled * 9 regularization strengths = 18 models\n",
    "    {'scaler': [None, StandardScaler()], 'dim_reducer': [None], 'model': [LogisticRegression(penalty='l1', n_jobs=-1)],\n",
    "     'model__C': [0.0001, 0.001, 0.01, 0.1, 1, 10, 100, 1000, 10000]},\n",
    "    \n",
    "    # l1 with PCA\n",
    "    # unscaled and scaled * 3 PCAs * 9 regularization strengths = 54 models\n",
    "    {'scaler': [None, StandardScaler()], 'dim_reducer': [PCA()], 'dim_reducer__n_components': [15, 20, 30],\n",
    "     'model': [LogisticRegression(penalty='l1', n_jobs=-1)], 'model__C': [0.0001, 0.001, 0.01, 0.1, 1, 10, 100, 1000, 10000]},\n",
    "    \n",
    "    # l2 (default) without PCA\n",
    "    # unscaled and scaled * 9 regularization strengths = 18 models\n",
    "    {'scaler': [None, StandardScaler()], 'dim_reducer': [None], 'model': [LogisticRegression(solver='lbfgs', n_jobs=-1)],\n",
    "     'model__C': [0.0001, 0.001, 0.01, 0.1, 1, 10, 100, 1000, 10000]},\n",
    "    \n",
    "    # l2 (default) with PCA\n",
    "    # unscaled and scaled * 3 PCAs * 9 regularization strengths = 54 models\n",
    "    {'scaler': [None, StandardScaler()], 'dim_reducer': [PCA()], 'dim_reducer__n_components': [15, 20, 30],\n",
    "     'model': [LogisticRegression(solver='lbfgs', n_jobs=-1)], 'model__C': [0.0001, 0.001, 0.01, 0.1, 1, 10, 100, 1000, 10000]}\n",
    "]\n",
    "\n",
    "# Instantiate the log reg grid search\n",
    "logreg_grid_search = GridSearchCV(estimator=my_pipeline, param_grid=logreg_param_grid, cv=5, n_jobs=-1, verbose=5)"
   ]
  },
  {
   "cell_type": "code",
   "execution_count": 24,
   "metadata": {},
   "outputs": [
    {
     "name": "stdout",
     "output_type": "stream",
     "text": [
      "Fitting 5 folds for each of 144 candidates, totalling 720 fits\n"
     ]
    },
    {
     "name": "stderr",
     "output_type": "stream",
     "text": [
      "[Parallel(n_jobs=-1)]: Using backend LokyBackend with 4 concurrent workers.\n",
      "[Parallel(n_jobs=-1)]: Done  10 tasks      | elapsed:    3.9s\n",
      "[Parallel(n_jobs=-1)]: Done  79 tasks      | elapsed:  4.8min\n",
      "[Parallel(n_jobs=-1)]: Done 169 tasks      | elapsed:  8.7min\n",
      "[Parallel(n_jobs=-1)]: Done 339 tasks      | elapsed:  9.8min\n",
      "[Parallel(n_jobs=-1)]: Done 517 tasks      | elapsed: 10.3min\n",
      "[Parallel(n_jobs=-1)]: Done 720 out of 720 | elapsed: 10.6min finished\n"
     ]
    }
   ],
   "source": [
    "# Fit the log reg grid search\n",
    "fitted_logreg_grid_em = logreg_grid_search.fit(Xm_train, em_train)"
   ]
  },
  {
   "cell_type": "code",
   "execution_count": 25,
   "metadata": {},
   "outputs": [
    {
     "data": {
      "text/plain": [
       "Pipeline(memory='C:\\\\Users\\\\Patrick\\\\AppData\\\\Local\\\\Temp\\\\tmpsg6220ix',\n",
       "         steps=[('scaler', None),\n",
       "                ('dim_reducer',\n",
       "                 PCA(copy=True, iterated_power='auto', n_components=20,\n",
       "                     random_state=None, svd_solver='auto', tol=0.0,\n",
       "                     whiten=False)),\n",
       "                ('model',\n",
       "                 LogisticRegression(C=1, class_weight=None, dual=False,\n",
       "                                    fit_intercept=True, intercept_scaling=1,\n",
       "                                    l1_ratio=None, max_iter=100,\n",
       "                                    multi_class='warn', n_jobs=-1, penalty='l1',\n",
       "                                    random_state=None, solver='warn',\n",
       "                                    tol=0.0001, verbose=0, warm_start=False))],\n",
       "         verbose=False)"
      ]
     },
     "execution_count": 25,
     "metadata": {},
     "output_type": "execute_result"
    }
   ],
   "source": [
    "# What was the best log reg?\n",
    "fitted_logreg_grid_em.best_estimator_"
   ]
  },
  {
   "cell_type": "code",
   "execution_count": 26,
   "metadata": {},
   "outputs": [
    {
     "name": "stdout",
     "output_type": "stream",
     "text": [
      "The best log reg's accuracy on the training set: 34.06374501992032%\n",
      "The best log reg's accuracy on the test set: 26.851851851851855%\n"
     ]
    }
   ],
   "source": [
    "print(f\"The best log reg's accuracy on the training set: {fitted_logreg_grid_em.score(Xm_train, em_train)*100}%\")\n",
    "print(f\"The best log reg's accuracy on the test set: {fitted_logreg_grid_em.score(Xm_test, em_test)*100}%\")"
   ]
  },
  {
   "cell_type": "code",
   "execution_count": 28,
   "metadata": {},
   "outputs": [],
   "source": [
    "# Parameter grid for SVM\n",
    "svm_param_grid = [\n",
    "    # unscaled and scaled * 9 regularization strengths = 18 models\n",
    "    {'scaler': [None, StandardScaler()], 'dim_reducer': [None], 'model': [SVC()], 'model__C': [0.0001, 0.001, 0.01, 0.1, 1, 10, 100, 1000, 10000]},\n",
    "    \n",
    "    # unscaled and scaled * 3 PCAs * 9 regularization strengths = 54 models\n",
    "    {'scaler': [None, StandardScaler()], 'dim_reducer': [PCA()], 'dim_reducer__n_components': [15, 20, 30], 'model': [SVC()],\n",
    "     'model__C':[0.0001, 0.001, 0.01, 0.1, 1, 10, 100, 1000, 10000]}\n",
    "]\n",
    "\n",
    "# Instantiate the SVM grid search\n",
    "svm_grid_search = GridSearchCV(estimator=my_pipeline, param_grid=svm_param_grid, cv=5, n_jobs=-1, verbose=5)"
   ]
  },
  {
   "cell_type": "code",
   "execution_count": 29,
   "metadata": {},
   "outputs": [
    {
     "name": "stdout",
     "output_type": "stream",
     "text": [
      "Fitting 5 folds for each of 72 candidates, totalling 360 fits\n"
     ]
    },
    {
     "name": "stderr",
     "output_type": "stream",
     "text": [
      "[Parallel(n_jobs=-1)]: Using backend LokyBackend with 4 concurrent workers.\n",
      "[Parallel(n_jobs=-1)]: Done  12 tasks      | elapsed:    0.3s\n",
      "[Parallel(n_jobs=-1)]: Done 120 tasks      | elapsed:    2.9s\n",
      "[Parallel(n_jobs=-1)]: Done 300 tasks      | elapsed:    6.8s\n",
      "[Parallel(n_jobs=-1)]: Done 360 out of 360 | elapsed:    8.2s finished\n"
     ]
    }
   ],
   "source": [
    "# Fit the SVM grid search\n",
    "fitted_svm_grid_em = svm_grid_search.fit(Xm_train, em_train)"
   ]
  },
  {
   "cell_type": "code",
   "execution_count": 30,
   "metadata": {},
   "outputs": [
    {
     "data": {
      "text/plain": [
       "Pipeline(memory='C:\\\\Users\\\\Patrick\\\\AppData\\\\Local\\\\Temp\\\\tmpsg6220ix',\n",
       "         steps=[('scaler', None),\n",
       "                ('dim_reducer',\n",
       "                 PCA(copy=True, iterated_power='auto', n_components=30,\n",
       "                     random_state=None, svd_solver='auto', tol=0.0,\n",
       "                     whiten=False)),\n",
       "                ('model',\n",
       "                 SVC(C=1000, cache_size=200, class_weight=None, coef0=0.0,\n",
       "                     decision_function_shape='ovr', degree=3,\n",
       "                     gamma='auto_deprecated', kernel='rbf', max_iter=-1,\n",
       "                     probability=False, random_state=None, shrinking=True,\n",
       "                     tol=0.001, verbose=False))],\n",
       "         verbose=False)"
      ]
     },
     "execution_count": 30,
     "metadata": {},
     "output_type": "execute_result"
    }
   ],
   "source": [
    "# What was the best SVM?\n",
    "fitted_svm_grid_em.best_estimator_"
   ]
  },
  {
   "cell_type": "code",
   "execution_count": 31,
   "metadata": {},
   "outputs": [
    {
     "name": "stdout",
     "output_type": "stream",
     "text": [
      "The best SVM's accuracy on the training set: 66.93227091633466%\n",
      "The best SVM's accuracy on the test set: 32.407407407407405%\n"
     ]
    }
   ],
   "source": [
    "print(f\"The best SVM's accuracy on the training set: {fitted_svm_grid_em.score(Xm_train, em_train)*100}%\")\n",
    "print(f\"The best SVM's accuracy on the test set: {fitted_svm_grid_em.score(Xm_test, em_test)*100}%\")"
   ]
  },
  {
   "cell_type": "code",
   "execution_count": 33,
   "metadata": {},
   "outputs": [],
   "source": [
    "# Parameter grid for KNN\n",
    "knn_param_grid = [\n",
    "    # unscaled and scaled * 10 Ks = 20 models\n",
    "    {'scaler': [None, StandardScaler()], 'dim_reducer': [None], 'model': [KNeighborsClassifier(n_jobs=-1)], 'model__n_neighbors': np.arange(3, 22, 2)},\n",
    "    \n",
    "    # unscaled and scaled * 3 PCAs * 10 Ks = 60 models\n",
    "    {'scaler': [None, StandardScaler()], 'dim_reducer': [PCA()], 'dim_reducer__n_components': [15, 20, 30], 'model': [KNeighborsClassifier(n_jobs=-1)],\n",
    "     'model__n_neighbors': np.arange(3, 22, 2)}\n",
    "]\n",
    "\n",
    "# Instantiate the grid search\n",
    "knn_grid_search = GridSearchCV(estimator=my_pipeline, param_grid=knn_param_grid, cv=5, n_jobs=-1, verbose=5)"
   ]
  },
  {
   "cell_type": "code",
   "execution_count": 34,
   "metadata": {},
   "outputs": [
    {
     "name": "stdout",
     "output_type": "stream",
     "text": [
      "Fitting 5 folds for each of 80 candidates, totalling 400 fits\n"
     ]
    },
    {
     "name": "stderr",
     "output_type": "stream",
     "text": [
      "[Parallel(n_jobs=-1)]: Using backend LokyBackend with 4 concurrent workers.\n",
      "[Parallel(n_jobs=-1)]: Done  12 tasks      | elapsed:    0.5s\n",
      "[Parallel(n_jobs=-1)]: Done 120 tasks      | elapsed:    4.1s\n",
      "[Parallel(n_jobs=-1)]: Done 300 tasks      | elapsed:   11.3s\n",
      "[Parallel(n_jobs=-1)]: Done 400 out of 400 | elapsed:   15.0s finished\n"
     ]
    }
   ],
   "source": [
    "# Fit the KNN grid search\n",
    "fitted_knn_grid_em = knn_grid_search.fit(Xm_train, em_train)"
   ]
  },
  {
   "cell_type": "code",
   "execution_count": 35,
   "metadata": {},
   "outputs": [
    {
     "data": {
      "text/plain": [
       "Pipeline(memory='C:\\\\Users\\\\Patrick\\\\AppData\\\\Local\\\\Temp\\\\tmpsg6220ix',\n",
       "         steps=[('scaler', None),\n",
       "                ('dim_reducer',\n",
       "                 PCA(copy=True, iterated_power='auto', n_components=15,\n",
       "                     random_state=None, svd_solver='auto', tol=0.0,\n",
       "                     whiten=False)),\n",
       "                ('model',\n",
       "                 KNeighborsClassifier(algorithm='auto', leaf_size=30,\n",
       "                                      metric='minkowski', metric_params=None,\n",
       "                                      n_jobs=-1, n_neighbors=3, p=2,\n",
       "                                      weights='uniform'))],\n",
       "         verbose=False)"
      ]
     },
     "execution_count": 35,
     "metadata": {},
     "output_type": "execute_result"
    }
   ],
   "source": [
    "# What was the best KNN model?\n",
    "fitted_knn_grid_em.best_estimator_"
   ]
  },
  {
   "cell_type": "code",
   "execution_count": 36,
   "metadata": {},
   "outputs": [
    {
     "name": "stdout",
     "output_type": "stream",
     "text": [
      "The best KNN model's accuracy on the training set: 61.15537848605578%\n",
      "The best KNN model's accuracy on the test set: 30.555555555555557%\n"
     ]
    }
   ],
   "source": [
    "print(f\"The best KNN model's accuracy on the training set: {fitted_knn_grid_em.score(Xm_train, em_train)*100}%\")\n",
    "print(f\"The best KNN model's accuracy on the test set: {fitted_knn_grid_em.score(Xm_test, em_test)*100}%\")"
   ]
  },
  {
   "cell_type": "code",
   "execution_count": 37,
   "metadata": {},
   "outputs": [],
   "source": [
    "# Parameter grid for random forest (scaling is unnecessary)\n",
    "rf_param_grid = [\n",
    "    # 5 numbers of estimators * 5 max depths = 25 models\n",
    "    {'scaler': [None], 'dim_reducer': [None], 'model': [RandomForestClassifier(n_jobs=-1)], 'model__n_estimators': np.arange(100, 501, 100),\n",
    "     'model__max_depth': np.arange(5, 26, 5)},\n",
    "    \n",
    "    # 3 PCAs * 5 numbers of estimators * 5 max depths = 75 models\n",
    "    {'scaler': [None], 'dim_reducer': [PCA()], 'dim_reducer__n_components': [15, 20, 30], 'model': [RandomForestClassifier(n_jobs=-1)],\n",
    "     'model__n_estimators': np.arange(100, 501, 100), 'model__max_depth': np.arange(5, 26, 5)}\n",
    "]\n",
    "\n",
    "# Instantiate the rf grid search\n",
    "rf_grid_search = GridSearchCV(estimator=my_pipeline, param_grid=rf_param_grid, cv=5, n_jobs=-1, verbose=5)"
   ]
  },
  {
   "cell_type": "code",
   "execution_count": 38,
   "metadata": {},
   "outputs": [
    {
     "name": "stdout",
     "output_type": "stream",
     "text": [
      "Fitting 5 folds for each of 100 candidates, totalling 500 fits\n"
     ]
    },
    {
     "name": "stderr",
     "output_type": "stream",
     "text": [
      "[Parallel(n_jobs=-1)]: Using backend LokyBackend with 4 concurrent workers.\n",
      "[Parallel(n_jobs=-1)]: Done  10 tasks      | elapsed:    2.8s\n",
      "[Parallel(n_jobs=-1)]: Done  64 tasks      | elapsed:   31.6s\n",
      "[Parallel(n_jobs=-1)]: Done 154 tasks      | elapsed:  1.3min\n",
      "[Parallel(n_jobs=-1)]: Done 280 tasks      | elapsed:  2.1min\n",
      "[Parallel(n_jobs=-1)]: Done 442 tasks      | elapsed:  3.0min\n",
      "[Parallel(n_jobs=-1)]: Done 500 out of 500 | elapsed:  3.3min finished\n"
     ]
    }
   ],
   "source": [
    "# Fit the rf grid search\n",
    "fitted_rf_grid_em = rf_grid_search.fit(Xm_train, em_train)"
   ]
  },
  {
   "cell_type": "code",
   "execution_count": 39,
   "metadata": {},
   "outputs": [
    {
     "data": {
      "text/plain": [
       "Pipeline(memory='C:\\\\Users\\\\Patrick\\\\AppData\\\\Local\\\\Temp\\\\tmpsg6220ix',\n",
       "         steps=[('scaler', None), ('dim_reducer', None),\n",
       "                ('model',\n",
       "                 RandomForestClassifier(bootstrap=True, class_weight=None,\n",
       "                                        criterion='gini', max_depth=20,\n",
       "                                        max_features='auto',\n",
       "                                        max_leaf_nodes=None,\n",
       "                                        min_impurity_decrease=0.0,\n",
       "                                        min_impurity_split=None,\n",
       "                                        min_samples_leaf=1, min_samples_split=2,\n",
       "                                        min_weight_fraction_leaf=0.0,\n",
       "                                        n_estimators=200, n_jobs=-1,\n",
       "                                        oob_score=False, random_state=None,\n",
       "                                        verbose=0, warm_start=False))],\n",
       "         verbose=False)"
      ]
     },
     "execution_count": 39,
     "metadata": {},
     "output_type": "execute_result"
    }
   ],
   "source": [
    "# What was the best rf?\n",
    "fitted_rf_grid_em.best_estimator_"
   ]
  },
  {
   "cell_type": "code",
   "execution_count": 40,
   "metadata": {},
   "outputs": [
    {
     "name": "stdout",
     "output_type": "stream",
     "text": [
      "The best random forest's accuracy on the training set: 100.0%\n",
      "The best random forest's accuracy on the test set: 42.129629629629626%\n"
     ]
    }
   ],
   "source": [
    "print(f\"The best random forest's accuracy on the training set: {fitted_rf_grid_em.score(Xm_train, em_train)*100}%\")\n",
    "print(f\"The best random forest's accuracy on the test set: {fitted_rf_grid_em.score(Xm_test, em_test)*100}%\")"
   ]
  },
  {
   "cell_type": "markdown",
   "metadata": {},
   "source": [
    "___\n",
    "# Building Models for Classifying Emotion for Females"
   ]
  },
  {
   "cell_type": "code",
   "execution_count": 41,
   "metadata": {},
   "outputs": [],
   "source": [
    "# Making a new dataframe that contains only female recordings\n",
    "female_df = df[df['Gender'] == 'female'].reset_index().drop('index', axis=1)"
   ]
  },
  {
   "cell_type": "code",
   "execution_count": 42,
   "metadata": {},
   "outputs": [],
   "source": [
    "# Splitting the dataframe into features and target\n",
    "Xf = female_df.iloc[:, :-2]\n",
    "ef = female_df['Emotion']"
   ]
  },
  {
   "cell_type": "code",
   "execution_count": 43,
   "metadata": {},
   "outputs": [],
   "source": [
    "# Splitting the data into training and test sets\n",
    "Xf_train, Xf_test, ef_train, ef_test = train_test_split(Xf, ef, test_size=0.3, stratify=ef, random_state=1)"
   ]
  },
  {
   "cell_type": "code",
   "execution_count": 44,
   "metadata": {},
   "outputs": [
    {
     "name": "stdout",
     "output_type": "stream",
     "text": [
      "(504, 130)\n",
      "(216, 130)\n",
      "(504,)\n",
      "(216,)\n"
     ]
    }
   ],
   "source": [
    "# Checking the shapes\n",
    "print(Xf_train.shape)\n",
    "print(Xf_test.shape)\n",
    "print(ef_train.shape)\n",
    "print(ef_test.shape)"
   ]
  },
  {
   "cell_type": "markdown",
   "metadata": {},
   "source": [
    "Here is an initial model:"
   ]
  },
  {
   "cell_type": "code",
   "execution_count": 45,
   "metadata": {},
   "outputs": [
    {
     "name": "stdout",
     "output_type": "stream",
     "text": [
      "Model accuracy on training set: 46.62698412698413%\n",
      "Model accuracy on test set: 31.944444444444443%\n"
     ]
    }
   ],
   "source": [
    "# Instantiate the model\n",
    "initial_logreg_ef = LogisticRegression()\n",
    "\n",
    "# Fit to training set\n",
    "initial_logreg_ef.fit(Xf_train, ef_train)\n",
    "\n",
    "# Score on training set\n",
    "print(f'Model accuracy on training set: {initial_logreg_ef.score(Xf_train, ef_train)*100}%')\n",
    "\n",
    "# Score on test set\n",
    "print(f'Model accuracy on test set: {initial_logreg_ef.score(Xf_test, ef_test)*100}%')"
   ]
  },
  {
   "cell_type": "code",
   "execution_count": 46,
   "metadata": {},
   "outputs": [
    {
     "data": {
      "text/html": [
       "<div>\n",
       "<style scoped>\n",
       "    .dataframe tbody tr th:only-of-type {\n",
       "        vertical-align: middle;\n",
       "    }\n",
       "\n",
       "    .dataframe tbody tr th {\n",
       "        vertical-align: top;\n",
       "    }\n",
       "\n",
       "    .dataframe thead th {\n",
       "        text-align: right;\n",
       "    }\n",
       "</style>\n",
       "<table border=\"1\" class=\"dataframe\">\n",
       "  <thead>\n",
       "    <tr style=\"text-align: right;\">\n",
       "      <th></th>\n",
       "      <th>Predicted angry</th>\n",
       "      <th>Predicted calm</th>\n",
       "      <th>Predicted disgusted</th>\n",
       "      <th>Predicted fearful</th>\n",
       "      <th>Predicted happy</th>\n",
       "      <th>Predicted neutral</th>\n",
       "      <th>Predicted sad</th>\n",
       "      <th>Predicted surprised</th>\n",
       "    </tr>\n",
       "  </thead>\n",
       "  <tbody>\n",
       "    <tr>\n",
       "      <td>Actual angry</td>\n",
       "      <td>10</td>\n",
       "      <td>2</td>\n",
       "      <td>2</td>\n",
       "      <td>2</td>\n",
       "      <td>3</td>\n",
       "      <td>0</td>\n",
       "      <td>1</td>\n",
       "      <td>9</td>\n",
       "    </tr>\n",
       "    <tr>\n",
       "      <td>Actual calm</td>\n",
       "      <td>0</td>\n",
       "      <td>27</td>\n",
       "      <td>0</td>\n",
       "      <td>0</td>\n",
       "      <td>1</td>\n",
       "      <td>0</td>\n",
       "      <td>0</td>\n",
       "      <td>1</td>\n",
       "    </tr>\n",
       "    <tr>\n",
       "      <td>Actual disgusted</td>\n",
       "      <td>0</td>\n",
       "      <td>14</td>\n",
       "      <td>11</td>\n",
       "      <td>0</td>\n",
       "      <td>0</td>\n",
       "      <td>0</td>\n",
       "      <td>2</td>\n",
       "      <td>2</td>\n",
       "    </tr>\n",
       "    <tr>\n",
       "      <td>Actual fearful</td>\n",
       "      <td>4</td>\n",
       "      <td>2</td>\n",
       "      <td>3</td>\n",
       "      <td>4</td>\n",
       "      <td>4</td>\n",
       "      <td>0</td>\n",
       "      <td>4</td>\n",
       "      <td>8</td>\n",
       "    </tr>\n",
       "    <tr>\n",
       "      <td>Actual happy</td>\n",
       "      <td>4</td>\n",
       "      <td>4</td>\n",
       "      <td>3</td>\n",
       "      <td>4</td>\n",
       "      <td>3</td>\n",
       "      <td>0</td>\n",
       "      <td>4</td>\n",
       "      <td>7</td>\n",
       "    </tr>\n",
       "    <tr>\n",
       "      <td>Actual neutral</td>\n",
       "      <td>0</td>\n",
       "      <td>13</td>\n",
       "      <td>0</td>\n",
       "      <td>0</td>\n",
       "      <td>0</td>\n",
       "      <td>0</td>\n",
       "      <td>0</td>\n",
       "      <td>1</td>\n",
       "    </tr>\n",
       "    <tr>\n",
       "      <td>Actual sad</td>\n",
       "      <td>5</td>\n",
       "      <td>22</td>\n",
       "      <td>0</td>\n",
       "      <td>0</td>\n",
       "      <td>1</td>\n",
       "      <td>0</td>\n",
       "      <td>1</td>\n",
       "      <td>0</td>\n",
       "    </tr>\n",
       "    <tr>\n",
       "      <td>Actual surprised</td>\n",
       "      <td>1</td>\n",
       "      <td>7</td>\n",
       "      <td>0</td>\n",
       "      <td>2</td>\n",
       "      <td>2</td>\n",
       "      <td>0</td>\n",
       "      <td>3</td>\n",
       "      <td>13</td>\n",
       "    </tr>\n",
       "  </tbody>\n",
       "</table>\n",
       "</div>"
      ],
      "text/plain": [
       "                  Predicted angry  Predicted calm  Predicted disgusted  \\\n",
       "Actual angry                   10               2                    2   \n",
       "Actual calm                     0              27                    0   \n",
       "Actual disgusted                0              14                   11   \n",
       "Actual fearful                  4               2                    3   \n",
       "Actual happy                    4               4                    3   \n",
       "Actual neutral                  0              13                    0   \n",
       "Actual sad                      5              22                    0   \n",
       "Actual surprised                1               7                    0   \n",
       "\n",
       "                  Predicted fearful  Predicted happy  Predicted neutral  \\\n",
       "Actual angry                      2                3                  0   \n",
       "Actual calm                       0                1                  0   \n",
       "Actual disgusted                  0                0                  0   \n",
       "Actual fearful                    4                4                  0   \n",
       "Actual happy                      4                3                  0   \n",
       "Actual neutral                    0                0                  0   \n",
       "Actual sad                        0                1                  0   \n",
       "Actual surprised                  2                2                  0   \n",
       "\n",
       "                  Predicted sad  Predicted surprised  \n",
       "Actual angry                  1                    9  \n",
       "Actual calm                   0                    1  \n",
       "Actual disgusted              2                    2  \n",
       "Actual fearful                4                    8  \n",
       "Actual happy                  4                    7  \n",
       "Actual neutral                0                    1  \n",
       "Actual sad                    1                    0  \n",
       "Actual surprised              3                   13  "
      ]
     },
     "execution_count": 46,
     "metadata": {},
     "output_type": "execute_result"
    }
   ],
   "source": [
    "# Having initial_logreg_ef make predictions based on the test set features\n",
    "ef_pred = initial_logreg_ef.predict(Xf_test)\n",
    "\n",
    "# Building the confusion matrix as a dataframe\n",
    "emotions = ['angry', 'calm', 'disgusted', 'fearful', 'happy', 'neutral', 'sad', 'surprised']\n",
    "ef_confusion_df = pd.DataFrame(confusion_matrix(ef_test, ef_pred))\n",
    "ef_confusion_df.columns = [f'Predicted {emotion}' for emotion in emotions]\n",
    "ef_confusion_df.index = [f'Actual {emotion}' for emotion in emotions]\n",
    "ef_confusion_df"
   ]
  },
  {
   "cell_type": "code",
   "execution_count": 47,
   "metadata": {},
   "outputs": [
    {
     "name": "stdout",
     "output_type": "stream",
     "text": [
      "              precision    recall  f1-score   support\n",
      "\n",
      "       angry       0.42      0.34      0.38        29\n",
      "        calm       0.30      0.93      0.45        29\n",
      "   disgusted       0.58      0.38      0.46        29\n",
      "     fearful       0.33      0.14      0.20        29\n",
      "       happy       0.21      0.10      0.14        29\n",
      "     neutral       0.00      0.00      0.00        14\n",
      "         sad       0.07      0.03      0.05        29\n",
      "   surprised       0.32      0.46      0.38        28\n",
      "\n",
      "    accuracy                           0.32       216\n",
      "   macro avg       0.28      0.30      0.26       216\n",
      "weighted avg       0.30      0.32      0.27       216\n",
      "\n"
     ]
    }
   ],
   "source": [
    "# Classification report\n",
    "print(classification_report(ef_test, ef_pred))"
   ]
  },
  {
   "cell_type": "code",
   "execution_count": 48,
   "metadata": {},
   "outputs": [],
   "source": [
    "# PCA on unscaled features\n",
    "\n",
    "# Instantiate PCA and fit to Xf_train\n",
    "pca = PCA().fit(Xf_train)\n",
    "\n",
    "# Transform Xf_train\n",
    "Xf_train_pca = pca.transform(Xf_train)\n",
    "\n",
    "# Transform Xf_test\n",
    "Xf_test_pca = pca.transform(Xf_test)"
   ]
  },
  {
   "cell_type": "code",
   "execution_count": 49,
   "metadata": {},
   "outputs": [],
   "source": [
    "# Standard scaling\n",
    "\n",
    "# Instantiate the scaler and fit to Xf_train\n",
    "scaler = StandardScaler().fit(Xf_train)\n",
    "\n",
    "# Transform Xf_train\n",
    "Xf_train_scaled = scaler.transform(Xf_train)\n",
    "\n",
    "# Transform Xf_test\n",
    "Xf_test_scaled = scaler.transform(Xf_test)"
   ]
  },
  {
   "cell_type": "code",
   "execution_count": 50,
   "metadata": {},
   "outputs": [],
   "source": [
    "# PCA on scaled features\n",
    "\n",
    "# Instantiate PCA and fit to Xf_train_scaled\n",
    "pca_scaled = PCA().fit(Xf_train_scaled)\n",
    "\n",
    "# Transform Xf_train_scaled\n",
    "Xf_train_scaled_pca = pca_scaled.transform(Xf_train_scaled)\n",
    "\n",
    "# Transform Xf_test_scaled\n",
    "Xf_test_scaled_pca = pca_scaled.transform(Xf_test_scaled)"
   ]
  },
  {
   "cell_type": "code",
   "execution_count": 51,
   "metadata": {},
   "outputs": [
    {
     "data": {
      "image/png": "[encoded data removed]",
      "text/plain": [
       "<Figure size 1080x360 with 2 Axes>"
      ]
     },
     "metadata": {
      "needs_background": "light"
     },
     "output_type": "display_data"
    }
   ],
   "source": [
    "# Plot the explained variance ratios\n",
    "\n",
    "plt.subplots(1, 2, figsize = (15, 5))\n",
    "\n",
    "# Unscaled\n",
    "plt.subplot(1, 2, 1)\n",
    "plt.bar(np.arange(1, len(pca.explained_variance_ratio_)+1), pca.explained_variance_ratio_)\n",
    "plt.xlabel('Principal Component')\n",
    "plt.ylabel('Explained Variance Ratio')\n",
    "plt.title('PCA on Unscaled Features')\n",
    "plt.ylim(top = 0.6) # Equalizing the y-axes\n",
    "\n",
    "# Scaled\n",
    "plt.subplot(1, 2, 2)\n",
    "plt.bar(np.arange(1, len(pca_scaled.explained_variance_ratio_)+1), pca_scaled.explained_variance_ratio_)\n",
    "plt.xlabel('Principal Component')\n",
    "plt.ylabel('Explained Variance Ratio')\n",
    "plt.title('PCA on Scaled Features')\n",
    "plt.ylim(top = 0.6) # Equalizing the y-axes\n",
    "\n",
    "plt.tight_layout()\n",
    "plt.show()"
   ]
  },
  {
   "cell_type": "markdown",
   "metadata": {},
   "source": [
    "How much variance is explained by certain numbers of unscaled and scaled principal components? This will help me determine how many principal components to try in my grid searches later."
   ]
  },
  {
   "cell_type": "code",
   "execution_count": 52,
   "metadata": {},
   "outputs": [
    {
     "name": "stdout",
     "output_type": "stream",
     "text": [
      "Variance explained by 130 unscaled principal components: 100.0%\n",
      "Variance explained by 30 unscaled principal components: 99.07%\n",
      "Variance explained by 20 unscaled principal components: 96.72%\n",
      "Variance explained by 15 unscaled principal components: 93.56%\n"
     ]
    }
   ],
   "source": [
    "# Unscaled\n",
    "num_components = [131, 31, 21, 16]\n",
    "for n in num_components:\n",
    "    print(f'Variance explained by {n-1} unscaled principal components: {np.round(np.sum(pca.explained_variance_ratio_[:n])*100, 2)}%')"
   ]
  },
  {
   "cell_type": "code",
   "execution_count": 53,
   "metadata": {},
   "outputs": [
    {
     "name": "stdout",
     "output_type": "stream",
     "text": [
      "Variance explained by 130 scaled principal components: 100.0%\n",
      "Variance explained by 30 scaled principal components: 96.31%\n",
      "Variance explained by 20 scaled principal components: 90.65%\n",
      "Variance explained by 15 scaled principal components: 84.21%\n"
     ]
    }
   ],
   "source": [
    "# Scaled\n",
    "num_components = [131, 31, 21, 16]\n",
    "for n in num_components:\n",
    "    print(f'Variance explained by {n-1} scaled principal components: {np.round(np.sum(pca_scaled.explained_variance_ratio_[:n])*100, 2)}%')"
   ]
  },
  {
   "cell_type": "markdown",
   "metadata": {},
   "source": [
    "Like before, I will now do a grid search for each classifier type, with five-fold cross-validation to optimize the hyperparameters."
   ]
  },
  {
   "cell_type": "code",
   "execution_count": 54,
   "metadata": {},
   "outputs": [
    {
     "name": "stdout",
     "output_type": "stream",
     "text": [
      "Fitting 5 folds for each of 144 candidates, totalling 720 fits\n"
     ]
    },
    {
     "name": "stderr",
     "output_type": "stream",
     "text": [
      "[Parallel(n_jobs=-1)]: Using backend LokyBackend with 4 concurrent workers.\n",
      "[Parallel(n_jobs=-1)]: Done  32 tasks      | elapsed:    1.0s\n",
      "[Parallel(n_jobs=-1)]: Done 187 tasks      | elapsed:   54.9s\n",
      "[Parallel(n_jobs=-1)]: Done 277 tasks      | elapsed:  2.0min\n",
      "[Parallel(n_jobs=-1)]: Done 414 tasks      | elapsed:  3.8min\n",
      "[Parallel(n_jobs=-1)]: Done 576 tasks      | elapsed:  4.1min\n",
      "[Parallel(n_jobs=-1)]: Done 720 out of 720 | elapsed: 11.0min finished\n"
     ]
    }
   ],
   "source": [
    "# Fit the log reg grid search\n",
    "fitted_logreg_grid_ef = logreg_grid_search.fit(Xf_train, ef_train)"
   ]
  },
  {
   "cell_type": "code",
   "execution_count": 55,
   "metadata": {},
   "outputs": [
    {
     "data": {
      "text/plain": [
       "Pipeline(memory='C:\\\\Users\\\\Patrick\\\\AppData\\\\Local\\\\Temp\\\\tmpsg6220ix',\n",
       "         steps=[('scaler',\n",
       "                 StandardScaler(copy=True, with_mean=True, with_std=True)),\n",
       "                ('dim_reducer',\n",
       "                 PCA(copy=True, iterated_power='auto', n_components=20,\n",
       "                     random_state=None, svd_solver='auto', tol=0.0,\n",
       "                     whiten=False)),\n",
       "                ('model',\n",
       "                 LogisticRegression(C=100, class_weight=None, dual=False,\n",
       "                                    fit_intercept=True, intercept_scaling=1,\n",
       "                                    l1_ratio=None, max_iter=100,\n",
       "                                    multi_class='warn', n_jobs=-1, penalty='l1',\n",
       "                                    random_state=None, solver='warn',\n",
       "                                    tol=0.0001, verbose=0, warm_start=False))],\n",
       "         verbose=False)"
      ]
     },
     "execution_count": 55,
     "metadata": {},
     "output_type": "execute_result"
    }
   ],
   "source": [
    "# What was the best log reg?\n",
    "fitted_logreg_grid_ef.best_estimator_"
   ]
  },
  {
   "cell_type": "code",
   "execution_count": 56,
   "metadata": {},
   "outputs": [
    {
     "name": "stdout",
     "output_type": "stream",
     "text": [
      "The best log reg's accuracy on the training set: 41.07142857142857%\n",
      "The best log reg's accuracy on the test set: 33.33333333333333%\n"
     ]
    }
   ],
   "source": [
    "print(f\"The best log reg's accuracy on the training set: {fitted_logreg_grid_ef.score(Xf_train, ef_train)*100}%\")\n",
    "print(f\"The best log reg's accuracy on the test set: {fitted_logreg_grid_ef.score(Xf_test, ef_test)*100}%\")"
   ]
  },
  {
   "cell_type": "code",
   "execution_count": 58,
   "metadata": {},
   "outputs": [
    {
     "name": "stdout",
     "output_type": "stream",
     "text": [
      "Fitting 5 folds for each of 72 candidates, totalling 360 fits\n"
     ]
    },
    {
     "name": "stderr",
     "output_type": "stream",
     "text": [
      "[Parallel(n_jobs=-1)]: Using backend LokyBackend with 4 concurrent workers.\n",
      "[Parallel(n_jobs=-1)]: Done  10 tasks      | elapsed:    0.8s\n",
      "[Parallel(n_jobs=-1)]: Done  64 tasks      | elapsed:    3.1s\n",
      "[Parallel(n_jobs=-1)]: Done 238 tasks      | elapsed:    7.6s\n",
      "[Parallel(n_jobs=-1)]: Done 360 out of 360 | elapsed:   14.7s finished\n"
     ]
    }
   ],
   "source": [
    "# Fit the SVM grid search\n",
    "fitted_svm_grid_ef = svm_grid_search.fit(Xf_train, ef_train)"
   ]
  },
  {
   "cell_type": "code",
   "execution_count": 59,
   "metadata": {},
   "outputs": [
    {
     "data": {
      "text/plain": [
       "Pipeline(memory='C:\\\\Users\\\\Patrick\\\\AppData\\\\Local\\\\Temp\\\\tmpsg6220ix',\n",
       "         steps=[('scaler',\n",
       "                 StandardScaler(copy=True, with_mean=True, with_std=True)),\n",
       "                ('dim_reducer',\n",
       "                 PCA(copy=True, iterated_power='auto', n_components=30,\n",
       "                     random_state=None, svd_solver='auto', tol=0.0,\n",
       "                     whiten=False)),\n",
       "                ('model',\n",
       "                 SVC(C=10000, cache_size=200, class_weight=None, coef0=0.0,\n",
       "                     decision_function_shape='ovr', degree=3,\n",
       "                     gamma='auto_deprecated', kernel='rbf', max_iter=-1,\n",
       "                     probability=False, random_state=None, shrinking=True,\n",
       "                     tol=0.001, verbose=False))],\n",
       "         verbose=False)"
      ]
     },
     "execution_count": 59,
     "metadata": {},
     "output_type": "execute_result"
    }
   ],
   "source": [
    "# What was the best SVM?\n",
    "fitted_svm_grid_ef.best_estimator_"
   ]
  },
  {
   "cell_type": "code",
   "execution_count": 60,
   "metadata": {},
   "outputs": [
    {
     "name": "stdout",
     "output_type": "stream",
     "text": [
      "The best SVM's accuracy on the training set: 78.17460317460318%\n",
      "The best SVM's accuracy on the test set: 34.72222222222222%\n"
     ]
    }
   ],
   "source": [
    "print(f\"The best SVM's accuracy on the training set: {fitted_svm_grid_ef.score(Xf_train, ef_train)*100}%\")\n",
    "print(f\"The best SVM's accuracy on the test set: {fitted_svm_grid_ef.score(Xf_test, ef_test)*100}%\")"
   ]
  },
  {
   "cell_type": "code",
   "execution_count": 62,
   "metadata": {},
   "outputs": [
    {
     "name": "stdout",
     "output_type": "stream",
     "text": [
      "Fitting 5 folds for each of 80 candidates, totalling 400 fits\n"
     ]
    },
    {
     "name": "stderr",
     "output_type": "stream",
     "text": [
      "[Parallel(n_jobs=-1)]: Using backend LokyBackend with 4 concurrent workers.\n",
      "[Parallel(n_jobs=-1)]: Done  12 tasks      | elapsed:    0.5s\n",
      "[Parallel(n_jobs=-1)]: Done 120 tasks      | elapsed:    3.8s\n",
      "[Parallel(n_jobs=-1)]: Done 300 tasks      | elapsed:    9.6s\n",
      "[Parallel(n_jobs=-1)]: Done 400 out of 400 | elapsed:   12.9s finished\n"
     ]
    }
   ],
   "source": [
    "# Fit the KNN grid search\n",
    "fitted_knn_grid_em = knn_grid_search.fit(Xm_train, em_train)"
   ]
  },
  {
   "cell_type": "code",
   "execution_count": 63,
   "metadata": {},
   "outputs": [
    {
     "data": {
      "text/plain": [
       "Pipeline(memory='C:\\\\Users\\\\Patrick\\\\AppData\\\\Local\\\\Temp\\\\tmpsg6220ix',\n",
       "         steps=[('scaler', None),\n",
       "                ('dim_reducer',\n",
       "                 PCA(copy=True, iterated_power='auto', n_components=15,\n",
       "                     random_state=None, svd_solver='auto', tol=0.0,\n",
       "                     whiten=False)),\n",
       "                ('model',\n",
       "                 KNeighborsClassifier(algorithm='auto', leaf_size=30,\n",
       "                                      metric='minkowski', metric_params=None,\n",
       "                                      n_jobs=-1, n_neighbors=3, p=2,\n",
       "                                      weights='uniform'))],\n",
       "         verbose=False)"
      ]
     },
     "execution_count": 63,
     "metadata": {},
     "output_type": "execute_result"
    }
   ],
   "source": [
    "# What was the best KNN model?\n",
    "fitted_knn_grid_em.best_estimator_"
   ]
  },
  {
   "cell_type": "code",
   "execution_count": 64,
   "metadata": {},
   "outputs": [
    {
     "name": "stdout",
     "output_type": "stream",
     "text": [
      "The best KNN model's accuracy on the training set: 61.15537848605578%\n",
      "The best KNN model's accuracy on the test set: 30.555555555555557%\n"
     ]
    }
   ],
   "source": [
    "print(f\"The best KNN model's accuracy on the training set: {fitted_knn_grid_em.score(Xm_train, em_train)*100}%\")\n",
    "print(f\"The best KNN model's accuracy on the test set: {fitted_knn_grid_em.score(Xm_test, em_test)*100}%\")"
   ]
  },
  {
   "cell_type": "code",
   "execution_count": 65,
   "metadata": {},
   "outputs": [
    {
     "name": "stdout",
     "output_type": "stream",
     "text": [
      "Fitting 5 folds for each of 100 candidates, totalling 500 fits\n"
     ]
    },
    {
     "name": "stderr",
     "output_type": "stream",
     "text": [
      "[Parallel(n_jobs=-1)]: Using backend LokyBackend with 4 concurrent workers.\n",
      "[Parallel(n_jobs=-1)]: Done  10 tasks      | elapsed:    2.7s\n",
      "[Parallel(n_jobs=-1)]: Done  64 tasks      | elapsed:   26.7s\n",
      "[Parallel(n_jobs=-1)]: Done 154 tasks      | elapsed:  1.1min\n",
      "[Parallel(n_jobs=-1)]: Done 280 tasks      | elapsed:  1.8min\n",
      "[Parallel(n_jobs=-1)]: Done 442 tasks      | elapsed:  2.7min\n",
      "[Parallel(n_jobs=-1)]: Done 500 out of 500 | elapsed:  3.2min finished\n"
     ]
    }
   ],
   "source": [
    "# Fit the rf grid search\n",
    "fitted_rf_grid_em = rf_grid_search.fit(Xm_train, em_train)"
   ]
  },
  {
   "cell_type": "code",
   "execution_count": 66,
   "metadata": {},
   "outputs": [
    {
     "data": {
      "text/plain": [
       "Pipeline(memory='C:\\\\Users\\\\Patrick\\\\AppData\\\\Local\\\\Temp\\\\tmpsg6220ix',\n",
       "         steps=[('scaler', None), ('dim_reducer', None),\n",
       "                ('model',\n",
       "                 RandomForestClassifier(bootstrap=True, class_weight=None,\n",
       "                                        criterion='gini', max_depth=20,\n",
       "                                        max_features='auto',\n",
       "                                        max_leaf_nodes=None,\n",
       "                                        min_impurity_decrease=0.0,\n",
       "                                        min_impurity_split=None,\n",
       "                                        min_samples_leaf=1, min_samples_split=2,\n",
       "                                        min_weight_fraction_leaf=0.0,\n",
       "                                        n_estimators=500, n_jobs=-1,\n",
       "                                        oob_score=False, random_state=None,\n",
       "                                        verbose=0, warm_start=False))],\n",
       "         verbose=False)"
      ]
     },
     "execution_count": 66,
     "metadata": {},
     "output_type": "execute_result"
    }
   ],
   "source": [
    "# What was the best rf?\n",
    "fitted_rf_grid_em.best_estimator_"
   ]
  },
  {
   "cell_type": "code",
   "execution_count": 67,
   "metadata": {},
   "outputs": [
    {
     "name": "stdout",
     "output_type": "stream",
     "text": [
      "The best random forest's accuracy on the training set: 100.0%\n",
      "The best random forest's accuracy on the test set: 40.74074074074074%\n"
     ]
    }
   ],
   "source": [
    "print(f\"The best random forest's accuracy on the training set: {fitted_rf_grid_em.score(Xm_train, em_train)*100}%\")\n",
    "print(f\"The best random forest's accuracy on the test set: {fitted_rf_grid_em.score(Xm_test, em_test)*100}%\")"
   ]
  }
 ],
 "metadata": {
  "kernelspec": {
   "display_name": "Python 3",
   "language": "python",
   "name": "python3"
  },
  "language_info": {
   "codemirror_mode": {
    "name": "ipython",
    "version": 3
   },
   "file_extension": ".py",
   "mimetype": "text/x-python",
   "name": "python",
   "nbconvert_exporter": "python",
   "pygments_lexer": "ipython3",
   "version": "3.7.4"
  }
 },
 "nbformat": 4,
 "nbformat_minor": 4
}
