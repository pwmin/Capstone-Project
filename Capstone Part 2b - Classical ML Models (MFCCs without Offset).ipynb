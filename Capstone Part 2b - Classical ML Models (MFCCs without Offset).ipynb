{
 "cells": [
  {
   "cell_type": "markdown",
   "metadata": {},
   "source": [
    "# Capstone Part 2b - Classical ML Models (MFCCs without Offset)\n",
    "___\n",
    "## Setup"
   ]
  },
  {
   "cell_type": "code",
   "execution_count": 1,
   "metadata": {},
   "outputs": [],
   "source": [
    "# Basic packages\n",
    "import numpy as np\n",
    "import pandas as pd\n",
    "\n",
    "# For splitting the data into training and test sets\n",
    "from sklearn.model_selection import train_test_split\n",
    "\n",
    "# For scaling the data as necessary\n",
    "from sklearn.preprocessing import StandardScaler\n",
    "\n",
    "# For doing principal component analysis as necessary\n",
    "from sklearn.decomposition import PCA\n",
    "\n",
    "# For visualizations\n",
    "import matplotlib.pyplot as plt\n",
    "%matplotlib inline\n",
    "import seaborn as sns\n",
    "\n",
    "# For logistic regression and SVM\n",
    "from sklearn.linear_model import LogisticRegression\n",
    "from sklearn.svm import SVC\n",
    "\n",
    "# For hyperparameter optimization\n",
    "from sklearn.pipeline import Pipeline\n",
    "from sklearn.model_selection import GridSearchCV\n",
    "\n",
    "# For caching pipeline and grid search results\n",
    "from tempfile import mkdtemp\n",
    "\n",
    "# For model evaluation\n",
    "from sklearn.metrics import confusion_matrix\n",
    "from sklearn.metrics import classification_report\n",
    "\n",
    "# For getting rid of warning messages\n",
    "import warnings\n",
    "warnings.filterwarnings('ignore')\n",
    "\n",
    "# For pickling models\n",
    "import joblib\n",
    "\n",
    "# Loading in the finished dataframe from part 1\n",
    "ravdess_mfcc_no_offset_df = pd.read_csv('C:/Users/Patrick/Documents/Capstone Data/ravdess_mfcc_no_offset.csv')"
   ]
  },
  {
   "cell_type": "code",
   "execution_count": 2,
   "metadata": {},
   "outputs": [
    {
     "data": {
      "text/html": [
       "<div>\n",
       "<style scoped>\n",
       "    .dataframe tbody tr th:only-of-type {\n",
       "        vertical-align: middle;\n",
       "    }\n",
       "\n",
       "    .dataframe tbody tr th {\n",
       "        vertical-align: top;\n",
       "    }\n",
       "\n",
       "    .dataframe thead th {\n",
       "        text-align: right;\n",
       "    }\n",
       "</style>\n",
       "<table border=\"1\" class=\"dataframe\">\n",
       "  <thead>\n",
       "    <tr style=\"text-align: right;\">\n",
       "      <th></th>\n",
       "      <th>0</th>\n",
       "      <th>1</th>\n",
       "      <th>2</th>\n",
       "      <th>3</th>\n",
       "      <th>4</th>\n",
       "      <th>5</th>\n",
       "      <th>6</th>\n",
       "      <th>7</th>\n",
       "      <th>8</th>\n",
       "      <th>9</th>\n",
       "      <th>...</th>\n",
       "      <th>2592</th>\n",
       "      <th>2593</th>\n",
       "      <th>2594</th>\n",
       "      <th>2595</th>\n",
       "      <th>2596</th>\n",
       "      <th>2597</th>\n",
       "      <th>2598</th>\n",
       "      <th>2599</th>\n",
       "      <th>Gender</th>\n",
       "      <th>Emotion</th>\n",
       "    </tr>\n",
       "  </thead>\n",
       "  <tbody>\n",
       "    <tr>\n",
       "      <td>0</td>\n",
       "      <td>-857.309453</td>\n",
       "      <td>-857.309453</td>\n",
       "      <td>-857.309453</td>\n",
       "      <td>-857.309453</td>\n",
       "      <td>-857.309453</td>\n",
       "      <td>-857.309453</td>\n",
       "      <td>-857.309453</td>\n",
       "      <td>-857.165711</td>\n",
       "      <td>-857.309453</td>\n",
       "      <td>-857.309453</td>\n",
       "      <td>...</td>\n",
       "      <td>1.546741</td>\n",
       "      <td>1.982412</td>\n",
       "      <td>2.188718</td>\n",
       "      <td>2.742868</td>\n",
       "      <td>0.987672</td>\n",
       "      <td>1.042513</td>\n",
       "      <td>1.416731</td>\n",
       "      <td>0.817693</td>\n",
       "      <td>male</td>\n",
       "      <td>neutral</td>\n",
       "    </tr>\n",
       "    <tr>\n",
       "      <td>1</td>\n",
       "      <td>-864.890286</td>\n",
       "      <td>-864.890286</td>\n",
       "      <td>-864.890286</td>\n",
       "      <td>-864.890286</td>\n",
       "      <td>-861.939471</td>\n",
       "      <td>-860.492254</td>\n",
       "      <td>-863.877686</td>\n",
       "      <td>-862.146948</td>\n",
       "      <td>-860.825373</td>\n",
       "      <td>-862.288360</td>\n",
       "      <td>...</td>\n",
       "      <td>0.760483</td>\n",
       "      <td>0.900741</td>\n",
       "      <td>0.000000</td>\n",
       "      <td>0.000000</td>\n",
       "      <td>0.000000</td>\n",
       "      <td>0.000000</td>\n",
       "      <td>0.000000</td>\n",
       "      <td>0.000000</td>\n",
       "      <td>male</td>\n",
       "      <td>neutral</td>\n",
       "    </tr>\n",
       "    <tr>\n",
       "      <td>2</td>\n",
       "      <td>-849.445433</td>\n",
       "      <td>-848.003746</td>\n",
       "      <td>-844.977418</td>\n",
       "      <td>-848.275738</td>\n",
       "      <td>-847.952191</td>\n",
       "      <td>-847.026382</td>\n",
       "      <td>-849.022875</td>\n",
       "      <td>-848.187830</td>\n",
       "      <td>-851.179822</td>\n",
       "      <td>-852.391785</td>\n",
       "      <td>...</td>\n",
       "      <td>0.000000</td>\n",
       "      <td>0.000000</td>\n",
       "      <td>0.000000</td>\n",
       "      <td>0.000000</td>\n",
       "      <td>0.000000</td>\n",
       "      <td>0.056836</td>\n",
       "      <td>0.000000</td>\n",
       "      <td>0.000000</td>\n",
       "      <td>male</td>\n",
       "      <td>neutral</td>\n",
       "    </tr>\n",
       "    <tr>\n",
       "      <td>3</td>\n",
       "      <td>-832.734397</td>\n",
       "      <td>-836.552680</td>\n",
       "      <td>-834.580541</td>\n",
       "      <td>-827.005858</td>\n",
       "      <td>-830.058798</td>\n",
       "      <td>-831.195983</td>\n",
       "      <td>-839.331695</td>\n",
       "      <td>-838.307510</td>\n",
       "      <td>-834.128916</td>\n",
       "      <td>-839.040966</td>\n",
       "      <td>...</td>\n",
       "      <td>0.098864</td>\n",
       "      <td>0.972775</td>\n",
       "      <td>1.156853</td>\n",
       "      <td>1.185786</td>\n",
       "      <td>0.808819</td>\n",
       "      <td>0.931570</td>\n",
       "      <td>0.595077</td>\n",
       "      <td>-0.121792</td>\n",
       "      <td>male</td>\n",
       "      <td>neutral</td>\n",
       "    </tr>\n",
       "    <tr>\n",
       "      <td>4</td>\n",
       "      <td>-902.406412</td>\n",
       "      <td>-896.903279</td>\n",
       "      <td>-893.962205</td>\n",
       "      <td>-900.335460</td>\n",
       "      <td>-902.472509</td>\n",
       "      <td>-902.626385</td>\n",
       "      <td>-905.461199</td>\n",
       "      <td>-905.147436</td>\n",
       "      <td>-905.978456</td>\n",
       "      <td>-904.582022</td>\n",
       "      <td>...</td>\n",
       "      <td>-2.037989</td>\n",
       "      <td>1.646397</td>\n",
       "      <td>2.192631</td>\n",
       "      <td>0.140728</td>\n",
       "      <td>3.285294</td>\n",
       "      <td>0.473829</td>\n",
       "      <td>0.745187</td>\n",
       "      <td>1.507095</td>\n",
       "      <td>male</td>\n",
       "      <td>calm</td>\n",
       "    </tr>\n",
       "  </tbody>\n",
       "</table>\n",
       "<p>5 rows × 2602 columns</p>\n",
       "</div>"
      ],
      "text/plain": [
       "            0           1           2           3           4           5  \\\n",
       "0 -857.309453 -857.309453 -857.309453 -857.309453 -857.309453 -857.309453   \n",
       "1 -864.890286 -864.890286 -864.890286 -864.890286 -861.939471 -860.492254   \n",
       "2 -849.445433 -848.003746 -844.977418 -848.275738 -847.952191 -847.026382   \n",
       "3 -832.734397 -836.552680 -834.580541 -827.005858 -830.058798 -831.195983   \n",
       "4 -902.406412 -896.903279 -893.962205 -900.335460 -902.472509 -902.626385   \n",
       "\n",
       "            6           7           8           9  ...      2592      2593  \\\n",
       "0 -857.309453 -857.165711 -857.309453 -857.309453  ...  1.546741  1.982412   \n",
       "1 -863.877686 -862.146948 -860.825373 -862.288360  ...  0.760483  0.900741   \n",
       "2 -849.022875 -848.187830 -851.179822 -852.391785  ...  0.000000  0.000000   \n",
       "3 -839.331695 -838.307510 -834.128916 -839.040966  ...  0.098864  0.972775   \n",
       "4 -905.461199 -905.147436 -905.978456 -904.582022  ... -2.037989  1.646397   \n",
       "\n",
       "       2594      2595      2596      2597      2598      2599  Gender  Emotion  \n",
       "0  2.188718  2.742868  0.987672  1.042513  1.416731  0.817693    male  neutral  \n",
       "1  0.000000  0.000000  0.000000  0.000000  0.000000  0.000000    male  neutral  \n",
       "2  0.000000  0.000000  0.000000  0.056836  0.000000  0.000000    male  neutral  \n",
       "3  1.156853  1.185786  0.808819  0.931570  0.595077 -0.121792    male  neutral  \n",
       "4  2.192631  0.140728  3.285294  0.473829  0.745187  1.507095    male     calm  \n",
       "\n",
       "[5 rows x 2602 columns]"
      ]
     },
     "execution_count": 2,
     "metadata": {},
     "output_type": "execute_result"
    }
   ],
   "source": [
    "ravdess_mfcc_no_offset_df.head()"
   ]
  },
  {
   "cell_type": "markdown",
   "metadata": {},
   "source": [
    "___\n",
    "# Building Models for Classifying Gender (Regardless of Emotion)"
   ]
  },
  {
   "cell_type": "code",
   "execution_count": 3,
   "metadata": {},
   "outputs": [],
   "source": [
    "# Splitting the dataframe into features and target\n",
    "X = ravdess_mfcc_no_offset_df.iloc[:, :-2]\n",
    "g = ravdess_mfcc_no_offset_df['Gender']"
   ]
  },
  {
   "cell_type": "markdown",
   "metadata": {},
   "source": [
    "The convention is to name the target variable 'y', but I will be declaring many different target variables throughout the notebook, so I opted for 'g' for simplicity instead of 'y_g' or 'y_gen', for example."
   ]
  },
  {
   "cell_type": "code",
   "execution_count": 4,
   "metadata": {},
   "outputs": [],
   "source": [
    "# Splitting the data into training and test sets\n",
    "X_train, X_test, g_train, g_test = train_test_split(X, g, test_size=0.3, stratify=g, random_state=1)"
   ]
  },
  {
   "cell_type": "code",
   "execution_count": 5,
   "metadata": {},
   "outputs": [
    {
     "name": "stdout",
     "output_type": "stream",
     "text": [
      "(1006, 2600)\n",
      "(432, 2600)\n",
      "(1006,)\n",
      "(432,)\n"
     ]
    }
   ],
   "source": [
    "# Checking the shapes\n",
    "print(X_train.shape)\n",
    "print(X_test.shape)\n",
    "print(g_train.shape)\n",
    "print(g_test.shape)"
   ]
  },
  {
   "cell_type": "markdown",
   "metadata": {},
   "source": [
    "I want to build a simple, initial classifier to get a sense of the performances I might get in more optimized models. To this end, I will build a logistic regression model without doing any cross-validation or hyperparameter optimization."
   ]
  },
  {
   "cell_type": "code",
   "execution_count": 6,
   "metadata": {},
   "outputs": [
    {
     "name": "stdout",
     "output_type": "stream",
     "text": [
      "Model accuracy on training set: 100.0%\n",
      "Model accuracy on test set: 99.53703703703704%\n"
     ]
    }
   ],
   "source": [
    "# Instantiate the model\n",
    "initial_logreg = LogisticRegression()\n",
    "\n",
    "# Fit to training set\n",
    "initial_logreg.fit(X_train, g_train)\n",
    "\n",
    "# Score on training set\n",
    "print(f'Model accuracy on training set: {initial_logreg.score(X_train, g_train)*100}%')\n",
    "\n",
    "# Score on test set\n",
    "print(f'Model accuracy on test set: {initial_logreg.score(X_test, g_test)*100}%')"
   ]
  },
  {
   "cell_type": "markdown",
   "metadata": {},
   "source": [
    "These are extremely high accuracies. The model has most likely overfit to the training set, but the accuracy on the test set is still surprisingly high.\n",
    "\n",
    "Here are some possible explanations:\n",
    "- The dataset (RAVDESS) is relatively small, with only 1440 data points (1438 if I do not count the two very short clips that I excluded). This model is likely not very robust and has easily overfit to the training set.\n",
    "- The features I have extracted could be excellent predictors of gender.\n",
    "- This could be a very simple classification task. After all, there are only two classes, and theoretically, features extracted from male and female voice clips should have distinguishable patterns.\n",
    "\n",
    "I had originally planned to build more gender classification models for this dataset, but I will forgo this for now. In part 4, I will try using this model to classify clips from another dataset and examine its performance."
   ]
  },
  {
   "cell_type": "code",
   "execution_count": 64,
   "metadata": {},
   "outputs": [
    {
     "data": {
      "text/plain": [
       "['pickle1_gender_logreg.pkl']"
      ]
     },
     "execution_count": 64,
     "metadata": {},
     "output_type": "execute_result"
    }
   ],
   "source": [
    "# Pickling the model for later use\n",
    "joblib.dump(initial_logreg, 'pickle1_gender_logreg.pkl') "
   ]
  },
  {
   "cell_type": "markdown",
   "metadata": {},
   "source": [
    "___\n",
    "# Building Models for Classifying Emotion for Males"
   ]
  },
  {
   "cell_type": "code",
   "execution_count": 2,
   "metadata": {},
   "outputs": [
    {
     "data": {
      "text/html": [
       "<div>\n",
       "<style scoped>\n",
       "    .dataframe tbody tr th:only-of-type {\n",
       "        vertical-align: middle;\n",
       "    }\n",
       "\n",
       "    .dataframe tbody tr th {\n",
       "        vertical-align: top;\n",
       "    }\n",
       "\n",
       "    .dataframe thead th {\n",
       "        text-align: right;\n",
       "    }\n",
       "</style>\n",
       "<table border=\"1\" class=\"dataframe\">\n",
       "  <thead>\n",
       "    <tr style=\"text-align: right;\">\n",
       "      <th></th>\n",
       "      <th>0</th>\n",
       "      <th>1</th>\n",
       "      <th>2</th>\n",
       "      <th>3</th>\n",
       "      <th>4</th>\n",
       "      <th>5</th>\n",
       "      <th>6</th>\n",
       "      <th>7</th>\n",
       "      <th>8</th>\n",
       "      <th>9</th>\n",
       "      <th>...</th>\n",
       "      <th>2592</th>\n",
       "      <th>2593</th>\n",
       "      <th>2594</th>\n",
       "      <th>2595</th>\n",
       "      <th>2596</th>\n",
       "      <th>2597</th>\n",
       "      <th>2598</th>\n",
       "      <th>2599</th>\n",
       "      <th>Gender</th>\n",
       "      <th>Emotion</th>\n",
       "    </tr>\n",
       "  </thead>\n",
       "  <tbody>\n",
       "    <tr>\n",
       "      <td>0</td>\n",
       "      <td>-857.309453</td>\n",
       "      <td>-857.309453</td>\n",
       "      <td>-857.309453</td>\n",
       "      <td>-857.309453</td>\n",
       "      <td>-857.309453</td>\n",
       "      <td>-857.309453</td>\n",
       "      <td>-857.309453</td>\n",
       "      <td>-857.165711</td>\n",
       "      <td>-857.309453</td>\n",
       "      <td>-857.309453</td>\n",
       "      <td>...</td>\n",
       "      <td>1.546741</td>\n",
       "      <td>1.982412</td>\n",
       "      <td>2.188718</td>\n",
       "      <td>2.742868</td>\n",
       "      <td>0.987672</td>\n",
       "      <td>1.042513</td>\n",
       "      <td>1.416731</td>\n",
       "      <td>0.817693</td>\n",
       "      <td>male</td>\n",
       "      <td>neutral</td>\n",
       "    </tr>\n",
       "    <tr>\n",
       "      <td>1</td>\n",
       "      <td>-864.890286</td>\n",
       "      <td>-864.890286</td>\n",
       "      <td>-864.890286</td>\n",
       "      <td>-864.890286</td>\n",
       "      <td>-861.939471</td>\n",
       "      <td>-860.492254</td>\n",
       "      <td>-863.877686</td>\n",
       "      <td>-862.146948</td>\n",
       "      <td>-860.825373</td>\n",
       "      <td>-862.288360</td>\n",
       "      <td>...</td>\n",
       "      <td>0.760483</td>\n",
       "      <td>0.900741</td>\n",
       "      <td>0.000000</td>\n",
       "      <td>0.000000</td>\n",
       "      <td>0.000000</td>\n",
       "      <td>0.000000</td>\n",
       "      <td>0.000000</td>\n",
       "      <td>0.000000</td>\n",
       "      <td>male</td>\n",
       "      <td>neutral</td>\n",
       "    </tr>\n",
       "    <tr>\n",
       "      <td>2</td>\n",
       "      <td>-849.445433</td>\n",
       "      <td>-848.003746</td>\n",
       "      <td>-844.977418</td>\n",
       "      <td>-848.275738</td>\n",
       "      <td>-847.952191</td>\n",
       "      <td>-847.026382</td>\n",
       "      <td>-849.022875</td>\n",
       "      <td>-848.187830</td>\n",
       "      <td>-851.179822</td>\n",
       "      <td>-852.391785</td>\n",
       "      <td>...</td>\n",
       "      <td>0.000000</td>\n",
       "      <td>0.000000</td>\n",
       "      <td>0.000000</td>\n",
       "      <td>0.000000</td>\n",
       "      <td>0.000000</td>\n",
       "      <td>0.056836</td>\n",
       "      <td>0.000000</td>\n",
       "      <td>0.000000</td>\n",
       "      <td>male</td>\n",
       "      <td>neutral</td>\n",
       "    </tr>\n",
       "    <tr>\n",
       "      <td>3</td>\n",
       "      <td>-832.734397</td>\n",
       "      <td>-836.552680</td>\n",
       "      <td>-834.580541</td>\n",
       "      <td>-827.005858</td>\n",
       "      <td>-830.058798</td>\n",
       "      <td>-831.195983</td>\n",
       "      <td>-839.331695</td>\n",
       "      <td>-838.307510</td>\n",
       "      <td>-834.128916</td>\n",
       "      <td>-839.040966</td>\n",
       "      <td>...</td>\n",
       "      <td>0.098864</td>\n",
       "      <td>0.972775</td>\n",
       "      <td>1.156853</td>\n",
       "      <td>1.185786</td>\n",
       "      <td>0.808819</td>\n",
       "      <td>0.931570</td>\n",
       "      <td>0.595077</td>\n",
       "      <td>-0.121792</td>\n",
       "      <td>male</td>\n",
       "      <td>neutral</td>\n",
       "    </tr>\n",
       "    <tr>\n",
       "      <td>4</td>\n",
       "      <td>-902.406412</td>\n",
       "      <td>-896.903279</td>\n",
       "      <td>-893.962205</td>\n",
       "      <td>-900.335460</td>\n",
       "      <td>-902.472509</td>\n",
       "      <td>-902.626385</td>\n",
       "      <td>-905.461199</td>\n",
       "      <td>-905.147436</td>\n",
       "      <td>-905.978456</td>\n",
       "      <td>-904.582022</td>\n",
       "      <td>...</td>\n",
       "      <td>-2.037989</td>\n",
       "      <td>1.646397</td>\n",
       "      <td>2.192631</td>\n",
       "      <td>0.140728</td>\n",
       "      <td>3.285294</td>\n",
       "      <td>0.473829</td>\n",
       "      <td>0.745187</td>\n",
       "      <td>1.507095</td>\n",
       "      <td>male</td>\n",
       "      <td>calm</td>\n",
       "    </tr>\n",
       "    <tr>\n",
       "      <td>...</td>\n",
       "      <td>...</td>\n",
       "      <td>...</td>\n",
       "      <td>...</td>\n",
       "      <td>...</td>\n",
       "      <td>...</td>\n",
       "      <td>...</td>\n",
       "      <td>...</td>\n",
       "      <td>...</td>\n",
       "      <td>...</td>\n",
       "      <td>...</td>\n",
       "      <td>...</td>\n",
       "      <td>...</td>\n",
       "      <td>...</td>\n",
       "      <td>...</td>\n",
       "      <td>...</td>\n",
       "      <td>...</td>\n",
       "      <td>...</td>\n",
       "      <td>...</td>\n",
       "      <td>...</td>\n",
       "      <td>...</td>\n",
       "      <td>...</td>\n",
       "    </tr>\n",
       "    <tr>\n",
       "      <td>713</td>\n",
       "      <td>-704.004406</td>\n",
       "      <td>-703.014570</td>\n",
       "      <td>-702.031038</td>\n",
       "      <td>-703.328468</td>\n",
       "      <td>-703.912309</td>\n",
       "      <td>-703.765455</td>\n",
       "      <td>-704.655862</td>\n",
       "      <td>-704.481680</td>\n",
       "      <td>-703.788671</td>\n",
       "      <td>-702.783204</td>\n",
       "      <td>...</td>\n",
       "      <td>0.000000</td>\n",
       "      <td>0.000000</td>\n",
       "      <td>0.000000</td>\n",
       "      <td>0.000000</td>\n",
       "      <td>0.045276</td>\n",
       "      <td>0.192656</td>\n",
       "      <td>0.852603</td>\n",
       "      <td>0.690963</td>\n",
       "      <td>male</td>\n",
       "      <td>surprised</td>\n",
       "    </tr>\n",
       "    <tr>\n",
       "      <td>714</td>\n",
       "      <td>-693.614951</td>\n",
       "      <td>-693.114727</td>\n",
       "      <td>-693.250694</td>\n",
       "      <td>-693.924253</td>\n",
       "      <td>-693.967910</td>\n",
       "      <td>-693.131289</td>\n",
       "      <td>-692.858776</td>\n",
       "      <td>-693.739184</td>\n",
       "      <td>-694.119294</td>\n",
       "      <td>-694.119294</td>\n",
       "      <td>...</td>\n",
       "      <td>1.554530</td>\n",
       "      <td>1.873090</td>\n",
       "      <td>1.168382</td>\n",
       "      <td>0.152251</td>\n",
       "      <td>0.392736</td>\n",
       "      <td>0.984920</td>\n",
       "      <td>0.792893</td>\n",
       "      <td>0.080783</td>\n",
       "      <td>male</td>\n",
       "      <td>surprised</td>\n",
       "    </tr>\n",
       "    <tr>\n",
       "      <td>715</td>\n",
       "      <td>-692.801891</td>\n",
       "      <td>-692.803866</td>\n",
       "      <td>-693.082432</td>\n",
       "      <td>-693.371465</td>\n",
       "      <td>-693.371465</td>\n",
       "      <td>-693.371465</td>\n",
       "      <td>-693.371465</td>\n",
       "      <td>-693.351801</td>\n",
       "      <td>-692.287004</td>\n",
       "      <td>-692.734244</td>\n",
       "      <td>...</td>\n",
       "      <td>0.668347</td>\n",
       "      <td>0.486409</td>\n",
       "      <td>0.601826</td>\n",
       "      <td>0.474456</td>\n",
       "      <td>0.194573</td>\n",
       "      <td>0.030500</td>\n",
       "      <td>0.000000</td>\n",
       "      <td>0.118997</td>\n",
       "      <td>male</td>\n",
       "      <td>surprised</td>\n",
       "    </tr>\n",
       "    <tr>\n",
       "      <td>716</td>\n",
       "      <td>-669.158136</td>\n",
       "      <td>-669.158136</td>\n",
       "      <td>-669.158136</td>\n",
       "      <td>-669.158136</td>\n",
       "      <td>-669.158136</td>\n",
       "      <td>-669.158136</td>\n",
       "      <td>-669.158136</td>\n",
       "      <td>-669.158136</td>\n",
       "      <td>-669.158136</td>\n",
       "      <td>-669.158136</td>\n",
       "      <td>...</td>\n",
       "      <td>0.375527</td>\n",
       "      <td>0.331931</td>\n",
       "      <td>0.036515</td>\n",
       "      <td>0.000000</td>\n",
       "      <td>0.000000</td>\n",
       "      <td>0.000000</td>\n",
       "      <td>0.000000</td>\n",
       "      <td>0.000000</td>\n",
       "      <td>male</td>\n",
       "      <td>surprised</td>\n",
       "    </tr>\n",
       "    <tr>\n",
       "      <td>717</td>\n",
       "      <td>-693.055253</td>\n",
       "      <td>-693.055253</td>\n",
       "      <td>-693.055253</td>\n",
       "      <td>-692.916251</td>\n",
       "      <td>-692.413267</td>\n",
       "      <td>-692.632421</td>\n",
       "      <td>-693.055253</td>\n",
       "      <td>-693.055253</td>\n",
       "      <td>-693.055253</td>\n",
       "      <td>-693.055253</td>\n",
       "      <td>...</td>\n",
       "      <td>0.098310</td>\n",
       "      <td>0.000184</td>\n",
       "      <td>0.231602</td>\n",
       "      <td>0.421240</td>\n",
       "      <td>0.000000</td>\n",
       "      <td>0.000000</td>\n",
       "      <td>0.000000</td>\n",
       "      <td>0.000000</td>\n",
       "      <td>male</td>\n",
       "      <td>surprised</td>\n",
       "    </tr>\n",
       "  </tbody>\n",
       "</table>\n",
       "<p>718 rows × 2602 columns</p>\n",
       "</div>"
      ],
      "text/plain": [
       "              0           1           2           3           4           5  \\\n",
       "0   -857.309453 -857.309453 -857.309453 -857.309453 -857.309453 -857.309453   \n",
       "1   -864.890286 -864.890286 -864.890286 -864.890286 -861.939471 -860.492254   \n",
       "2   -849.445433 -848.003746 -844.977418 -848.275738 -847.952191 -847.026382   \n",
       "3   -832.734397 -836.552680 -834.580541 -827.005858 -830.058798 -831.195983   \n",
       "4   -902.406412 -896.903279 -893.962205 -900.335460 -902.472509 -902.626385   \n",
       "..          ...         ...         ...         ...         ...         ...   \n",
       "713 -704.004406 -703.014570 -702.031038 -703.328468 -703.912309 -703.765455   \n",
       "714 -693.614951 -693.114727 -693.250694 -693.924253 -693.967910 -693.131289   \n",
       "715 -692.801891 -692.803866 -693.082432 -693.371465 -693.371465 -693.371465   \n",
       "716 -669.158136 -669.158136 -669.158136 -669.158136 -669.158136 -669.158136   \n",
       "717 -693.055253 -693.055253 -693.055253 -692.916251 -692.413267 -692.632421   \n",
       "\n",
       "              6           7           8           9  ...      2592      2593  \\\n",
       "0   -857.309453 -857.165711 -857.309453 -857.309453  ...  1.546741  1.982412   \n",
       "1   -863.877686 -862.146948 -860.825373 -862.288360  ...  0.760483  0.900741   \n",
       "2   -849.022875 -848.187830 -851.179822 -852.391785  ...  0.000000  0.000000   \n",
       "3   -839.331695 -838.307510 -834.128916 -839.040966  ...  0.098864  0.972775   \n",
       "4   -905.461199 -905.147436 -905.978456 -904.582022  ... -2.037989  1.646397   \n",
       "..          ...         ...         ...         ...  ...       ...       ...   \n",
       "713 -704.655862 -704.481680 -703.788671 -702.783204  ...  0.000000  0.000000   \n",
       "714 -692.858776 -693.739184 -694.119294 -694.119294  ...  1.554530  1.873090   \n",
       "715 -693.371465 -693.351801 -692.287004 -692.734244  ...  0.668347  0.486409   \n",
       "716 -669.158136 -669.158136 -669.158136 -669.158136  ...  0.375527  0.331931   \n",
       "717 -693.055253 -693.055253 -693.055253 -693.055253  ...  0.098310  0.000184   \n",
       "\n",
       "         2594      2595      2596      2597      2598      2599  Gender  \\\n",
       "0    2.188718  2.742868  0.987672  1.042513  1.416731  0.817693    male   \n",
       "1    0.000000  0.000000  0.000000  0.000000  0.000000  0.000000    male   \n",
       "2    0.000000  0.000000  0.000000  0.056836  0.000000  0.000000    male   \n",
       "3    1.156853  1.185786  0.808819  0.931570  0.595077 -0.121792    male   \n",
       "4    2.192631  0.140728  3.285294  0.473829  0.745187  1.507095    male   \n",
       "..        ...       ...       ...       ...       ...       ...     ...   \n",
       "713  0.000000  0.000000  0.045276  0.192656  0.852603  0.690963    male   \n",
       "714  1.168382  0.152251  0.392736  0.984920  0.792893  0.080783    male   \n",
       "715  0.601826  0.474456  0.194573  0.030500  0.000000  0.118997    male   \n",
       "716  0.036515  0.000000  0.000000  0.000000  0.000000  0.000000    male   \n",
       "717  0.231602  0.421240  0.000000  0.000000  0.000000  0.000000    male   \n",
       "\n",
       "       Emotion  \n",
       "0      neutral  \n",
       "1      neutral  \n",
       "2      neutral  \n",
       "3      neutral  \n",
       "4         calm  \n",
       "..         ...  \n",
       "713  surprised  \n",
       "714  surprised  \n",
       "715  surprised  \n",
       "716  surprised  \n",
       "717  surprised  \n",
       "\n",
       "[718 rows x 2602 columns]"
      ]
     },
     "execution_count": 2,
     "metadata": {},
     "output_type": "execute_result"
    }
   ],
   "source": [
    "# Making a new dataframe that contains only male recordings\n",
    "male_df = ravdess_mfcc_no_offset_df[ravdess_mfcc_no_offset_df['Gender'] == 'male'].reset_index().drop('index', axis=1)\n",
    "male_df"
   ]
  },
  {
   "cell_type": "code",
   "execution_count": 3,
   "metadata": {},
   "outputs": [],
   "source": [
    "# Splitting the dataframe into features and target\n",
    "Xm = male_df.iloc[:, :-2]\n",
    "em = male_df['Emotion']"
   ]
  },
  {
   "cell_type": "code",
   "execution_count": 4,
   "metadata": {},
   "outputs": [],
   "source": [
    "# Splitting the data into training and test sets\n",
    "Xm_train, Xm_test, em_train, em_test = train_test_split(Xm, em, test_size=0.3, stratify=em, random_state=1)"
   ]
  },
  {
   "cell_type": "code",
   "execution_count": 5,
   "metadata": {},
   "outputs": [
    {
     "name": "stdout",
     "output_type": "stream",
     "text": [
      "(502, 2600)\n",
      "(216, 2600)\n",
      "(502,)\n",
      "(216,)\n"
     ]
    }
   ],
   "source": [
    "# Checking the shapes\n",
    "print(Xm_train.shape)\n",
    "print(Xm_test.shape)\n",
    "print(em_train.shape)\n",
    "print(em_test.shape)"
   ]
  },
  {
   "cell_type": "markdown",
   "metadata": {},
   "source": [
    "As before, I will try building an initial model."
   ]
  },
  {
   "cell_type": "code",
   "execution_count": 6,
   "metadata": {},
   "outputs": [
    {
     "name": "stdout",
     "output_type": "stream",
     "text": [
      "Model accuracy on training set: 100.0%\n",
      "Model accuracy on test set: 59.72222222222222%\n"
     ]
    }
   ],
   "source": [
    "# Instantiate the model\n",
    "initial_logreg_em = LogisticRegression()\n",
    "\n",
    "# Fit to training set\n",
    "initial_logreg_em.fit(Xm_train, em_train)\n",
    "\n",
    "# Score on training set\n",
    "print(f'Model accuracy on training set: {initial_logreg_em.score(Xm_train, em_train)*100}%')\n",
    "\n",
    "# Score on test set\n",
    "print(f'Model accuracy on test set: {initial_logreg_em.score(Xm_test, em_test)*100}%')"
   ]
  },
  {
   "cell_type": "markdown",
   "metadata": {},
   "source": [
    "The model has overfit to the training set yet again, and this time the accuracy on the test set leaves a lot to be desired. Let's evaluate the model further using a confusion matrix and a classification report."
   ]
  },
  {
   "cell_type": "code",
   "execution_count": 7,
   "metadata": {},
   "outputs": [
    {
     "data": {
      "text/html": [
       "<div>\n",
       "<style scoped>\n",
       "    .dataframe tbody tr th:only-of-type {\n",
       "        vertical-align: middle;\n",
       "    }\n",
       "\n",
       "    .dataframe tbody tr th {\n",
       "        vertical-align: top;\n",
       "    }\n",
       "\n",
       "    .dataframe thead th {\n",
       "        text-align: right;\n",
       "    }\n",
       "</style>\n",
       "<table border=\"1\" class=\"dataframe\">\n",
       "  <thead>\n",
       "    <tr style=\"text-align: right;\">\n",
       "      <th></th>\n",
       "      <th>Predicted angry</th>\n",
       "      <th>Predicted calm</th>\n",
       "      <th>Predicted disgusted</th>\n",
       "      <th>Predicted fearful</th>\n",
       "      <th>Predicted happy</th>\n",
       "      <th>Predicted neutral</th>\n",
       "      <th>Predicted sad</th>\n",
       "      <th>Predicted surprised</th>\n",
       "    </tr>\n",
       "  </thead>\n",
       "  <tbody>\n",
       "    <tr>\n",
       "      <td>Actual angry</td>\n",
       "      <td>23</td>\n",
       "      <td>1</td>\n",
       "      <td>2</td>\n",
       "      <td>1</td>\n",
       "      <td>1</td>\n",
       "      <td>1</td>\n",
       "      <td>0</td>\n",
       "      <td>0</td>\n",
       "    </tr>\n",
       "    <tr>\n",
       "      <td>Actual calm</td>\n",
       "      <td>0</td>\n",
       "      <td>23</td>\n",
       "      <td>0</td>\n",
       "      <td>0</td>\n",
       "      <td>1</td>\n",
       "      <td>0</td>\n",
       "      <td>3</td>\n",
       "      <td>1</td>\n",
       "    </tr>\n",
       "    <tr>\n",
       "      <td>Actual disgusted</td>\n",
       "      <td>3</td>\n",
       "      <td>3</td>\n",
       "      <td>10</td>\n",
       "      <td>3</td>\n",
       "      <td>0</td>\n",
       "      <td>1</td>\n",
       "      <td>5</td>\n",
       "      <td>4</td>\n",
       "    </tr>\n",
       "    <tr>\n",
       "      <td>Actual fearful</td>\n",
       "      <td>2</td>\n",
       "      <td>1</td>\n",
       "      <td>1</td>\n",
       "      <td>20</td>\n",
       "      <td>1</td>\n",
       "      <td>0</td>\n",
       "      <td>2</td>\n",
       "      <td>2</td>\n",
       "    </tr>\n",
       "    <tr>\n",
       "      <td>Actual happy</td>\n",
       "      <td>4</td>\n",
       "      <td>1</td>\n",
       "      <td>3</td>\n",
       "      <td>2</td>\n",
       "      <td>15</td>\n",
       "      <td>2</td>\n",
       "      <td>1</td>\n",
       "      <td>1</td>\n",
       "    </tr>\n",
       "    <tr>\n",
       "      <td>Actual neutral</td>\n",
       "      <td>0</td>\n",
       "      <td>2</td>\n",
       "      <td>1</td>\n",
       "      <td>0</td>\n",
       "      <td>0</td>\n",
       "      <td>8</td>\n",
       "      <td>1</td>\n",
       "      <td>2</td>\n",
       "    </tr>\n",
       "    <tr>\n",
       "      <td>Actual sad</td>\n",
       "      <td>1</td>\n",
       "      <td>4</td>\n",
       "      <td>2</td>\n",
       "      <td>3</td>\n",
       "      <td>1</td>\n",
       "      <td>1</td>\n",
       "      <td>16</td>\n",
       "      <td>1</td>\n",
       "    </tr>\n",
       "    <tr>\n",
       "      <td>Actual surprised</td>\n",
       "      <td>2</td>\n",
       "      <td>1</td>\n",
       "      <td>4</td>\n",
       "      <td>1</td>\n",
       "      <td>3</td>\n",
       "      <td>1</td>\n",
       "      <td>3</td>\n",
       "      <td>14</td>\n",
       "    </tr>\n",
       "  </tbody>\n",
       "</table>\n",
       "</div>"
      ],
      "text/plain": [
       "                  Predicted angry  Predicted calm  Predicted disgusted  \\\n",
       "Actual angry                   23               1                    2   \n",
       "Actual calm                     0              23                    0   \n",
       "Actual disgusted                3               3                   10   \n",
       "Actual fearful                  2               1                    1   \n",
       "Actual happy                    4               1                    3   \n",
       "Actual neutral                  0               2                    1   \n",
       "Actual sad                      1               4                    2   \n",
       "Actual surprised                2               1                    4   \n",
       "\n",
       "                  Predicted fearful  Predicted happy  Predicted neutral  \\\n",
       "Actual angry                      1                1                  1   \n",
       "Actual calm                       0                1                  0   \n",
       "Actual disgusted                  3                0                  1   \n",
       "Actual fearful                   20                1                  0   \n",
       "Actual happy                      2               15                  2   \n",
       "Actual neutral                    0                0                  8   \n",
       "Actual sad                        3                1                  1   \n",
       "Actual surprised                  1                3                  1   \n",
       "\n",
       "                  Predicted sad  Predicted surprised  \n",
       "Actual angry                  0                    0  \n",
       "Actual calm                   3                    1  \n",
       "Actual disgusted              5                    4  \n",
       "Actual fearful                2                    2  \n",
       "Actual happy                  1                    1  \n",
       "Actual neutral                1                    2  \n",
       "Actual sad                   16                    1  \n",
       "Actual surprised              3                   14  "
      ]
     },
     "execution_count": 7,
     "metadata": {},
     "output_type": "execute_result"
    }
   ],
   "source": [
    "# Having initial_logreg_em make predictions based on the test set features\n",
    "em_pred = initial_logreg_em.predict(Xm_test)\n",
    "\n",
    "# Building the confusion matrix as a dataframe\n",
    "emotions = ['angry', 'calm', 'disgusted', 'fearful', 'happy', 'neutral', 'sad', 'surprised']\n",
    "em_confusion_df = pd.DataFrame(confusion_matrix(em_test, em_pred))\n",
    "em_confusion_df.columns = [f'Predicted {emotion}' for emotion in emotions]\n",
    "em_confusion_df.index = [f'Actual {emotion}' for emotion in emotions]\n",
    "em_confusion_df"
   ]
  },
  {
   "cell_type": "code",
   "execution_count": 8,
   "metadata": {},
   "outputs": [
    {
     "name": "stdout",
     "output_type": "stream",
     "text": [
      "              precision    recall  f1-score   support\n",
      "\n",
      "       angry       0.66      0.79      0.72        29\n",
      "        calm       0.64      0.82      0.72        28\n",
      "   disgusted       0.43      0.34      0.38        29\n",
      "     fearful       0.67      0.69      0.68        29\n",
      "       happy       0.68      0.52      0.59        29\n",
      "     neutral       0.57      0.57      0.57        14\n",
      "         sad       0.52      0.55      0.53        29\n",
      "   surprised       0.56      0.48      0.52        29\n",
      "\n",
      "    accuracy                           0.60       216\n",
      "   macro avg       0.59      0.60      0.59       216\n",
      "weighted avg       0.59      0.60      0.59       216\n",
      "\n"
     ]
    }
   ],
   "source": [
    "# Classification report\n",
    "print(classification_report(em_test, em_pred))"
   ]
  },
  {
   "cell_type": "markdown",
   "metadata": {},
   "source": [
    "In a binary classification problem, there is one negative class and one positive class. This is not the case here, because this is a multiclass classification problem. In the table above, each row of precision and recall scores assumes the corresponding emotion is the positive class, and groups all other emotions as the negative class.\n",
    "\n",
    "Precision is the following measure: Of all the data points that the model classified as belonging to the positive class (i.e., the true and false positives), what proportion is correct (i.e., truly positive)?\n",
    "\n",
    "Recall is the following measure: Of all the data points that are truly positive (i.e., the true positives and false negatives as classified by the model), what proportion did the model correctly classify (i.e., the true positives)?\n",
    "\n",
    "It appears that the initial model is strongest at classifying calm voice clips, and weakest at classifying disgusted voice clips. In order of strongest to weakest: calm, angry, fearful, happy, neutral, sad, surprised, and disgusted."
   ]
  },
  {
   "cell_type": "markdown",
   "metadata": {},
   "source": [
    "I will now try building new models and optimizing hyperparameters to obtain better performance. I will use a pipeline and multiple grid searches to accomplish this.\n",
    "\n",
    "Before I build all my models in bulk, I want to see if doing principal component analysis (PCA) could be beneficial. I will do PCA on both unscaled and scaled features, and plot the resulting explained variance ratios. I have two goals here:\n",
    "- Get a sense of whether scaling would be beneficial for model performance\n",
    "- Get a sense of how many principal components I should use"
   ]
  },
  {
   "cell_type": "code",
   "execution_count": 14,
   "metadata": {},
   "outputs": [],
   "source": [
    "# PCA on unscaled features\n",
    "\n",
    "# Instantiate PCA and fit to Xm_train\n",
    "pca = PCA().fit(Xm_train)\n",
    "\n",
    "# Transform Xm_train\n",
    "Xm_train_pca = pca.transform(Xm_train)\n",
    "\n",
    "# Transform Xm_test\n",
    "Xm_test_pca = pca.transform(Xm_test)"
   ]
  },
  {
   "cell_type": "code",
   "execution_count": 15,
   "metadata": {},
   "outputs": [],
   "source": [
    "# Standard scaling\n",
    "\n",
    "# Instantiate the scaler and fit to Xm_train\n",
    "scaler = StandardScaler().fit(Xm_train)\n",
    "\n",
    "# Transform Xm_train\n",
    "Xm_train_scaled = scaler.transform(Xm_train)\n",
    "\n",
    "# Transform Xm_test\n",
    "Xm_test_scaled = scaler.transform(Xm_test)"
   ]
  },
  {
   "cell_type": "code",
   "execution_count": 16,
   "metadata": {},
   "outputs": [],
   "source": [
    "# PCA on scaled features\n",
    "\n",
    "# Instantiate PCA and fit to Xm_train_scaled\n",
    "pca_scaled = PCA().fit(Xm_train_scaled)\n",
    "\n",
    "# Transform Xm_train_scaled\n",
    "Xm_train_scaled_pca = pca_scaled.transform(Xm_train_scaled)\n",
    "\n",
    "# Transform Xm_test_scaled\n",
    "Xm_test_scaled_pca = pca_scaled.transform(Xm_test_scaled)"
   ]
  },
  {
   "cell_type": "code",
   "execution_count": 19,
   "metadata": {},
   "outputs": [
    {
     "data": {
      "image/png": "[encoded data removed]",
      "text/plain": [
       "<Figure size 1080x360 with 2 Axes>"
      ]
     },
     "metadata": {
      "needs_background": "light"
     },
     "output_type": "display_data"
    }
   ],
   "source": [
    "# Plot the explained variance ratios\n",
    "\n",
    "plt.subplots(1, 2, figsize = (15, 5))\n",
    "\n",
    "# Unscaled\n",
    "plt.subplot(1, 2, 1)\n",
    "plt.bar(np.arange(1, len(pca.explained_variance_ratio_)+1), pca.explained_variance_ratio_)\n",
    "plt.xlabel('Principal Component')\n",
    "plt.ylabel('Explained Variance Ratio')\n",
    "plt.title('PCA on Unscaled Features')\n",
    "plt.ylim(top = 0.6) # Equalizing the y-axes\n",
    "\n",
    "# Scaled\n",
    "plt.subplot(1, 2, 2)\n",
    "plt.bar(np.arange(1, len(pca_scaled.explained_variance_ratio_)+1), pca_scaled.explained_variance_ratio_)\n",
    "plt.xlabel('Principal Component')\n",
    "plt.ylabel('Explained Variance Ratio')\n",
    "plt.title('PCA on Scaled Features')\n",
    "plt.ylim(top = 0.6) # Equalizing the y-axes\n",
    "\n",
    "plt.tight_layout()\n",
    "plt.show()"
   ]
  },
  {
   "cell_type": "markdown",
   "metadata": {},
   "source": [
    "Principal components are linear combinations of the original features, ordered by how much of the dataset's variance they explain. Looking at the two plots above, it appears that for the same number of principal components, those using unscaled features are able to explain more variance (i.e., capture more information) than those using scaled features. For example, looking at the first ~25 principal components of each plot, the bars of the left plot (unscaled) are higher and skewed more to the left than those of the right plot (scaled). Since the purpose of PCA is to reduce dimensionality of the data by keeping the components that explain the most variance and discarding the rest, the unscaled principal components might benefit my models more than the scaled principal components will.\n",
    "\n",
    "However, I have to be mindful of the underlying variance in my features. Some features have values in the -800s, while others are close to 0."
   ]
  },
  {
   "cell_type": "code",
   "execution_count": 21,
   "metadata": {},
   "outputs": [
    {
     "data": {
      "text/html": [
       "<div>\n",
       "<style scoped>\n",
       "    .dataframe tbody tr th:only-of-type {\n",
       "        vertical-align: middle;\n",
       "    }\n",
       "\n",
       "    .dataframe tbody tr th {\n",
       "        vertical-align: top;\n",
       "    }\n",
       "\n",
       "    .dataframe thead th {\n",
       "        text-align: right;\n",
       "    }\n",
       "</style>\n",
       "<table border=\"1\" class=\"dataframe\">\n",
       "  <thead>\n",
       "    <tr style=\"text-align: right;\">\n",
       "      <th></th>\n",
       "      <th>0</th>\n",
       "      <th>1</th>\n",
       "      <th>2</th>\n",
       "      <th>3</th>\n",
       "      <th>4</th>\n",
       "      <th>5</th>\n",
       "      <th>6</th>\n",
       "      <th>7</th>\n",
       "      <th>8</th>\n",
       "      <th>9</th>\n",
       "      <th>...</th>\n",
       "      <th>2590</th>\n",
       "      <th>2591</th>\n",
       "      <th>2592</th>\n",
       "      <th>2593</th>\n",
       "      <th>2594</th>\n",
       "      <th>2595</th>\n",
       "      <th>2596</th>\n",
       "      <th>2597</th>\n",
       "      <th>2598</th>\n",
       "      <th>2599</th>\n",
       "    </tr>\n",
       "  </thead>\n",
       "  <tbody>\n",
       "    <tr>\n",
       "      <td>0</td>\n",
       "      <td>12210.478339</td>\n",
       "      <td>12201.77418</td>\n",
       "      <td>12111.401191</td>\n",
       "      <td>12044.003287</td>\n",
       "      <td>12120.508756</td>\n",
       "      <td>12328.912595</td>\n",
       "      <td>12356.51745</td>\n",
       "      <td>12248.786453</td>\n",
       "      <td>12196.954637</td>\n",
       "      <td>12130.661598</td>\n",
       "      <td>...</td>\n",
       "      <td>49.516361</td>\n",
       "      <td>48.535437</td>\n",
       "      <td>47.306909</td>\n",
       "      <td>42.627579</td>\n",
       "      <td>42.790836</td>\n",
       "      <td>44.790109</td>\n",
       "      <td>45.562742</td>\n",
       "      <td>43.973544</td>\n",
       "      <td>35.034523</td>\n",
       "      <td>30.159845</td>\n",
       "    </tr>\n",
       "  </tbody>\n",
       "</table>\n",
       "<p>1 rows × 2600 columns</p>\n",
       "</div>"
      ],
      "text/plain": [
       "              0            1             2             3             4  \\\n",
       "0  12210.478339  12201.77418  12111.401191  12044.003287  12120.508756   \n",
       "\n",
       "              5            6             7             8             9  ...  \\\n",
       "0  12328.912595  12356.51745  12248.786453  12196.954637  12130.661598  ...   \n",
       "\n",
       "        2590       2591       2592       2593       2594       2595  \\\n",
       "0  49.516361  48.535437  47.306909  42.627579  42.790836  44.790109   \n",
       "\n",
       "        2596       2597       2598       2599  \n",
       "0  45.562742  43.973544  35.034523  30.159845  \n",
       "\n",
       "[1 rows x 2600 columns]"
      ]
     },
     "execution_count": 21,
     "metadata": {},
     "output_type": "execute_result"
    }
   ],
   "source": [
    "# Examining the variances\n",
    "var_df = pd.DataFrame(male_df.var()).T\n",
    "var_df"
   ]
  },
  {
   "cell_type": "markdown",
   "metadata": {},
   "source": [
    "Since PCA is looking for high variance directions, it can become biased by the underlying variance in a given feature if I do not scale it down first. I can see that some features have much higher variance than others do, so there is likely a lot of bias in the unscaled principal components above.\n",
    "\n",
    "How much variance is explained by certain numbers of unscaled and scaled principal components? This will help me determine how many principal components to try in my grid searches later."
   ]
  },
  {
   "cell_type": "code",
   "execution_count": 22,
   "metadata": {},
   "outputs": [
    {
     "name": "stdout",
     "output_type": "stream",
     "text": [
      "Variance explained by 502 unscaled principal components: 100.0%\n",
      "Variance explained by 450 unscaled principal components: 99.93%\n",
      "Variance explained by 400 unscaled principal components: 99.82%\n",
      "Variance explained by 350 unscaled principal components: 99.64%\n",
      "Variance explained by 300 unscaled principal components: 99.38%\n",
      "Variance explained by 250 unscaled principal components: 99.0%\n",
      "Variance explained by 200 unscaled principal components: 98.43%\n",
      "Variance explained by 150 unscaled principal components: 97.52%\n",
      "Variance explained by 100 unscaled principal components: 95.91%\n",
      "Variance explained by 50 unscaled principal components: 92.2%\n"
     ]
    }
   ],
   "source": [
    "# Unscaled\n",
    "num_components = [503, 451, 401, 351, 301, 251, 201, 151, 101, 51]\n",
    "for n in num_components:\n",
    "    print(f'Variance explained by {n-1} unscaled principal components: {np.round(np.sum(pca.explained_variance_ratio_[:n])*100, 2)}%')"
   ]
  },
  {
   "cell_type": "code",
   "execution_count": 23,
   "metadata": {},
   "outputs": [
    {
     "name": "stdout",
     "output_type": "stream",
     "text": [
      "Variance explained by 502 scaled principal components: 100.0%\n",
      "Variance explained by 450 scaled principal components: 99.5%\n",
      "Variance explained by 400 scaled principal components: 98.66%\n",
      "Variance explained by 350 scaled principal components: 97.42%\n",
      "Variance explained by 300 scaled principal components: 95.65%\n",
      "Variance explained by 250 scaled principal components: 93.12%\n",
      "Variance explained by 200 scaled principal components: 89.55%\n",
      "Variance explained by 150 scaled principal components: 84.34%\n",
      "Variance explained by 100 scaled principal components: 76.42%\n",
      "Variance explained by 50 scaled principal components: 62.92%\n"
     ]
    }
   ],
   "source": [
    "# Scaled\n",
    "num_components = [503, 451, 401, 351, 301, 251, 201, 151, 101, 51]\n",
    "for n in num_components:\n",
    "    print(f'Variance explained by {n-1} scaled principal components: {np.round(np.sum(pca_scaled.explained_variance_ratio_[:n])*100, 2)}%')"
   ]
  },
  {
   "cell_type": "markdown",
   "metadata": {},
   "source": [
    "I will now build a pipeline and multiple grid searches with five-fold cross-validation to optimize the hyperparameters. I will try two types of classifiers: logistic regression and support vector machine. I have chosen these based on the fact that they performed better than other classifer types in part 2a. To get a better sense of how each type performs, I will make a grid search for each one. I will also try different numbers of principal components for unscaled and scaled features."
   ]
  },
  {
   "cell_type": "code",
   "execution_count": 24,
   "metadata": {},
   "outputs": [],
   "source": [
    "# Cache\n",
    "cachedir = mkdtemp()\n",
    "\n",
    "# Pipeline (these values are placeholders)\n",
    "my_pipeline = Pipeline(steps=[('scaler', StandardScaler()), ('dim_reducer', PCA()), ('model', LogisticRegression())], memory=cachedir)"
   ]
  },
  {
   "cell_type": "code",
   "execution_count": 25,
   "metadata": {},
   "outputs": [],
   "source": [
    "# Parameter grid for log reg\n",
    "logreg_param_grid = [\n",
    "    # l1 without PCA\n",
    "    # unscaled and scaled * 9 regularization strengths = 18 models\n",
    "    {'scaler': [None, StandardScaler()], 'dim_reducer': [None], 'model': [LogisticRegression(penalty='l1', n_jobs=-1)],\n",
    "     'model__C': [0.0001, 0.001, 0.01, 0.1, 1, 10, 100, 1000, 10000]},\n",
    "    \n",
    "    # l1 unscaled with PCA\n",
    "    # 5 PCAs * 9 regularization strengths = 45 models\n",
    "    {'scaler': [None], 'dim_reducer': [PCA()], 'dim_reducer__n_components': np.arange(50, 251, 50),\n",
    "     'model': [LogisticRegression(penalty='l1', n_jobs=-1)], 'model__C': [0.0001, 0.001, 0.01, 0.1, 1, 10, 100, 1000, 10000]},\n",
    "    \n",
    "    # l1 scaled with PCA\n",
    "    # 4 PCAs * 9 regularization strengths = 36 models\n",
    "    {'scaler': [StandardScaler()], 'dim_reducer': [PCA()], 'dim_reducer__n_components': np.arange(200, 351, 50),\n",
    "     'model': [LogisticRegression(penalty='l1', n_jobs=-1)], 'model__C': [0.0001, 0.001, 0.01, 0.1, 1, 10, 100, 1000, 10000]},\n",
    "    \n",
    "    # l2 (default) without PCA\n",
    "    # unscaled and scaled * 9 regularization strengths = 18 models\n",
    "    {'scaler': [None, StandardScaler()], 'dim_reducer': [None], 'model': [LogisticRegression(solver='lbfgs', n_jobs=-1)],\n",
    "     'model__C': [0.0001, 0.001, 0.01, 0.1, 1, 10, 100, 1000, 10000]},\n",
    "    \n",
    "    # l2 (default) unscaled with PCA\n",
    "    # 5 PCAs * 9 regularization strengths = 45 models\n",
    "    {'scaler': [None], 'dim_reducer': [PCA()], 'dim_reducer__n_components': np.arange(50, 251, 50),\n",
    "     'model': [LogisticRegression(solver='lbfgs', n_jobs=-1)], 'model__C': [0.0001, 0.001, 0.01, 0.1, 1, 10, 100, 1000, 10000]},\n",
    "    \n",
    "    # l2 (default) scaled with PCA\n",
    "    # 4 PCAs * 9 regularization strengths = 36 models\n",
    "    {'scaler': [StandardScaler()], 'dim_reducer': [PCA()], 'dim_reducer__n_components': np.arange(200, 351, 50),\n",
    "     'model': [LogisticRegression(solver='lbfgs', n_jobs=-1)], 'model__C': [0.0001, 0.001, 0.01, 0.1, 1, 10, 100, 1000, 10000]}\n",
    "]\n",
    "\n",
    "# Instantiate the log reg grid search\n",
    "logreg_grid_search = GridSearchCV(estimator=my_pipeline, param_grid=logreg_param_grid, cv=5, n_jobs=-1, verbose=5)"
   ]
  },
  {
   "cell_type": "code",
   "execution_count": 26,
   "metadata": {},
   "outputs": [
    {
     "name": "stdout",
     "output_type": "stream",
     "text": [
      "Fitting 5 folds for each of 198 candidates, totalling 990 fits\n"
     ]
    },
    {
     "name": "stderr",
     "output_type": "stream",
     "text": [
      "[Parallel(n_jobs=-1)]: Using backend LokyBackend with 4 concurrent workers.\n",
      "[Parallel(n_jobs=-1)]: Done  10 tasks      | elapsed:    6.5s\n",
      "[Parallel(n_jobs=-1)]: Done  64 tasks      | elapsed:   35.2s\n",
      "[Parallel(n_jobs=-1)]: Done 154 tasks      | elapsed:   52.2s\n",
      "[Parallel(n_jobs=-1)]: Done 280 tasks      | elapsed:  1.2min\n",
      "[Parallel(n_jobs=-1)]: Done 442 tasks      | elapsed:  1.6min\n",
      "[Parallel(n_jobs=-1)]: Done 640 tasks      | elapsed:  3.3min\n",
      "[Parallel(n_jobs=-1)]: Done 874 tasks      | elapsed:  4.1min\n",
      "[Parallel(n_jobs=-1)]: Done 990 out of 990 | elapsed:  4.5min finished\n"
     ]
    }
   ],
   "source": [
    "# Fit the log reg grid search\n",
    "fitted_logreg_grid_em = logreg_grid_search.fit(Xm_train, em_train)"
   ]
  },
  {
   "cell_type": "code",
   "execution_count": 27,
   "metadata": {},
   "outputs": [
    {
     "data": {
      "text/plain": [
       "Pipeline(memory='C:\\\\Users\\\\Patrick\\\\AppData\\\\Local\\\\Temp\\\\tmp9ppwr2jl',\n",
       "         steps=[('scaler',\n",
       "                 StandardScaler(copy=True, with_mean=True, with_std=True)),\n",
       "                ('dim_reducer',\n",
       "                 PCA(copy=True, iterated_power='auto', n_components=350,\n",
       "                     random_state=None, svd_solver='auto', tol=0.0,\n",
       "                     whiten=False)),\n",
       "                ('model',\n",
       "                 LogisticRegression(C=1000, class_weight=None, dual=False,\n",
       "                                    fit_intercept=True, intercept_scaling=1,\n",
       "                                    l1_ratio=None, max_iter=100,\n",
       "                                    multi_class='warn', n_jobs=-1, penalty='l2',\n",
       "                                    random_state=None, solver='lbfgs',\n",
       "                                    tol=0.0001, verbose=0, warm_start=False))],\n",
       "         verbose=False)"
      ]
     },
     "execution_count": 27,
     "metadata": {},
     "output_type": "execute_result"
    }
   ],
   "source": [
    "# What was the best log reg?\n",
    "fitted_logreg_grid_em.best_estimator_"
   ]
  },
  {
   "cell_type": "code",
   "execution_count": 28,
   "metadata": {},
   "outputs": [
    {
     "name": "stdout",
     "output_type": "stream",
     "text": [
      "The best log reg's accuracy on the training set: 100.0%\n",
      "The best log reg's accuracy on the test set: 61.57407407407407%\n"
     ]
    }
   ],
   "source": [
    "print(f\"The best log reg's accuracy on the training set: {fitted_logreg_grid_em.score(Xm_train, em_train)*100}%\")\n",
    "print(f\"The best log reg's accuracy on the test set: {fitted_logreg_grid_em.score(Xm_test, em_test)*100}%\")"
   ]
  },
  {
   "cell_type": "code",
   "execution_count": 29,
   "metadata": {},
   "outputs": [
    {
     "data": {
      "text/plain": [
       "['pickle2_male_emotion_logreg.pkl']"
      ]
     },
     "execution_count": 29,
     "metadata": {},
     "output_type": "execute_result"
    }
   ],
   "source": [
    "# Pickling the best log reg\n",
    "joblib.dump(fitted_logreg_grid_em.best_estimator_, 'pickle2_male_emotion_logreg.pkl')"
   ]
  },
  {
   "cell_type": "code",
   "execution_count": 30,
   "metadata": {},
   "outputs": [],
   "source": [
    "# Parameter grid for SVM\n",
    "svm_param_grid = [\n",
    "    # unscaled and scaled * 9 regularization strengths = 18 models\n",
    "    {'scaler': [None, StandardScaler()], 'dim_reducer': [None], 'model': [SVC()], 'model__C': [0.0001, 0.001, 0.01, 0.1, 1, 10, 100, 1000, 10000]},\n",
    "    \n",
    "    # unscaled\n",
    "    # 5 PCAs * 9 regularization strengths = 45 models\n",
    "    {'scaler': [None], 'dim_reducer': [PCA()], 'dim_reducer__n_components': np.arange(50, 251, 50), 'model': [SVC()],\n",
    "     'model__C':[0.0001, 0.001, 0.01, 0.1, 1, 10, 100, 1000, 10000]},\n",
    "    \n",
    "    # scaled\n",
    "    # 4 PCAs * 9 regularization strengths = 36 models\n",
    "    {'scaler': [StandardScaler()], 'dim_reducer': [PCA()], 'dim_reducer__n_components': np.arange(200, 351, 50), 'model': [SVC()],\n",
    "     'model__C':[0.0001, 0.001, 0.01, 0.1, 1, 10, 100, 1000, 10000]}\n",
    "]\n",
    "\n",
    "# Instantiate the SVM grid search\n",
    "svm_grid_search = GridSearchCV(estimator=my_pipeline, param_grid=svm_param_grid, cv=5, n_jobs=-1, verbose=5)"
   ]
  },
  {
   "cell_type": "code",
   "execution_count": 31,
   "metadata": {},
   "outputs": [
    {
     "name": "stdout",
     "output_type": "stream",
     "text": [
      "Fitting 5 folds for each of 99 candidates, totalling 495 fits\n"
     ]
    },
    {
     "name": "stderr",
     "output_type": "stream",
     "text": [
      "[Parallel(n_jobs=-1)]: Using backend LokyBackend with 4 concurrent workers.\n",
      "[Parallel(n_jobs=-1)]: Done  10 tasks      | elapsed:    5.4s\n",
      "[Parallel(n_jobs=-1)]: Done  64 tasks      | elapsed:   29.3s\n",
      "[Parallel(n_jobs=-1)]: Done 154 tasks      | elapsed:   45.1s\n",
      "[Parallel(n_jobs=-1)]: Done 280 tasks      | elapsed:   53.3s\n",
      "[Parallel(n_jobs=-1)]: Done 442 tasks      | elapsed:  1.1min\n",
      "[Parallel(n_jobs=-1)]: Done 495 out of 495 | elapsed:  1.2min finished\n"
     ]
    }
   ],
   "source": [
    "# Fit the SVM grid search\n",
    "fitted_svm_grid_em = svm_grid_search.fit(Xm_train, em_train)"
   ]
  },
  {
   "cell_type": "code",
   "execution_count": 32,
   "metadata": {},
   "outputs": [
    {
     "data": {
      "text/plain": [
       "Pipeline(memory='C:\\\\Users\\\\Patrick\\\\AppData\\\\Local\\\\Temp\\\\tmp9ppwr2jl',\n",
       "         steps=[('scaler',\n",
       "                 StandardScaler(copy=True, with_mean=True, with_std=True)),\n",
       "                ('dim_reducer', None),\n",
       "                ('model',\n",
       "                 SVC(C=10, cache_size=200, class_weight=None, coef0=0.0,\n",
       "                     decision_function_shape='ovr', degree=3,\n",
       "                     gamma='auto_deprecated', kernel='rbf', max_iter=-1,\n",
       "                     probability=False, random_state=None, shrinking=True,\n",
       "                     tol=0.001, verbose=False))],\n",
       "         verbose=False)"
      ]
     },
     "execution_count": 32,
     "metadata": {},
     "output_type": "execute_result"
    }
   ],
   "source": [
    "# What was the best SVM?\n",
    "fitted_svm_grid_em.best_estimator_"
   ]
  },
  {
   "cell_type": "code",
   "execution_count": 33,
   "metadata": {},
   "outputs": [
    {
     "name": "stdout",
     "output_type": "stream",
     "text": [
      "The best SVM's accuracy on the training set: 100.0%\n",
      "The best SVM's accuracy on the test set: 66.20370370370371%\n"
     ]
    }
   ],
   "source": [
    "print(f\"The best SVM's accuracy on the training set: {fitted_svm_grid_em.score(Xm_train, em_train)*100}%\")\n",
    "print(f\"The best SVM's accuracy on the test set: {fitted_svm_grid_em.score(Xm_test, em_test)*100}%\")"
   ]
  },
  {
   "cell_type": "code",
   "execution_count": 34,
   "metadata": {},
   "outputs": [
    {
     "data": {
      "text/plain": [
       "['pickle3_male_emotion_svm.pkl']"
      ]
     },
     "execution_count": 34,
     "metadata": {},
     "output_type": "execute_result"
    }
   ],
   "source": [
    "# Pickling the best SVM\n",
    "joblib.dump(fitted_svm_grid_em.best_estimator_, 'pickle3_male_emotion_svm.pkl')"
   ]
  },
  {
   "cell_type": "markdown",
   "metadata": {},
   "source": [
    "I will try loading in the pickled models and evaluate them using confusion matrices and classification reports."
   ]
  },
  {
   "cell_type": "code",
   "execution_count": 9,
   "metadata": {},
   "outputs": [],
   "source": [
    "# Loading in the best male emotion classifiers\n",
    "male_emotion_logreg = joblib.load('pickle2_male_emotion_logreg.pkl')\n",
    "male_emotion_svm = joblib.load('pickle3_male_emotion_svm.pkl')"
   ]
  },
  {
   "cell_type": "code",
   "execution_count": 36,
   "metadata": {},
   "outputs": [
    {
     "data": {
      "image/png": "[encoded data removed]",
      "text/plain": [
       "<Figure size 864x576 with 2 Axes>"
      ]
     },
     "metadata": {
      "needs_background": "light"
     },
     "output_type": "display_data"
    }
   ],
   "source": [
    "em_pred = male_emotion_logreg.predict(Xm_test)\n",
    "\n",
    "# Building the confusion matrix as a dataframe\n",
    "emotions = ['angry', 'calm', 'disgusted', 'fearful', 'happy', 'neutral', 'sad', 'surprised']\n",
    "em_confusion_df = pd.DataFrame(confusion_matrix(em_test, em_pred))\n",
    "em_confusion_df.columns = [f'Predicted {emotion}' for emotion in emotions]\n",
    "em_confusion_df.index = [f'Actual {emotion}' for emotion in emotions]\n",
    "\n",
    "# Converting the above to precision scores\n",
    "em_confusion_df_pct = round(em_confusion_df/em_confusion_df.sum(axis = 0)*100, 2)\n",
    "\n",
    "# Heatmap of precision scores\n",
    "plt.figure(figsize=(12, 8))\n",
    "sns.heatmap(em_confusion_df_pct, annot=True, linewidths=0.5)\n",
    "plt.xticks(rotation=45)\n",
    "plt.show()"
   ]
  },
  {
   "cell_type": "code",
   "execution_count": 37,
   "metadata": {},
   "outputs": [
    {
     "name": "stdout",
     "output_type": "stream",
     "text": [
      "              precision    recall  f1-score   support\n",
      "\n",
      "       angry       0.62      0.72      0.67        29\n",
      "        calm       0.79      0.82      0.81        28\n",
      "   disgusted       0.63      0.59      0.61        29\n",
      "     fearful       0.52      0.52      0.52        29\n",
      "       happy       0.62      0.55      0.58        29\n",
      "     neutral       0.50      0.71      0.59        14\n",
      "         sad       0.52      0.59      0.55        29\n",
      "   surprised       0.78      0.48      0.60        29\n",
      "\n",
      "    accuracy                           0.62       216\n",
      "   macro avg       0.62      0.62      0.61       216\n",
      "weighted avg       0.63      0.62      0.61       216\n",
      "\n"
     ]
    }
   ],
   "source": [
    "# Classification report\n",
    "print(classification_report(em_test, em_pred))"
   ]
  },
  {
   "cell_type": "code",
   "execution_count": 38,
   "metadata": {},
   "outputs": [
    {
     "data": {
      "image/png": "[encoded data removed]",
      "text/plain": [
       "<Figure size 864x576 with 2 Axes>"
      ]
     },
     "metadata": {
      "needs_background": "light"
     },
     "output_type": "display_data"
    }
   ],
   "source": [
    "em_pred = male_emotion_svm.predict(Xm_test)\n",
    "\n",
    "# Building the confusion matrix as a dataframe\n",
    "emotions = ['angry', 'calm', 'disgusted', 'fearful', 'happy', 'neutral', 'sad', 'surprised']\n",
    "em_confusion_df = pd.DataFrame(confusion_matrix(em_test, em_pred))\n",
    "em_confusion_df.columns = [f'Predicted {emotion}' for emotion in emotions]\n",
    "em_confusion_df.index = [f'Actual {emotion}' for emotion in emotions]\n",
    "\n",
    "# Converting the above to precision scores\n",
    "em_confusion_df_pct = round(em_confusion_df/em_confusion_df.sum(axis = 0)*100, 2)\n",
    "\n",
    "# Heatmap of precision scores\n",
    "plt.figure(figsize=(12, 8))\n",
    "sns.heatmap(em_confusion_df_pct, annot=True, linewidths=0.5)\n",
    "plt.xticks(rotation=45)\n",
    "plt.show()"
   ]
  },
  {
   "cell_type": "code",
   "execution_count": 39,
   "metadata": {},
   "outputs": [
    {
     "name": "stdout",
     "output_type": "stream",
     "text": [
      "              precision    recall  f1-score   support\n",
      "\n",
      "       angry       0.77      0.79      0.78        29\n",
      "        calm       0.68      0.82      0.74        28\n",
      "   disgusted       0.56      0.69      0.62        29\n",
      "     fearful       0.68      0.66      0.67        29\n",
      "       happy       0.75      0.52      0.61        29\n",
      "     neutral       0.60      0.43      0.50        14\n",
      "         sad       0.55      0.72      0.63        29\n",
      "   surprised       0.80      0.55      0.65        29\n",
      "\n",
      "    accuracy                           0.66       216\n",
      "   macro avg       0.67      0.65      0.65       216\n",
      "weighted avg       0.68      0.66      0.66       216\n",
      "\n"
     ]
    }
   ],
   "source": [
    "# Classification report\n",
    "print(classification_report(em_test, em_pred))"
   ]
  },
  {
   "cell_type": "markdown",
   "metadata": {},
   "source": [
    "___\n",
    "# Building Models for Classifying Emotion for Females"
   ]
  },
  {
   "cell_type": "code",
   "execution_count": 41,
   "metadata": {},
   "outputs": [
    {
     "data": {
      "text/html": [
       "<div>\n",
       "<style scoped>\n",
       "    .dataframe tbody tr th:only-of-type {\n",
       "        vertical-align: middle;\n",
       "    }\n",
       "\n",
       "    .dataframe tbody tr th {\n",
       "        vertical-align: top;\n",
       "    }\n",
       "\n",
       "    .dataframe thead th {\n",
       "        text-align: right;\n",
       "    }\n",
       "</style>\n",
       "<table border=\"1\" class=\"dataframe\">\n",
       "  <thead>\n",
       "    <tr style=\"text-align: right;\">\n",
       "      <th></th>\n",
       "      <th>0</th>\n",
       "      <th>1</th>\n",
       "      <th>2</th>\n",
       "      <th>3</th>\n",
       "      <th>4</th>\n",
       "      <th>5</th>\n",
       "      <th>6</th>\n",
       "      <th>7</th>\n",
       "      <th>8</th>\n",
       "      <th>9</th>\n",
       "      <th>...</th>\n",
       "      <th>2592</th>\n",
       "      <th>2593</th>\n",
       "      <th>2594</th>\n",
       "      <th>2595</th>\n",
       "      <th>2596</th>\n",
       "      <th>2597</th>\n",
       "      <th>2598</th>\n",
       "      <th>2599</th>\n",
       "      <th>Gender</th>\n",
       "      <th>Emotion</th>\n",
       "    </tr>\n",
       "  </thead>\n",
       "  <tbody>\n",
       "    <tr>\n",
       "      <td>0</td>\n",
       "      <td>-828.424007</td>\n",
       "      <td>-828.424007</td>\n",
       "      <td>-828.424007</td>\n",
       "      <td>-828.424007</td>\n",
       "      <td>-828.424007</td>\n",
       "      <td>-828.424007</td>\n",
       "      <td>-828.424007</td>\n",
       "      <td>-828.424007</td>\n",
       "      <td>-828.424007</td>\n",
       "      <td>-828.424007</td>\n",
       "      <td>...</td>\n",
       "      <td>0.920487</td>\n",
       "      <td>1.142689</td>\n",
       "      <td>1.645541</td>\n",
       "      <td>0.662126</td>\n",
       "      <td>-2.959728</td>\n",
       "      <td>-2.974654</td>\n",
       "      <td>-3.218986</td>\n",
       "      <td>-1.575759</td>\n",
       "      <td>female</td>\n",
       "      <td>neutral</td>\n",
       "    </tr>\n",
       "    <tr>\n",
       "      <td>1</td>\n",
       "      <td>-816.246342</td>\n",
       "      <td>-816.246342</td>\n",
       "      <td>-816.246342</td>\n",
       "      <td>-816.246342</td>\n",
       "      <td>-816.246342</td>\n",
       "      <td>-816.246342</td>\n",
       "      <td>-816.246342</td>\n",
       "      <td>-816.246342</td>\n",
       "      <td>-816.246342</td>\n",
       "      <td>-816.246342</td>\n",
       "      <td>...</td>\n",
       "      <td>-0.228949</td>\n",
       "      <td>-0.707065</td>\n",
       "      <td>0.462528</td>\n",
       "      <td>-0.680065</td>\n",
       "      <td>-0.896755</td>\n",
       "      <td>0.134081</td>\n",
       "      <td>-2.220807</td>\n",
       "      <td>-5.561842</td>\n",
       "      <td>female</td>\n",
       "      <td>neutral</td>\n",
       "    </tr>\n",
       "    <tr>\n",
       "      <td>2</td>\n",
       "      <td>-801.998403</td>\n",
       "      <td>-801.998403</td>\n",
       "      <td>-801.998403</td>\n",
       "      <td>-801.998403</td>\n",
       "      <td>-801.998403</td>\n",
       "      <td>-801.998403</td>\n",
       "      <td>-801.998403</td>\n",
       "      <td>-801.998403</td>\n",
       "      <td>-801.998403</td>\n",
       "      <td>-801.998403</td>\n",
       "      <td>...</td>\n",
       "      <td>-3.942946</td>\n",
       "      <td>-2.129235</td>\n",
       "      <td>-2.910708</td>\n",
       "      <td>-1.609172</td>\n",
       "      <td>-3.229009</td>\n",
       "      <td>-3.320858</td>\n",
       "      <td>-1.769103</td>\n",
       "      <td>-4.660400</td>\n",
       "      <td>female</td>\n",
       "      <td>neutral</td>\n",
       "    </tr>\n",
       "    <tr>\n",
       "      <td>3</td>\n",
       "      <td>-815.740988</td>\n",
       "      <td>-815.366061</td>\n",
       "      <td>-816.948004</td>\n",
       "      <td>-818.018244</td>\n",
       "      <td>-818.377854</td>\n",
       "      <td>-818.377854</td>\n",
       "      <td>-818.377854</td>\n",
       "      <td>-818.377854</td>\n",
       "      <td>-818.377854</td>\n",
       "      <td>-818.377854</td>\n",
       "      <td>...</td>\n",
       "      <td>-1.303561</td>\n",
       "      <td>-0.976235</td>\n",
       "      <td>0.755248</td>\n",
       "      <td>-0.303678</td>\n",
       "      <td>-0.677214</td>\n",
       "      <td>-4.022101</td>\n",
       "      <td>-0.964241</td>\n",
       "      <td>-0.908779</td>\n",
       "      <td>female</td>\n",
       "      <td>neutral</td>\n",
       "    </tr>\n",
       "    <tr>\n",
       "      <td>4</td>\n",
       "      <td>-840.741626</td>\n",
       "      <td>-840.741626</td>\n",
       "      <td>-840.741626</td>\n",
       "      <td>-840.741626</td>\n",
       "      <td>-840.741626</td>\n",
       "      <td>-840.741626</td>\n",
       "      <td>-840.741626</td>\n",
       "      <td>-840.499265</td>\n",
       "      <td>-840.403957</td>\n",
       "      <td>-840.732397</td>\n",
       "      <td>...</td>\n",
       "      <td>-5.276046</td>\n",
       "      <td>-11.831193</td>\n",
       "      <td>-15.723968</td>\n",
       "      <td>-8.195305</td>\n",
       "      <td>-3.713976</td>\n",
       "      <td>-2.014079</td>\n",
       "      <td>-1.137595</td>\n",
       "      <td>-1.414328</td>\n",
       "      <td>female</td>\n",
       "      <td>calm</td>\n",
       "    </tr>\n",
       "    <tr>\n",
       "      <td>...</td>\n",
       "      <td>...</td>\n",
       "      <td>...</td>\n",
       "      <td>...</td>\n",
       "      <td>...</td>\n",
       "      <td>...</td>\n",
       "      <td>...</td>\n",
       "      <td>...</td>\n",
       "      <td>...</td>\n",
       "      <td>...</td>\n",
       "      <td>...</td>\n",
       "      <td>...</td>\n",
       "      <td>...</td>\n",
       "      <td>...</td>\n",
       "      <td>...</td>\n",
       "      <td>...</td>\n",
       "      <td>...</td>\n",
       "      <td>...</td>\n",
       "      <td>...</td>\n",
       "      <td>...</td>\n",
       "      <td>...</td>\n",
       "      <td>...</td>\n",
       "    </tr>\n",
       "    <tr>\n",
       "      <td>715</td>\n",
       "      <td>-764.912613</td>\n",
       "      <td>-764.912613</td>\n",
       "      <td>-764.912613</td>\n",
       "      <td>-764.912613</td>\n",
       "      <td>-764.912613</td>\n",
       "      <td>-764.912613</td>\n",
       "      <td>-764.912613</td>\n",
       "      <td>-764.912613</td>\n",
       "      <td>-764.912613</td>\n",
       "      <td>-764.912613</td>\n",
       "      <td>...</td>\n",
       "      <td>-0.896832</td>\n",
       "      <td>-0.392337</td>\n",
       "      <td>-0.061991</td>\n",
       "      <td>0.000000</td>\n",
       "      <td>0.000000</td>\n",
       "      <td>0.000000</td>\n",
       "      <td>0.000000</td>\n",
       "      <td>0.000000</td>\n",
       "      <td>female</td>\n",
       "      <td>surprised</td>\n",
       "    </tr>\n",
       "    <tr>\n",
       "      <td>716</td>\n",
       "      <td>-732.371448</td>\n",
       "      <td>-732.371448</td>\n",
       "      <td>-732.371448</td>\n",
       "      <td>-732.371448</td>\n",
       "      <td>-732.371448</td>\n",
       "      <td>-732.371448</td>\n",
       "      <td>-732.371448</td>\n",
       "      <td>-732.371448</td>\n",
       "      <td>-732.371448</td>\n",
       "      <td>-732.371448</td>\n",
       "      <td>...</td>\n",
       "      <td>14.521227</td>\n",
       "      <td>11.316990</td>\n",
       "      <td>8.713079</td>\n",
       "      <td>10.328533</td>\n",
       "      <td>9.036978</td>\n",
       "      <td>3.399172</td>\n",
       "      <td>0.749259</td>\n",
       "      <td>3.379535</td>\n",
       "      <td>female</td>\n",
       "      <td>surprised</td>\n",
       "    </tr>\n",
       "    <tr>\n",
       "      <td>717</td>\n",
       "      <td>-741.416134</td>\n",
       "      <td>-741.416134</td>\n",
       "      <td>-741.416134</td>\n",
       "      <td>-741.416134</td>\n",
       "      <td>-741.416134</td>\n",
       "      <td>-741.416134</td>\n",
       "      <td>-741.416134</td>\n",
       "      <td>-741.416134</td>\n",
       "      <td>-741.416134</td>\n",
       "      <td>-741.416134</td>\n",
       "      <td>...</td>\n",
       "      <td>33.032120</td>\n",
       "      <td>30.513006</td>\n",
       "      <td>16.692862</td>\n",
       "      <td>11.868344</td>\n",
       "      <td>12.438664</td>\n",
       "      <td>9.639763</td>\n",
       "      <td>11.089835</td>\n",
       "      <td>15.954101</td>\n",
       "      <td>female</td>\n",
       "      <td>surprised</td>\n",
       "    </tr>\n",
       "    <tr>\n",
       "      <td>718</td>\n",
       "      <td>-713.463556</td>\n",
       "      <td>-713.463556</td>\n",
       "      <td>-713.463556</td>\n",
       "      <td>-713.463556</td>\n",
       "      <td>-713.463556</td>\n",
       "      <td>-712.544956</td>\n",
       "      <td>-707.772996</td>\n",
       "      <td>-712.991454</td>\n",
       "      <td>-713.463556</td>\n",
       "      <td>-713.463556</td>\n",
       "      <td>...</td>\n",
       "      <td>1.778087</td>\n",
       "      <td>0.784658</td>\n",
       "      <td>2.449260</td>\n",
       "      <td>1.380714</td>\n",
       "      <td>0.030581</td>\n",
       "      <td>-1.293232</td>\n",
       "      <td>-1.480161</td>\n",
       "      <td>-1.456663</td>\n",
       "      <td>female</td>\n",
       "      <td>surprised</td>\n",
       "    </tr>\n",
       "    <tr>\n",
       "      <td>719</td>\n",
       "      <td>-718.545716</td>\n",
       "      <td>-718.545716</td>\n",
       "      <td>-718.545716</td>\n",
       "      <td>-718.545716</td>\n",
       "      <td>-718.545716</td>\n",
       "      <td>-718.545716</td>\n",
       "      <td>-718.545716</td>\n",
       "      <td>-718.545716</td>\n",
       "      <td>-718.545716</td>\n",
       "      <td>-718.545716</td>\n",
       "      <td>...</td>\n",
       "      <td>6.213907</td>\n",
       "      <td>2.678101</td>\n",
       "      <td>4.722186</td>\n",
       "      <td>3.860357</td>\n",
       "      <td>3.276660</td>\n",
       "      <td>6.092970</td>\n",
       "      <td>6.363560</td>\n",
       "      <td>3.886374</td>\n",
       "      <td>female</td>\n",
       "      <td>surprised</td>\n",
       "    </tr>\n",
       "  </tbody>\n",
       "</table>\n",
       "<p>720 rows × 2602 columns</p>\n",
       "</div>"
      ],
      "text/plain": [
       "              0           1           2           3           4           5  \\\n",
       "0   -828.424007 -828.424007 -828.424007 -828.424007 -828.424007 -828.424007   \n",
       "1   -816.246342 -816.246342 -816.246342 -816.246342 -816.246342 -816.246342   \n",
       "2   -801.998403 -801.998403 -801.998403 -801.998403 -801.998403 -801.998403   \n",
       "3   -815.740988 -815.366061 -816.948004 -818.018244 -818.377854 -818.377854   \n",
       "4   -840.741626 -840.741626 -840.741626 -840.741626 -840.741626 -840.741626   \n",
       "..          ...         ...         ...         ...         ...         ...   \n",
       "715 -764.912613 -764.912613 -764.912613 -764.912613 -764.912613 -764.912613   \n",
       "716 -732.371448 -732.371448 -732.371448 -732.371448 -732.371448 -732.371448   \n",
       "717 -741.416134 -741.416134 -741.416134 -741.416134 -741.416134 -741.416134   \n",
       "718 -713.463556 -713.463556 -713.463556 -713.463556 -713.463556 -712.544956   \n",
       "719 -718.545716 -718.545716 -718.545716 -718.545716 -718.545716 -718.545716   \n",
       "\n",
       "              6           7           8           9  ...       2592  \\\n",
       "0   -828.424007 -828.424007 -828.424007 -828.424007  ...   0.920487   \n",
       "1   -816.246342 -816.246342 -816.246342 -816.246342  ...  -0.228949   \n",
       "2   -801.998403 -801.998403 -801.998403 -801.998403  ...  -3.942946   \n",
       "3   -818.377854 -818.377854 -818.377854 -818.377854  ...  -1.303561   \n",
       "4   -840.741626 -840.499265 -840.403957 -840.732397  ...  -5.276046   \n",
       "..          ...         ...         ...         ...  ...        ...   \n",
       "715 -764.912613 -764.912613 -764.912613 -764.912613  ...  -0.896832   \n",
       "716 -732.371448 -732.371448 -732.371448 -732.371448  ...  14.521227   \n",
       "717 -741.416134 -741.416134 -741.416134 -741.416134  ...  33.032120   \n",
       "718 -707.772996 -712.991454 -713.463556 -713.463556  ...   1.778087   \n",
       "719 -718.545716 -718.545716 -718.545716 -718.545716  ...   6.213907   \n",
       "\n",
       "          2593       2594       2595       2596      2597       2598  \\\n",
       "0     1.142689   1.645541   0.662126  -2.959728 -2.974654  -3.218986   \n",
       "1    -0.707065   0.462528  -0.680065  -0.896755  0.134081  -2.220807   \n",
       "2    -2.129235  -2.910708  -1.609172  -3.229009 -3.320858  -1.769103   \n",
       "3    -0.976235   0.755248  -0.303678  -0.677214 -4.022101  -0.964241   \n",
       "4   -11.831193 -15.723968  -8.195305  -3.713976 -2.014079  -1.137595   \n",
       "..         ...        ...        ...        ...       ...        ...   \n",
       "715  -0.392337  -0.061991   0.000000   0.000000  0.000000   0.000000   \n",
       "716  11.316990   8.713079  10.328533   9.036978  3.399172   0.749259   \n",
       "717  30.513006  16.692862  11.868344  12.438664  9.639763  11.089835   \n",
       "718   0.784658   2.449260   1.380714   0.030581 -1.293232  -1.480161   \n",
       "719   2.678101   4.722186   3.860357   3.276660  6.092970   6.363560   \n",
       "\n",
       "          2599  Gender    Emotion  \n",
       "0    -1.575759  female    neutral  \n",
       "1    -5.561842  female    neutral  \n",
       "2    -4.660400  female    neutral  \n",
       "3    -0.908779  female    neutral  \n",
       "4    -1.414328  female       calm  \n",
       "..         ...     ...        ...  \n",
       "715   0.000000  female  surprised  \n",
       "716   3.379535  female  surprised  \n",
       "717  15.954101  female  surprised  \n",
       "718  -1.456663  female  surprised  \n",
       "719   3.886374  female  surprised  \n",
       "\n",
       "[720 rows x 2602 columns]"
      ]
     },
     "execution_count": 41,
     "metadata": {},
     "output_type": "execute_result"
    }
   ],
   "source": [
    "# Making a new dataframe that contains only female recordings\n",
    "female_df = ravdess_mfcc_no_offset_df[ravdess_mfcc_no_offset_df['Gender'] == 'female'].reset_index().drop('index', axis=1)\n",
    "female_df"
   ]
  },
  {
   "cell_type": "code",
   "execution_count": 42,
   "metadata": {},
   "outputs": [],
   "source": [
    "# Splitting the dataframe into features and target\n",
    "Xf = female_df.iloc[:, :-2]\n",
    "ef = female_df['Emotion']"
   ]
  },
  {
   "cell_type": "code",
   "execution_count": 43,
   "metadata": {},
   "outputs": [],
   "source": [
    "# Splitting the data into training and test sets\n",
    "Xf_train, Xf_test, ef_train, ef_test = train_test_split(Xf, ef, test_size=0.3, stratify=ef, random_state=1)"
   ]
  },
  {
   "cell_type": "code",
   "execution_count": 44,
   "metadata": {},
   "outputs": [
    {
     "name": "stdout",
     "output_type": "stream",
     "text": [
      "(504, 2600)\n",
      "(216, 2600)\n",
      "(504,)\n",
      "(216,)\n"
     ]
    }
   ],
   "source": [
    "# Checking the shapes\n",
    "print(Xf_train.shape)\n",
    "print(Xf_test.shape)\n",
    "print(ef_train.shape)\n",
    "print(ef_test.shape)"
   ]
  },
  {
   "cell_type": "markdown",
   "metadata": {},
   "source": [
    "Here is an initial model:"
   ]
  },
  {
   "cell_type": "code",
   "execution_count": 43,
   "metadata": {},
   "outputs": [
    {
     "name": "stdout",
     "output_type": "stream",
     "text": [
      "Model accuracy on training set: 100.0%\n",
      "Model accuracy on test set: 70.37037037037037%\n"
     ]
    }
   ],
   "source": [
    "# Instantiate the model\n",
    "initial_logreg_ef = LogisticRegression()\n",
    "\n",
    "# Fit to training set\n",
    "initial_logreg_ef.fit(Xf_train, ef_train)\n",
    "\n",
    "# Score on training set\n",
    "print(f'Model accuracy on training set: {initial_logreg_ef.score(Xf_train, ef_train)*100}%')\n",
    "\n",
    "# Score on test set\n",
    "print(f'Model accuracy on test set: {initial_logreg_ef.score(Xf_test, ef_test)*100}%')"
   ]
  },
  {
   "cell_type": "code",
   "execution_count": 44,
   "metadata": {},
   "outputs": [
    {
     "data": {
      "text/html": [
       "<div>\n",
       "<style scoped>\n",
       "    .dataframe tbody tr th:only-of-type {\n",
       "        vertical-align: middle;\n",
       "    }\n",
       "\n",
       "    .dataframe tbody tr th {\n",
       "        vertical-align: top;\n",
       "    }\n",
       "\n",
       "    .dataframe thead th {\n",
       "        text-align: right;\n",
       "    }\n",
       "</style>\n",
       "<table border=\"1\" class=\"dataframe\">\n",
       "  <thead>\n",
       "    <tr style=\"text-align: right;\">\n",
       "      <th></th>\n",
       "      <th>Predicted angry</th>\n",
       "      <th>Predicted calm</th>\n",
       "      <th>Predicted disgusted</th>\n",
       "      <th>Predicted fearful</th>\n",
       "      <th>Predicted happy</th>\n",
       "      <th>Predicted neutral</th>\n",
       "      <th>Predicted sad</th>\n",
       "      <th>Predicted surprised</th>\n",
       "    </tr>\n",
       "  </thead>\n",
       "  <tbody>\n",
       "    <tr>\n",
       "      <td>Actual angry</td>\n",
       "      <td>20</td>\n",
       "      <td>1</td>\n",
       "      <td>3</td>\n",
       "      <td>0</td>\n",
       "      <td>2</td>\n",
       "      <td>0</td>\n",
       "      <td>2</td>\n",
       "      <td>1</td>\n",
       "    </tr>\n",
       "    <tr>\n",
       "      <td>Actual calm</td>\n",
       "      <td>0</td>\n",
       "      <td>23</td>\n",
       "      <td>1</td>\n",
       "      <td>1</td>\n",
       "      <td>1</td>\n",
       "      <td>1</td>\n",
       "      <td>2</td>\n",
       "      <td>0</td>\n",
       "    </tr>\n",
       "    <tr>\n",
       "      <td>Actual disgusted</td>\n",
       "      <td>5</td>\n",
       "      <td>1</td>\n",
       "      <td>17</td>\n",
       "      <td>1</td>\n",
       "      <td>0</td>\n",
       "      <td>1</td>\n",
       "      <td>3</td>\n",
       "      <td>1</td>\n",
       "    </tr>\n",
       "    <tr>\n",
       "      <td>Actual fearful</td>\n",
       "      <td>1</td>\n",
       "      <td>3</td>\n",
       "      <td>0</td>\n",
       "      <td>22</td>\n",
       "      <td>1</td>\n",
       "      <td>0</td>\n",
       "      <td>2</td>\n",
       "      <td>0</td>\n",
       "    </tr>\n",
       "    <tr>\n",
       "      <td>Actual happy</td>\n",
       "      <td>1</td>\n",
       "      <td>0</td>\n",
       "      <td>1</td>\n",
       "      <td>2</td>\n",
       "      <td>20</td>\n",
       "      <td>0</td>\n",
       "      <td>0</td>\n",
       "      <td>5</td>\n",
       "    </tr>\n",
       "    <tr>\n",
       "      <td>Actual neutral</td>\n",
       "      <td>0</td>\n",
       "      <td>2</td>\n",
       "      <td>1</td>\n",
       "      <td>0</td>\n",
       "      <td>0</td>\n",
       "      <td>10</td>\n",
       "      <td>1</td>\n",
       "      <td>0</td>\n",
       "    </tr>\n",
       "    <tr>\n",
       "      <td>Actual sad</td>\n",
       "      <td>1</td>\n",
       "      <td>4</td>\n",
       "      <td>0</td>\n",
       "      <td>0</td>\n",
       "      <td>4</td>\n",
       "      <td>2</td>\n",
       "      <td>18</td>\n",
       "      <td>0</td>\n",
       "    </tr>\n",
       "    <tr>\n",
       "      <td>Actual surprised</td>\n",
       "      <td>0</td>\n",
       "      <td>0</td>\n",
       "      <td>1</td>\n",
       "      <td>2</td>\n",
       "      <td>3</td>\n",
       "      <td>0</td>\n",
       "      <td>0</td>\n",
       "      <td>22</td>\n",
       "    </tr>\n",
       "  </tbody>\n",
       "</table>\n",
       "</div>"
      ],
      "text/plain": [
       "                  Predicted angry  Predicted calm  Predicted disgusted  \\\n",
       "Actual angry                   20               1                    3   \n",
       "Actual calm                     0              23                    1   \n",
       "Actual disgusted                5               1                   17   \n",
       "Actual fearful                  1               3                    0   \n",
       "Actual happy                    1               0                    1   \n",
       "Actual neutral                  0               2                    1   \n",
       "Actual sad                      1               4                    0   \n",
       "Actual surprised                0               0                    1   \n",
       "\n",
       "                  Predicted fearful  Predicted happy  Predicted neutral  \\\n",
       "Actual angry                      0                2                  0   \n",
       "Actual calm                       1                1                  1   \n",
       "Actual disgusted                  1                0                  1   \n",
       "Actual fearful                   22                1                  0   \n",
       "Actual happy                      2               20                  0   \n",
       "Actual neutral                    0                0                 10   \n",
       "Actual sad                        0                4                  2   \n",
       "Actual surprised                  2                3                  0   \n",
       "\n",
       "                  Predicted sad  Predicted surprised  \n",
       "Actual angry                  2                    1  \n",
       "Actual calm                   2                    0  \n",
       "Actual disgusted              3                    1  \n",
       "Actual fearful                2                    0  \n",
       "Actual happy                  0                    5  \n",
       "Actual neutral                1                    0  \n",
       "Actual sad                   18                    0  \n",
       "Actual surprised              0                   22  "
      ]
     },
     "execution_count": 44,
     "metadata": {},
     "output_type": "execute_result"
    }
   ],
   "source": [
    "# Having initial_logreg_ef make predictions based on the test set features\n",
    "ef_pred = initial_logreg_ef.predict(Xf_test)\n",
    "\n",
    "# Building the confusion matrix as a dataframe\n",
    "emotions = ['angry', 'calm', 'disgusted', 'fearful', 'happy', 'neutral', 'sad', 'surprised']\n",
    "ef_confusion_df = pd.DataFrame(confusion_matrix(ef_test, ef_pred))\n",
    "ef_confusion_df.columns = [f'Predicted {emotion}' for emotion in emotions]\n",
    "ef_confusion_df.index = [f'Actual {emotion}' for emotion in emotions]\n",
    "ef_confusion_df"
   ]
  },
  {
   "cell_type": "code",
   "execution_count": 45,
   "metadata": {},
   "outputs": [
    {
     "name": "stdout",
     "output_type": "stream",
     "text": [
      "              precision    recall  f1-score   support\n",
      "\n",
      "       angry       0.71      0.69      0.70        29\n",
      "        calm       0.68      0.79      0.73        29\n",
      "   disgusted       0.71      0.59      0.64        29\n",
      "     fearful       0.79      0.76      0.77        29\n",
      "       happy       0.65      0.69      0.67        29\n",
      "     neutral       0.71      0.71      0.71        14\n",
      "         sad       0.64      0.62      0.63        29\n",
      "   surprised       0.76      0.79      0.77        28\n",
      "\n",
      "    accuracy                           0.70       216\n",
      "   macro avg       0.71      0.70      0.70       216\n",
      "weighted avg       0.70      0.70      0.70       216\n",
      "\n"
     ]
    }
   ],
   "source": [
    "# Classification report\n",
    "print(classification_report(ef_test, ef_pred))"
   ]
  },
  {
   "cell_type": "code",
   "execution_count": 46,
   "metadata": {},
   "outputs": [],
   "source": [
    "# PCA on unscaled features\n",
    "\n",
    "# Instantiate PCA and fit to Xf_train\n",
    "pca = PCA().fit(Xf_train)\n",
    "\n",
    "# Transform Xf_train\n",
    "Xf_train_pca = pca.transform(Xf_train)\n",
    "\n",
    "# Transform Xf_test\n",
    "Xf_test_pca = pca.transform(Xf_test)"
   ]
  },
  {
   "cell_type": "code",
   "execution_count": 47,
   "metadata": {},
   "outputs": [],
   "source": [
    "# Standard scaling\n",
    "\n",
    "# Instantiate the scaler and fit to Xf_train\n",
    "scaler = StandardScaler().fit(Xf_train)\n",
    "\n",
    "# Transform Xf_train\n",
    "Xf_train_scaled = scaler.transform(Xf_train)\n",
    "\n",
    "# Transform Xf_test\n",
    "Xf_test_scaled = scaler.transform(Xf_test)"
   ]
  },
  {
   "cell_type": "code",
   "execution_count": 48,
   "metadata": {},
   "outputs": [],
   "source": [
    "# PCA on scaled features\n",
    "\n",
    "# Instantiate PCA and fit to Xf_train_scaled\n",
    "pca_scaled = PCA().fit(Xf_train_scaled)\n",
    "\n",
    "# Transform Xf_train_scaled\n",
    "Xf_train_scaled_pca = pca_scaled.transform(Xf_train_scaled)\n",
    "\n",
    "# Transform Xf_test_scaled\n",
    "Xf_test_scaled_pca = pca_scaled.transform(Xf_test_scaled)"
   ]
  },
  {
   "cell_type": "code",
   "execution_count": 50,
   "metadata": {},
   "outputs": [
    {
     "data": {
      "image/png": "[encoded data removed]",
      "text/plain": [
       "<Figure size 1080x360 with 2 Axes>"
      ]
     },
     "metadata": {
      "needs_background": "light"
     },
     "output_type": "display_data"
    }
   ],
   "source": [
    "# Plot the explained variance ratios\n",
    "\n",
    "plt.subplots(1, 2, figsize = (15, 5))\n",
    "\n",
    "# Unscaled\n",
    "plt.subplot(1, 2, 1)\n",
    "plt.bar(np.arange(1, len(pca.explained_variance_ratio_)+1), pca.explained_variance_ratio_)\n",
    "plt.xlabel('Principal Component')\n",
    "plt.ylabel('Explained Variance Ratio')\n",
    "plt.title('PCA on Unscaled Features')\n",
    "plt.ylim(top = 0.6) # Equalizing the y-axes\n",
    "\n",
    "# Scaled\n",
    "plt.subplot(1, 2, 2)\n",
    "plt.bar(np.arange(1, len(pca_scaled.explained_variance_ratio_)+1), pca_scaled.explained_variance_ratio_)\n",
    "plt.xlabel('Principal Component')\n",
    "plt.ylabel('Explained Variance Ratio')\n",
    "plt.title('PCA on Scaled Features')\n",
    "plt.ylim(top = 0.6) # Equalizing the y-axes\n",
    "\n",
    "plt.tight_layout()\n",
    "plt.show()"
   ]
  },
  {
   "cell_type": "markdown",
   "metadata": {},
   "source": [
    "These are the same trends I saw previously for male emotions.\n",
    "\n",
    "How much variance is explained by certain numbers of unscaled and scaled principal components? This will help me determine how many principal components to try in my grid searches later."
   ]
  },
  {
   "cell_type": "code",
   "execution_count": 51,
   "metadata": {},
   "outputs": [
    {
     "name": "stdout",
     "output_type": "stream",
     "text": [
      "Variance explained by 502 unscaled principal components: 100.0%\n",
      "Variance explained by 450 unscaled principal components: 99.91%\n",
      "Variance explained by 400 unscaled principal components: 99.76%\n",
      "Variance explained by 350 unscaled principal components: 99.53%\n",
      "Variance explained by 300 unscaled principal components: 99.18%\n",
      "Variance explained by 250 unscaled principal components: 98.67%\n",
      "Variance explained by 200 unscaled principal components: 97.88%\n",
      "Variance explained by 150 unscaled principal components: 96.65%\n",
      "Variance explained by 100 unscaled principal components: 94.51%\n",
      "Variance explained by 50 unscaled principal components: 89.88%\n"
     ]
    }
   ],
   "source": [
    "# Unscaled\n",
    "num_components = [503, 451, 401, 351, 301, 251, 201, 151, 101, 51]\n",
    "for n in num_components:\n",
    "    print(f'Variance explained by {n-1} unscaled principal components: {np.round(np.sum(pca.explained_variance_ratio_[:n])*100, 2)}%')"
   ]
  },
  {
   "cell_type": "code",
   "execution_count": 52,
   "metadata": {},
   "outputs": [
    {
     "name": "stdout",
     "output_type": "stream",
     "text": [
      "Variance explained by 502 scaled principal components: 100.0%\n",
      "Variance explained by 450 scaled principal components: 99.5%\n",
      "Variance explained by 400 scaled principal components: 98.7%\n",
      "Variance explained by 350 scaled principal components: 97.5%\n",
      "Variance explained by 300 scaled principal components: 95.77%\n",
      "Variance explained by 250 scaled principal components: 93.28%\n",
      "Variance explained by 200 scaled principal components: 89.72%\n",
      "Variance explained by 150 scaled principal components: 84.54%\n",
      "Variance explained by 100 scaled principal components: 76.58%\n",
      "Variance explained by 50 scaled principal components: 62.87%\n"
     ]
    }
   ],
   "source": [
    "# Scaled\n",
    "num_components = [503, 451, 401, 351, 301, 251, 201, 151, 101, 51]\n",
    "for n in num_components:\n",
    "    print(f'Variance explained by {n-1} scaled principal components: {np.round(np.sum(pca_scaled.explained_variance_ratio_[:n])*100, 2)}%')"
   ]
  },
  {
   "cell_type": "markdown",
   "metadata": {},
   "source": [
    "Like before, I will now do a grid search for each classifier type, with five-fold cross-validation to optimize the hyperparameters."
   ]
  },
  {
   "cell_type": "code",
   "execution_count": 53,
   "metadata": {},
   "outputs": [],
   "source": [
    "# Cache\n",
    "cachedir = mkdtemp()\n",
    "\n",
    "# Pipeline (these values are placeholders)\n",
    "my_pipeline = Pipeline(steps=[('scaler', StandardScaler()), ('dim_reducer', PCA()), ('model', LogisticRegression())], memory=cachedir)"
   ]
  },
  {
   "cell_type": "code",
   "execution_count": 54,
   "metadata": {},
   "outputs": [],
   "source": [
    "# Parameter grid for log reg\n",
    "logreg_param_grid = [\n",
    "    # l1 without PCA\n",
    "    # unscaled and scaled * 9 regularization strengths = 18 models\n",
    "    {'scaler': [None, StandardScaler()], 'dim_reducer': [None], 'model': [LogisticRegression(penalty='l1', n_jobs=-1)],\n",
    "     'model__C': [0.0001, 0.001, 0.01, 0.1, 1, 10, 100, 1000, 10000]},\n",
    "    \n",
    "    # l1 unscaled with PCA\n",
    "    # 6 PCAs * 9 regularization strengths = 54 models\n",
    "    {'scaler': [None], 'dim_reducer': [PCA()], 'dim_reducer__n_components': np.arange(50, 301, 50),\n",
    "     'model': [LogisticRegression(penalty='l1', n_jobs=-1)], 'model__C': [0.0001, 0.001, 0.01, 0.1, 1, 10, 100, 1000, 10000]},\n",
    "    \n",
    "    # l1 scaled with PCA\n",
    "    # 4 PCAs * 9 regularization strengths = 36 models\n",
    "    {'scaler': [StandardScaler()], 'dim_reducer': [PCA()], 'dim_reducer__n_components': np.arange(200, 351, 50),\n",
    "     'model': [LogisticRegression(penalty='l1', n_jobs=-1)], 'model__C': [0.0001, 0.001, 0.01, 0.1, 1, 10, 100, 1000, 10000]},\n",
    "    \n",
    "    # l2 (default) without PCA\n",
    "    # unscaled and scaled * 9 regularization strengths = 18 models\n",
    "    {'scaler': [None, StandardScaler()], 'dim_reducer': [None], 'model': [LogisticRegression(solver='lbfgs', n_jobs=-1)],\n",
    "     'model__C': [0.0001, 0.001, 0.01, 0.1, 1, 10, 100, 1000, 10000]},\n",
    "    \n",
    "    # l2 (default) unscaled with PCA\n",
    "    # 6 PCAs * 9 regularization strengths = 54 models\n",
    "    {'scaler': [None], 'dim_reducer': [PCA()], 'dim_reducer__n_components': np.arange(50, 301, 50),\n",
    "     'model': [LogisticRegression(solver='lbfgs', n_jobs=-1)], 'model__C': [0.0001, 0.001, 0.01, 0.1, 1, 10, 100, 1000, 10000]},\n",
    "    \n",
    "    # l2 (default) scaled with PCA\n",
    "    # 4 PCAs * 9 regularization strengths = 36 models\n",
    "    {'scaler': [StandardScaler()], 'dim_reducer': [PCA()], 'dim_reducer__n_components': np.arange(200, 351, 50),\n",
    "     'model': [LogisticRegression(solver='lbfgs', n_jobs=-1)], 'model__C': [0.0001, 0.001, 0.01, 0.1, 1, 10, 100, 1000, 10000]}\n",
    "]\n",
    "\n",
    "# Instantiate the log reg grid search\n",
    "logreg_grid_search = GridSearchCV(estimator=my_pipeline, param_grid=logreg_param_grid, cv=5, n_jobs=-1, verbose=5)"
   ]
  },
  {
   "cell_type": "code",
   "execution_count": 55,
   "metadata": {},
   "outputs": [
    {
     "name": "stdout",
     "output_type": "stream",
     "text": [
      "Fitting 5 folds for each of 216 candidates, totalling 1080 fits\n"
     ]
    },
    {
     "name": "stderr",
     "output_type": "stream",
     "text": [
      "[Parallel(n_jobs=-1)]: Using backend LokyBackend with 4 concurrent workers.\n",
      "[Parallel(n_jobs=-1)]: Done  10 tasks      | elapsed:    3.2s\n",
      "[Parallel(n_jobs=-1)]: Done  64 tasks      | elapsed:   28.0s\n",
      "[Parallel(n_jobs=-1)]: Done 154 tasks      | elapsed:   47.6s\n",
      "[Parallel(n_jobs=-1)]: Done 280 tasks      | elapsed:  1.1min\n",
      "[Parallel(n_jobs=-1)]: Done 442 tasks      | elapsed:  1.4min\n",
      "[Parallel(n_jobs=-1)]: Done 640 tasks      | elapsed:  3.2min\n",
      "[Parallel(n_jobs=-1)]: Done 874 tasks      | elapsed:  3.8min\n",
      "[Parallel(n_jobs=-1)]: Done 1080 out of 1080 | elapsed:  4.4min finished\n"
     ]
    }
   ],
   "source": [
    "# Fit the log reg grid search\n",
    "fitted_logreg_grid_ef = logreg_grid_search.fit(Xf_train, ef_train)"
   ]
  },
  {
   "cell_type": "code",
   "execution_count": 56,
   "metadata": {},
   "outputs": [
    {
     "data": {
      "text/plain": [
       "Pipeline(memory='C:\\\\Users\\\\Patrick\\\\AppData\\\\Local\\\\Temp\\\\tmpvarqcjyw',\n",
       "         steps=[('scaler',\n",
       "                 StandardScaler(copy=True, with_mean=True, with_std=True)),\n",
       "                ('dim_reducer',\n",
       "                 PCA(copy=True, iterated_power='auto', n_components=350,\n",
       "                     random_state=None, svd_solver='auto', tol=0.0,\n",
       "                     whiten=False)),\n",
       "                ('model',\n",
       "                 LogisticRegression(C=10, class_weight=None, dual=False,\n",
       "                                    fit_intercept=True, intercept_scaling=1,\n",
       "                                    l1_ratio=None, max_iter=100,\n",
       "                                    multi_class='warn', n_jobs=-1, penalty='l2',\n",
       "                                    random_state=None, solver='lbfgs',\n",
       "                                    tol=0.0001, verbose=0, warm_start=False))],\n",
       "         verbose=False)"
      ]
     },
     "execution_count": 56,
     "metadata": {},
     "output_type": "execute_result"
    }
   ],
   "source": [
    "# What was the best log reg?\n",
    "fitted_logreg_grid_ef.best_estimator_"
   ]
  },
  {
   "cell_type": "code",
   "execution_count": 57,
   "metadata": {},
   "outputs": [
    {
     "name": "stdout",
     "output_type": "stream",
     "text": [
      "The best log reg's accuracy on the training set: 100.0%\n",
      "The best log reg's accuracy on the test set: 72.68518518518519%\n"
     ]
    }
   ],
   "source": [
    "print(f\"The best log reg's accuracy on the training set: {fitted_logreg_grid_ef.score(Xf_train, ef_train)*100}%\")\n",
    "print(f\"The best log reg's accuracy on the test set: {fitted_logreg_grid_ef.score(Xf_test, ef_test)*100}%\")"
   ]
  },
  {
   "cell_type": "code",
   "execution_count": 62,
   "metadata": {},
   "outputs": [
    {
     "data": {
      "text/plain": [
       "['pickle4_female_emotion_logreg.pkl']"
      ]
     },
     "execution_count": 62,
     "metadata": {},
     "output_type": "execute_result"
    }
   ],
   "source": [
    "# Pickling the best log reg\n",
    "joblib.dump(fitted_logreg_grid_ef.best_estimator_, 'pickle4_female_emotion_logreg.pkl')"
   ]
  },
  {
   "cell_type": "code",
   "execution_count": 58,
   "metadata": {},
   "outputs": [],
   "source": [
    "# Parameter grid for SVM\n",
    "svm_param_grid = [\n",
    "    # unscaled and scaled * 9 regularization strengths = 18 models\n",
    "    {'scaler': [None, StandardScaler()], 'dim_reducer': [None], 'model': [SVC()], 'model__C': [0.0001, 0.001, 0.01, 0.1, 1, 10, 100, 1000, 10000]},\n",
    "    \n",
    "    # unscaled\n",
    "    # 6 PCAs * 9 regularization strengths = 54 models\n",
    "    {'scaler': [None], 'dim_reducer': [PCA()], 'dim_reducer__n_components': np.arange(50, 301, 50), 'model': [SVC()],\n",
    "     'model__C':[0.0001, 0.001, 0.01, 0.1, 1, 10, 100, 1000, 10000]},\n",
    "    \n",
    "    # scaled\n",
    "    # 4 PCAs * 9 regularization strengths = 36 models\n",
    "    {'scaler': [StandardScaler()], 'dim_reducer': [PCA()], 'dim_reducer__n_components': np.arange(200, 351, 50), 'model': [SVC()],\n",
    "     'model__C':[0.0001, 0.001, 0.01, 0.1, 1, 10, 100, 1000, 10000]}\n",
    "]\n",
    "\n",
    "# Instantiate the SVM grid search\n",
    "svm_grid_search = GridSearchCV(estimator=my_pipeline, param_grid=svm_param_grid, cv=5, n_jobs=-1, verbose=5)"
   ]
  },
  {
   "cell_type": "code",
   "execution_count": 59,
   "metadata": {},
   "outputs": [
    {
     "name": "stdout",
     "output_type": "stream",
     "text": [
      "Fitting 5 folds for each of 108 candidates, totalling 540 fits\n"
     ]
    },
    {
     "name": "stderr",
     "output_type": "stream",
     "text": [
      "[Parallel(n_jobs=-1)]: Using backend LokyBackend with 4 concurrent workers.\n",
      "[Parallel(n_jobs=-1)]: Done  10 tasks      | elapsed:    5.1s\n",
      "[Parallel(n_jobs=-1)]: Done  64 tasks      | elapsed:   28.6s\n",
      "[Parallel(n_jobs=-1)]: Done 154 tasks      | elapsed:   43.7s\n",
      "[Parallel(n_jobs=-1)]: Done 280 tasks      | elapsed:   53.9s\n",
      "[Parallel(n_jobs=-1)]: Done 442 tasks      | elapsed:  1.2min\n",
      "[Parallel(n_jobs=-1)]: Done 540 out of 540 | elapsed:  1.3min finished\n"
     ]
    }
   ],
   "source": [
    "# Fit the SVM grid search\n",
    "fitted_svm_grid_ef = svm_grid_search.fit(Xf_train, ef_train)"
   ]
  },
  {
   "cell_type": "code",
   "execution_count": 60,
   "metadata": {},
   "outputs": [
    {
     "data": {
      "text/plain": [
       "Pipeline(memory='C:\\\\Users\\\\Patrick\\\\AppData\\\\Local\\\\Temp\\\\tmpvarqcjyw',\n",
       "         steps=[('scaler',\n",
       "                 StandardScaler(copy=True, with_mean=True, with_std=True)),\n",
       "                ('dim_reducer', None),\n",
       "                ('model',\n",
       "                 SVC(C=10, cache_size=200, class_weight=None, coef0=0.0,\n",
       "                     decision_function_shape='ovr', degree=3,\n",
       "                     gamma='auto_deprecated', kernel='rbf', max_iter=-1,\n",
       "                     probability=False, random_state=None, shrinking=True,\n",
       "                     tol=0.001, verbose=False))],\n",
       "         verbose=False)"
      ]
     },
     "execution_count": 60,
     "metadata": {},
     "output_type": "execute_result"
    }
   ],
   "source": [
    "# What was the best SVM?\n",
    "fitted_svm_grid_ef.best_estimator_"
   ]
  },
  {
   "cell_type": "code",
   "execution_count": 61,
   "metadata": {},
   "outputs": [
    {
     "name": "stdout",
     "output_type": "stream",
     "text": [
      "The best SVM's accuracy on the training set: 100.0%\n",
      "The best SVM's accuracy on the test set: 74.07407407407408%\n"
     ]
    }
   ],
   "source": [
    "print(f\"The best SVM's accuracy on the training set: {fitted_svm_grid_ef.score(Xf_train, ef_train)*100}%\")\n",
    "print(f\"The best SVM's accuracy on the test set: {fitted_svm_grid_ef.score(Xf_test, ef_test)*100}%\")"
   ]
  },
  {
   "cell_type": "code",
   "execution_count": 63,
   "metadata": {},
   "outputs": [
    {
     "data": {
      "text/plain": [
       "['pickle5_female_emotion_svm.pkl']"
      ]
     },
     "execution_count": 63,
     "metadata": {},
     "output_type": "execute_result"
    }
   ],
   "source": [
    "# Pickling the best SVM\n",
    "joblib.dump(fitted_svm_grid_ef.best_estimator_, 'pickle5_female_emotion_svm.pkl')"
   ]
  },
  {
   "cell_type": "markdown",
   "metadata": {},
   "source": [
    "Like before, I will try loading in the pickled models and evaluate them using confusion matrices and classification reports."
   ]
  },
  {
   "cell_type": "code",
   "execution_count": 40,
   "metadata": {},
   "outputs": [],
   "source": [
    "# Loading in the best female emotion classifiers\n",
    "female_emotion_logreg = joblib.load('pickle4_female_emotion_logreg.pkl')\n",
    "female_emotion_svm = joblib.load('pickle5_female_emotion_svm.pkl')"
   ]
  },
  {
   "cell_type": "code",
   "execution_count": 45,
   "metadata": {},
   "outputs": [
    {
     "data": {
      "image/png": "[encoded data removed]",
      "text/plain": [
       "<Figure size 864x576 with 2 Axes>"
      ]
     },
     "metadata": {
      "needs_background": "light"
     },
     "output_type": "display_data"
    }
   ],
   "source": [
    "ef_pred = female_emotion_logreg.predict(Xf_test)\n",
    "\n",
    "# Building the confusion matrix as a dataframe\n",
    "emotions = ['angry', 'calm', 'disgusted', 'fearful', 'happy', 'neutral', 'sad', 'surprised']\n",
    "confusion_df = pd.DataFrame(confusion_matrix(ef_test, ef_pred))\n",
    "confusion_df.columns = [f'Predicted {emotion}' for emotion in emotions]\n",
    "confusion_df.index = [f'Actual {emotion}' for emotion in emotions]\n",
    "\n",
    "# Converting the above to precision scores\n",
    "confusion_df_pct = round(confusion_df/confusion_df.sum(axis = 0)*100, 2)\n",
    "\n",
    "# Heatmap of precision scores\n",
    "plt.figure(figsize=(12, 8))\n",
    "sns.heatmap(confusion_df_pct, annot=True, linewidths=0.5)\n",
    "plt.xticks(rotation=45)\n",
    "plt.show()"
   ]
  },
  {
   "cell_type": "code",
   "execution_count": 46,
   "metadata": {},
   "outputs": [
    {
     "name": "stdout",
     "output_type": "stream",
     "text": [
      "              precision    recall  f1-score   support\n",
      "\n",
      "       angry       0.74      0.90      0.81        29\n",
      "        calm       0.77      0.83      0.80        29\n",
      "   disgusted       0.79      0.76      0.77        29\n",
      "     fearful       0.76      0.66      0.70        29\n",
      "       happy       0.71      0.59      0.64        29\n",
      "     neutral       0.83      0.71      0.77        14\n",
      "         sad       0.58      0.62      0.60        29\n",
      "   surprised       0.70      0.75      0.72        28\n",
      "\n",
      "    accuracy                           0.73       216\n",
      "   macro avg       0.74      0.73      0.73       216\n",
      "weighted avg       0.73      0.73      0.73       216\n",
      "\n"
     ]
    }
   ],
   "source": [
    "# Classification report\n",
    "print(classification_report(ef_test, ef_pred))"
   ]
  },
  {
   "cell_type": "code",
   "execution_count": 47,
   "metadata": {},
   "outputs": [
    {
     "data": {
      "image/png": "[encoded data removed]",
      "text/plain": [
       "<Figure size 864x576 with 2 Axes>"
      ]
     },
     "metadata": {
      "needs_background": "light"
     },
     "output_type": "display_data"
    }
   ],
   "source": [
    "ef_pred = female_emotion_svm.predict(Xf_test)\n",
    "\n",
    "# Building the confusion matrix as a dataframe\n",
    "emotions = ['angry', 'calm', 'disgusted', 'fearful', 'happy', 'neutral', 'sad', 'surprised']\n",
    "confusion_df = pd.DataFrame(confusion_matrix(ef_test, ef_pred))\n",
    "confusion_df.columns = [f'Predicted {emotion}' for emotion in emotions]\n",
    "confusion_df.index = [f'Actual {emotion}' for emotion in emotions]\n",
    "\n",
    "# Converting the above to precision scores\n",
    "confusion_df_pct = round(confusion_df/confusion_df.sum(axis = 0)*100, 2)\n",
    "\n",
    "# Heatmap of precision scores\n",
    "plt.figure(figsize=(12, 8))\n",
    "sns.heatmap(confusion_df_pct, annot=True, linewidths=0.5)\n",
    "plt.xticks(rotation=45)\n",
    "plt.show()"
   ]
  },
  {
   "cell_type": "code",
   "execution_count": 48,
   "metadata": {},
   "outputs": [
    {
     "name": "stdout",
     "output_type": "stream",
     "text": [
      "              precision    recall  f1-score   support\n",
      "\n",
      "       angry       0.69      0.76      0.72        29\n",
      "        calm       0.79      0.79      0.79        29\n",
      "   disgusted       0.79      0.79      0.79        29\n",
      "     fearful       0.71      0.76      0.73        29\n",
      "       happy       0.80      0.55      0.65        29\n",
      "     neutral       0.86      0.86      0.86        14\n",
      "         sad       0.74      0.69      0.71        29\n",
      "   surprised       0.65      0.79      0.71        28\n",
      "\n",
      "    accuracy                           0.74       216\n",
      "   macro avg       0.75      0.75      0.75       216\n",
      "weighted avg       0.75      0.74      0.74       216\n",
      "\n"
     ]
    }
   ],
   "source": [
    "# Classification report\n",
    "print(classification_report(ef_test, ef_pred))"
   ]
  }
 ],
 "metadata": {
  "kernelspec": {
   "display_name": "Python 3",
   "language": "python",
   "name": "python3"
  },
  "language_info": {
   "codemirror_mode": {
    "name": "ipython",
    "version": 3
   },
   "file_extension": ".py",
   "mimetype": "text/x-python",
   "name": "python",
   "nbconvert_exporter": "python",
   "pygments_lexer": "ipython3",
   "version": "3.7.4"
  }
 },
 "nbformat": 4,
 "nbformat_minor": 4
}
